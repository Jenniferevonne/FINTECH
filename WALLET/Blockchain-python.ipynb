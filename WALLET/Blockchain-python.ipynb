{
 "cells": [
  {
   "cell_type": "code",
   "execution_count": 2,
   "metadata": {},
   "outputs": [
    {
     "name": "stdout",
     "output_type": "stream",
     "text": [
      "[{'path': \"m/44'/0'/0'/0/0\", 'address': '1EAHo8EU2YipvyzeuyA69edjHgcJ3iYD2b', 'privkey': 'L5HPXqCHAQptYXtC5Jjg5hKfmNZzL4go5ReaV7Ba1VskNWkK48SQ', 'pubkey': '028133822e055d6d97afb72fbaa5dece83bcd8787fbbd71533486e150a14416701'}, {'path': \"m/44'/0'/0'/0/1\", 'address': '1AyxzPUyb73pAiTzZCLatRthWHSgnehe1M', 'privkey': 'L2wk4sQYa3GctAypxHgEEv5cGpGhhADPzZrVNon8C6FQZjJ25m2v', 'pubkey': '02718c85d0e34047da20f6c3dff7925a7d13d4817383d57ea147910f578ddb18b1'}, {'path': \"m/44'/0'/0'/0/2\", 'address': '1MdH3MwncYhyTyxjKAz872YdXq3Fwv9N9U', 'privkey': 'L4aYvsUvQ4uMzWpEMtZ9f9xfvdUr9Rpze1TW9eFBhUTwYKovV6sq', 'pubkey': '03041a20d64160e5eb7d0fa5882d33a7f3c2b196ba21d841ceec56f2808da1f4c6'}, {'path': \"m/44'/0'/0'/0/3\", 'address': '1FwsJJBsKkEJDTNsPRAangRyAtCLisBeMY', 'privkey': 'Ky9bBJmyD2bX8LyLSBV1SLUkjvrWYPSdHhswqMoYpz22jzfatCdx', 'pubkey': '03a1ff6508948777f029c4f0d44b7ca93dccc01e09952cd9b5975c64c02fb1b233'}, {'path': \"m/44'/0'/0'/0/4\", 'address': '192sCroamTjijr9kD25heDko6ABrq2LEVv', 'privkey': 'L314mm2MCsqHHLwry5qKJXNm8xpyphAUo9T67UcCRLTJH4KJbRV9', 'pubkey': '03383e45d312003cf1824744d3cec4833f848bc75c2fdea4de34c8fda61abb598c'}, {'path': \"m/44'/0'/0'/0/5\", 'address': '1JFgsMBXGeX81SGPwpU3xyDvo1cCAZ389m', 'privkey': 'L4hmptVCDvXpYF7PtD6xY8hiFCnSRWKn5edHw2hwpztyQvvC2vXj', 'pubkey': '023edfc3592e4b7278b2942b4e5028d2bb78912080066aeba51f71025235086ee9'}, {'path': \"m/44'/0'/0'/0/6\", 'address': '18qYh3RRkKybKMNrto3JwYvHYP2aNVjfeC', 'privkey': 'L44GVR763iF7fTasBJoWYoETqH4shv2rgwSjwrYwhB7w38sMktsA', 'pubkey': '03f193a5c0cccac8dbd69a27a3648b9a372dbc11ad31eb7c58aac15d24c1590cd5'}, {'path': \"m/44'/0'/0'/0/7\", 'address': '1NtJKRpEwKwGnNbwK2dUxj2NgxVBpMN6RD', 'privkey': 'L2rnSaVtg6d3rmnweazpm7PR4cA932pPW9YJqv4N9R85Ckb4h6kp', 'pubkey': '02323a533f072696ca40d85952a4406f1b94de6ced7fead0c1f5c9eb33c71f1a77'}, {'path': \"m/44'/0'/0'/0/8\", 'address': '1GAXmroFGhSYXtp4yFwH5n61ocFsrD9BkC', 'privkey': 'KxYLTywo9rMCUcBS5GAvUk4rhaZaeih1dkzCDaK6fJGpNhFS8WhC', 'pubkey': '02ca0a66ebc60d2205636184e4a8d7f3302e7f76f06c5a1e799d7e7a5bf9b1806c'}, {'path': \"m/44'/0'/0'/0/9\", 'address': '1NURSUruzDBX1SDbZqNELGQ81XeqRQBhkx', 'privkey': 'KwsuDNuXuRXmfuPdmWPxuH9tQ29WnG6Wiq73nrnKg2mE4TgHfSxz', 'pubkey': '0322322829ba044cd73719935fe4308c2096c99d46cfbb0214449a5b1fb4dc2742'}]\n"
     ]
    }
   ],
   "source": [
    "import subprocess\n",
    "import json\n",
    "\n",
    "command = 'php hd-wallet-derive/hd-wallet-derive.php -g --mnemonic=\"hip useless buzz empty denial spider obscure power airport alarm praise brave\" --cols=path,address,privkey,pubkey --format=json'\n",
    "\n",
    "p = subprocess.Popen(command, stdout=subprocess.PIPE, shell=True)\n",
    "output, err = p.communicate()\n",
    "p_status = p.wait()\n",
    "\n",
    "keys = json.loads(output)\n",
    "print(keys)\n"
   ]
  },
  {
   "cell_type": "code",
   "execution_count": null,
   "metadata": {},
   "outputs": [],
   "source": []
  }
 ],
 "metadata": {
  "kernelspec": {
   "display_name": "Python [conda env:ethereum]",
   "language": "python",
   "name": "conda-env-ethereum-py"
  },
  "language_info": {
   "codemirror_mode": {
    "name": "ipython",
    "version": 3
   },
   "file_extension": ".py",
   "mimetype": "text/x-python",
   "name": "python",
   "nbconvert_exporter": "python",
   "pygments_lexer": "ipython3",
   "version": "3.8.3"
  }
 },
 "nbformat": 4,
 "nbformat_minor": 4
}
