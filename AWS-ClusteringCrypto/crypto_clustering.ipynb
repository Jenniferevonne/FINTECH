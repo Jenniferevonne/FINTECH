{
 "cells": [
  {
   "cell_type": "markdown",
   "metadata": {},
   "source": [
    "# Clustering Crypto"
   ]
  },
  {
   "cell_type": "code",
   "execution_count": 44,
   "metadata": {},
   "outputs": [],
   "source": [
    "# Initial imports\n",
    "import requests\n",
    "import pandas as pd\n",
    "import matplotlib.pyplot as plt\n",
    "import hvplot.pandas\n",
    "import plotly.express as px\n",
    "from sklearn.preprocessing import StandardScaler, MinMaxScaler\n",
    "from sklearn.decomposition import PCA\n",
    "from sklearn.cluster import KMeans"
   ]
  },
  {
   "cell_type": "code",
   "execution_count": 23,
   "metadata": {},
   "outputs": [
    {
     "name": "stdout",
     "output_type": "stream",
     "text": [
      "Collecting virtualenv\n",
      "  Downloading virtualenv-20.2.1-py2.py3-none-any.whl (4.9 MB)\n",
      "Requirement already satisfied: filelock<4,>=3.0.0 in c:\\users\\jennnifer\\anaconda3\\lib\\site-packages (from virtualenv) (3.0.12)\n",
      "Collecting appdirs<2,>=1.4.3\n",
      "  Downloading appdirs-1.4.4-py2.py3-none-any.whl (9.6 kB)\n",
      "Requirement already satisfied: six<2,>=1.9.0 in c:\\users\\jennnifer\\anaconda3\\lib\\site-packages (from virtualenv) (1.15.0)Note: you may need to restart the kernel to use updated packages.\n",
      "\n",
      "Collecting distlib<1,>=0.3.1\n",
      "  Downloading distlib-0.3.1-py2.py3-none-any.whl (335 kB)\n",
      "Installing collected packages: appdirs, distlib, virtualenv\n",
      "Successfully installed appdirs-1.4.4 distlib-0.3.1 virtualenv-20.2.1\n"
     ]
    }
   ],
   "source": [
    "pip install virtualenv"
   ]
  },
  {
   "cell_type": "markdown",
   "metadata": {},
   "source": [
    "### Fetching Cryptocurrency Data"
   ]
  },
  {
   "cell_type": "code",
   "execution_count": 24,
   "metadata": {},
   "outputs": [],
   "source": [
    "# Use the following endpoint to fetch json data\n",
    "url = \"https://min-api.cryptocompare.com/data/all/coinlist\""
   ]
  },
  {
   "cell_type": "code",
   "execution_count": 25,
   "metadata": {},
   "outputs": [],
   "source": [
    "crypto_df = pd.read_csv(\"crypto_data.csv\", index_col=0)"
   ]
  },
  {
   "cell_type": "code",
   "execution_count": 26,
   "metadata": {},
   "outputs": [
    {
     "data": {
      "text/html": [
       "<div>\n",
       "<style scoped>\n",
       "    .dataframe tbody tr th:only-of-type {\n",
       "        vertical-align: middle;\n",
       "    }\n",
       "\n",
       "    .dataframe tbody tr th {\n",
       "        vertical-align: top;\n",
       "    }\n",
       "\n",
       "    .dataframe thead th {\n",
       "        text-align: right;\n",
       "    }\n",
       "</style>\n",
       "<table border=\"1\" class=\"dataframe\">\n",
       "  <thead>\n",
       "    <tr style=\"text-align: right;\">\n",
       "      <th></th>\n",
       "      <th>CoinName</th>\n",
       "      <th>Algorithm</th>\n",
       "      <th>IsTrading</th>\n",
       "      <th>ProofType</th>\n",
       "      <th>TotalCoinsMined</th>\n",
       "      <th>TotalCoinSupply</th>\n",
       "    </tr>\n",
       "  </thead>\n",
       "  <tbody>\n",
       "    <tr>\n",
       "      <th>42</th>\n",
       "      <td>42 Coin</td>\n",
       "      <td>Scrypt</td>\n",
       "      <td>True</td>\n",
       "      <td>PoW/PoS</td>\n",
       "      <td>4.199995e+01</td>\n",
       "      <td>42</td>\n",
       "    </tr>\n",
       "    <tr>\n",
       "      <th>365</th>\n",
       "      <td>365Coin</td>\n",
       "      <td>X11</td>\n",
       "      <td>True</td>\n",
       "      <td>PoW/PoS</td>\n",
       "      <td>NaN</td>\n",
       "      <td>2300000000</td>\n",
       "    </tr>\n",
       "    <tr>\n",
       "      <th>404</th>\n",
       "      <td>404Coin</td>\n",
       "      <td>Scrypt</td>\n",
       "      <td>True</td>\n",
       "      <td>PoW/PoS</td>\n",
       "      <td>1.055185e+09</td>\n",
       "      <td>532000000</td>\n",
       "    </tr>\n",
       "    <tr>\n",
       "      <th>611</th>\n",
       "      <td>SixEleven</td>\n",
       "      <td>SHA-256</td>\n",
       "      <td>True</td>\n",
       "      <td>PoW</td>\n",
       "      <td>NaN</td>\n",
       "      <td>611000</td>\n",
       "    </tr>\n",
       "    <tr>\n",
       "      <th>808</th>\n",
       "      <td>808</td>\n",
       "      <td>SHA-256</td>\n",
       "      <td>True</td>\n",
       "      <td>PoW/PoS</td>\n",
       "      <td>0.000000e+00</td>\n",
       "      <td>0</td>\n",
       "    </tr>\n",
       "  </tbody>\n",
       "</table>\n",
       "</div>"
      ],
      "text/plain": [
       "      CoinName Algorithm  IsTrading ProofType  TotalCoinsMined TotalCoinSupply\n",
       "42     42 Coin    Scrypt       True   PoW/PoS     4.199995e+01              42\n",
       "365    365Coin       X11       True   PoW/PoS              NaN      2300000000\n",
       "404    404Coin    Scrypt       True   PoW/PoS     1.055185e+09       532000000\n",
       "611  SixEleven   SHA-256       True       PoW              NaN          611000\n",
       "808        808   SHA-256       True   PoW/PoS     0.000000e+00               0"
      ]
     },
     "execution_count": 26,
     "metadata": {},
     "output_type": "execute_result"
    }
   ],
   "source": [
    "crypto_df.head()"
   ]
  },
  {
   "cell_type": "markdown",
   "metadata": {},
   "source": [
    "### Data Preprocessing"
   ]
  },
  {
   "cell_type": "code",
   "execution_count": 27,
   "metadata": {},
   "outputs": [
    {
     "data": {
      "text/html": [
       "<div>\n",
       "<style scoped>\n",
       "    .dataframe tbody tr th:only-of-type {\n",
       "        vertical-align: middle;\n",
       "    }\n",
       "\n",
       "    .dataframe tbody tr th {\n",
       "        vertical-align: top;\n",
       "    }\n",
       "\n",
       "    .dataframe thead th {\n",
       "        text-align: right;\n",
       "    }\n",
       "</style>\n",
       "<table border=\"1\" class=\"dataframe\">\n",
       "  <thead>\n",
       "    <tr style=\"text-align: right;\">\n",
       "      <th></th>\n",
       "      <th>CoinName</th>\n",
       "      <th>Algorithm</th>\n",
       "      <th>IsTrading</th>\n",
       "      <th>ProofType</th>\n",
       "      <th>TotalCoinsMined</th>\n",
       "      <th>TotalCoinSupply</th>\n",
       "    </tr>\n",
       "  </thead>\n",
       "  <tbody>\n",
       "    <tr>\n",
       "      <th>42</th>\n",
       "      <td>42 Coin</td>\n",
       "      <td>Scrypt</td>\n",
       "      <td>True</td>\n",
       "      <td>PoW/PoS</td>\n",
       "      <td>4.199995e+01</td>\n",
       "      <td>42</td>\n",
       "    </tr>\n",
       "    <tr>\n",
       "      <th>365</th>\n",
       "      <td>365Coin</td>\n",
       "      <td>X11</td>\n",
       "      <td>True</td>\n",
       "      <td>PoW/PoS</td>\n",
       "      <td>NaN</td>\n",
       "      <td>2300000000</td>\n",
       "    </tr>\n",
       "    <tr>\n",
       "      <th>404</th>\n",
       "      <td>404Coin</td>\n",
       "      <td>Scrypt</td>\n",
       "      <td>True</td>\n",
       "      <td>PoW/PoS</td>\n",
       "      <td>1.055185e+09</td>\n",
       "      <td>532000000</td>\n",
       "    </tr>\n",
       "    <tr>\n",
       "      <th>611</th>\n",
       "      <td>SixEleven</td>\n",
       "      <td>SHA-256</td>\n",
       "      <td>True</td>\n",
       "      <td>PoW</td>\n",
       "      <td>NaN</td>\n",
       "      <td>611000</td>\n",
       "    </tr>\n",
       "    <tr>\n",
       "      <th>808</th>\n",
       "      <td>808</td>\n",
       "      <td>SHA-256</td>\n",
       "      <td>True</td>\n",
       "      <td>PoW/PoS</td>\n",
       "      <td>0.000000e+00</td>\n",
       "      <td>0</td>\n",
       "    </tr>\n",
       "  </tbody>\n",
       "</table>\n",
       "</div>"
      ],
      "text/plain": [
       "      CoinName Algorithm  IsTrading ProofType  TotalCoinsMined TotalCoinSupply\n",
       "42     42 Coin    Scrypt       True   PoW/PoS     4.199995e+01              42\n",
       "365    365Coin       X11       True   PoW/PoS              NaN      2300000000\n",
       "404    404Coin    Scrypt       True   PoW/PoS     1.055185e+09       532000000\n",
       "611  SixEleven   SHA-256       True       PoW              NaN          611000\n",
       "808        808   SHA-256       True   PoW/PoS     0.000000e+00               0"
      ]
     },
     "execution_count": 27,
     "metadata": {},
     "output_type": "execute_result"
    }
   ],
   "source": [
    "# Keep only cryptocurrencies that are trading\n",
    "crypto_df = crypto_df[crypto_df['IsTrading']]\n",
    "crypto_df.head()"
   ]
  },
  {
   "cell_type": "code",
   "execution_count": 28,
   "metadata": {},
   "outputs": [
    {
     "data": {
      "text/html": [
       "<div>\n",
       "<style scoped>\n",
       "    .dataframe tbody tr th:only-of-type {\n",
       "        vertical-align: middle;\n",
       "    }\n",
       "\n",
       "    .dataframe tbody tr th {\n",
       "        vertical-align: top;\n",
       "    }\n",
       "\n",
       "    .dataframe thead th {\n",
       "        text-align: right;\n",
       "    }\n",
       "</style>\n",
       "<table border=\"1\" class=\"dataframe\">\n",
       "  <thead>\n",
       "    <tr style=\"text-align: right;\">\n",
       "      <th></th>\n",
       "      <th>CoinName</th>\n",
       "      <th>Algorithm</th>\n",
       "      <th>ProofType</th>\n",
       "      <th>TotalCoinsMined</th>\n",
       "      <th>TotalCoinSupply</th>\n",
       "    </tr>\n",
       "  </thead>\n",
       "  <tbody>\n",
       "    <tr>\n",
       "      <th>42</th>\n",
       "      <td>42 Coin</td>\n",
       "      <td>Scrypt</td>\n",
       "      <td>PoW/PoS</td>\n",
       "      <td>4.199995e+01</td>\n",
       "      <td>42</td>\n",
       "    </tr>\n",
       "    <tr>\n",
       "      <th>365</th>\n",
       "      <td>365Coin</td>\n",
       "      <td>X11</td>\n",
       "      <td>PoW/PoS</td>\n",
       "      <td>NaN</td>\n",
       "      <td>2300000000</td>\n",
       "    </tr>\n",
       "    <tr>\n",
       "      <th>404</th>\n",
       "      <td>404Coin</td>\n",
       "      <td>Scrypt</td>\n",
       "      <td>PoW/PoS</td>\n",
       "      <td>1.055185e+09</td>\n",
       "      <td>532000000</td>\n",
       "    </tr>\n",
       "    <tr>\n",
       "      <th>611</th>\n",
       "      <td>SixEleven</td>\n",
       "      <td>SHA-256</td>\n",
       "      <td>PoW</td>\n",
       "      <td>NaN</td>\n",
       "      <td>611000</td>\n",
       "    </tr>\n",
       "    <tr>\n",
       "      <th>808</th>\n",
       "      <td>808</td>\n",
       "      <td>SHA-256</td>\n",
       "      <td>PoW/PoS</td>\n",
       "      <td>0.000000e+00</td>\n",
       "      <td>0</td>\n",
       "    </tr>\n",
       "  </tbody>\n",
       "</table>\n",
       "</div>"
      ],
      "text/plain": [
       "      CoinName Algorithm ProofType  TotalCoinsMined TotalCoinSupply\n",
       "42     42 Coin    Scrypt   PoW/PoS     4.199995e+01              42\n",
       "365    365Coin       X11   PoW/PoS              NaN      2300000000\n",
       "404    404Coin    Scrypt   PoW/PoS     1.055185e+09       532000000\n",
       "611  SixEleven   SHA-256       PoW              NaN          611000\n",
       "808        808   SHA-256   PoW/PoS     0.000000e+00               0"
      ]
     },
     "execution_count": 28,
     "metadata": {},
     "output_type": "execute_result"
    }
   ],
   "source": [
    "# Remove the \"IsTrading\" column\n",
    "crypto_df.drop(columns=['IsTrading'], inplace=True)\n",
    "crypto_df.head()"
   ]
  },
  {
   "cell_type": "code",
   "execution_count": 29,
   "metadata": {},
   "outputs": [],
   "source": [
    "# Remove rows with at least 1 null value\n",
    "crypto_df = crypto_df.dropna()"
   ]
  },
  {
   "cell_type": "code",
   "execution_count": 30,
   "metadata": {},
   "outputs": [],
   "source": [
    "# Remove rows with cryptocurrencies having no coins mined\n",
    "crypto_df = crypto_df[crypto_df['TotalCoinsMined']!=0]"
   ]
  },
  {
   "cell_type": "code",
   "execution_count": 31,
   "metadata": {},
   "outputs": [],
   "source": [
    "# Drop rows where there are 'N/A' text values\n",
    "crypto_df = crypto_df[(crypto_df['CoinName']!= \"N/A\") & (crypto_df['Algorithm']!=\"N/A\") & (crypto_df['ProofType']!=\"N/A\")]"
   ]
  },
  {
   "cell_type": "code",
   "execution_count": 32,
   "metadata": {},
   "outputs": [],
   "source": [
    "# Store the 'CoinName'column in its own DataFrame prior to dropping it from crypto_df\n",
    "coins_name = pd.DataFrame(crypto_df.CoinName)"
   ]
  },
  {
   "cell_type": "code",
   "execution_count": 33,
   "metadata": {},
   "outputs": [],
   "source": [
    "# Drop the 'CoinName' column since it's not going to be used on the clustering algorithm\n",
    "crypto_df.drop(columns=['CoinName'], inplace=True)"
   ]
  },
  {
   "cell_type": "code",
   "execution_count": 34,
   "metadata": {},
   "outputs": [],
   "source": [
    "# Create dummy variables for text features\n",
    "X = pd.get_dummies(crypto_df,columns=['Algorithm', 'ProofType'])"
   ]
  },
  {
   "cell_type": "code",
   "execution_count": 35,
   "metadata": {},
   "outputs": [],
   "source": [
    "# Standardize data\n",
    "crypto_scaled = StandardScaler().fit_transform(X)"
   ]
  },
  {
   "cell_type": "markdown",
   "metadata": {},
   "source": [
    "### Reducing Dimensions Using PCA"
   ]
  },
  {
   "cell_type": "code",
   "execution_count": 36,
   "metadata": {},
   "outputs": [],
   "source": [
    "# Use PCA to reduce dimensions to 3 principal components\n",
    "pca = PCA(n_components=3)\n",
    "crypto_pca = pca.fit_transform(crypto_scaled)"
   ]
  },
  {
   "cell_type": "code",
   "execution_count": 37,
   "metadata": {},
   "outputs": [
    {
     "data": {
      "text/html": [
       "<div>\n",
       "<style scoped>\n",
       "    .dataframe tbody tr th:only-of-type {\n",
       "        vertical-align: middle;\n",
       "    }\n",
       "\n",
       "    .dataframe tbody tr th {\n",
       "        vertical-align: top;\n",
       "    }\n",
       "\n",
       "    .dataframe thead th {\n",
       "        text-align: right;\n",
       "    }\n",
       "</style>\n",
       "<table border=\"1\" class=\"dataframe\">\n",
       "  <thead>\n",
       "    <tr style=\"text-align: right;\">\n",
       "      <th></th>\n",
       "      <th>PC 1</th>\n",
       "      <th>PC 2</th>\n",
       "      <th>PC 3</th>\n",
       "    </tr>\n",
       "  </thead>\n",
       "  <tbody>\n",
       "    <tr>\n",
       "      <th>0</th>\n",
       "      <td>-0.336414</td>\n",
       "      <td>1.004186</td>\n",
       "      <td>-0.628199</td>\n",
       "    </tr>\n",
       "    <tr>\n",
       "      <th>1</th>\n",
       "      <td>-0.319852</td>\n",
       "      <td>1.003892</td>\n",
       "      <td>-0.628517</td>\n",
       "    </tr>\n",
       "    <tr>\n",
       "      <th>2</th>\n",
       "      <td>2.267576</td>\n",
       "      <td>1.437239</td>\n",
       "      <td>-0.769286</td>\n",
       "    </tr>\n",
       "    <tr>\n",
       "      <th>3</th>\n",
       "      <td>-0.120181</td>\n",
       "      <td>-1.210089</td>\n",
       "      <td>0.207624</td>\n",
       "    </tr>\n",
       "    <tr>\n",
       "      <th>4</th>\n",
       "      <td>-0.116846</td>\n",
       "      <td>-1.874128</td>\n",
       "      <td>0.431084</td>\n",
       "    </tr>\n",
       "  </tbody>\n",
       "</table>\n",
       "</div>"
      ],
      "text/plain": [
       "       PC 1      PC 2      PC 3\n",
       "0 -0.336414  1.004186 -0.628199\n",
       "1 -0.319852  1.003892 -0.628517\n",
       "2  2.267576  1.437239 -0.769286\n",
       "3 -0.120181 -1.210089  0.207624\n",
       "4 -0.116846 -1.874128  0.431084"
      ]
     },
     "execution_count": 37,
     "metadata": {},
     "output_type": "execute_result"
    }
   ],
   "source": [
    "# Create a DataFrame with the principal components data\n",
    "pcs_df = pd.DataFrame(\n",
    "    data=crypto_pca, columns=[\"PC 1\", \"PC 2\", \"PC 3\"]\n",
    ")\n",
    "pcs_df.head()"
   ]
  },
  {
   "cell_type": "markdown",
   "metadata": {},
   "source": [
    "### Clustering Crytocurrencies Using K-Means\n",
    "\n",
    "#### Find the Best Value for `k` Using the Elbow Curve"
   ]
  },
  {
   "cell_type": "code",
   "execution_count": 38,
   "metadata": {},
   "outputs": [
    {
     "data": {},
     "metadata": {},
     "output_type": "display_data"
    },
    {
     "data": {
      "application/vnd.holoviews_exec.v0+json": "",
      "text/html": [
       "<div id='1145'>\n",
       "\n",
       "\n",
       "\n",
       "\n",
       "\n",
       "  <div class=\"bk-root\" id=\"69731ad7-3053-44a0-bd7e-3de8687f5bd5\" data-root-id=\"1145\"></div>\n",
       "</div>\n",
       "<script type=\"application/javascript\">(function(root) {\n",
       "  function embed_document(root) {\n",
       "  var docs_json = {\"1f162397-2666-474c-9c03-b3bb6e924436\":{\"roots\":{\"references\":[{\"attributes\":{\"overlay\":{\"id\":\"1172\"}},\"id\":\"1170\",\"type\":\"BoxZoomTool\"},{\"attributes\":{\"margin\":[5,5,5,5],\"name\":\"HSpacer01811\",\"sizing_mode\":\"stretch_width\"},\"id\":\"1146\",\"type\":\"Spacer\"},{\"attributes\":{},\"id\":\"1171\",\"type\":\"ResetTool\"},{\"attributes\":{},\"id\":\"1181\",\"type\":\"Selection\"},{\"attributes\":{\"children\":[{\"id\":\"1146\"},{\"id\":\"1150\"},{\"id\":\"1202\"}],\"margin\":[0,0,0,0],\"name\":\"Row01807\",\"tags\":[\"embedded\"]},\"id\":\"1145\",\"type\":\"Row\"},{\"attributes\":{},\"id\":\"1164\",\"type\":\"BasicTicker\"},{\"attributes\":{\"line_color\":\"#1f77b3\",\"line_width\":2,\"x\":{\"field\":\"k\"},\"y\":{\"field\":\"inertia\"}},\"id\":\"1183\",\"type\":\"Line\"},{\"attributes\":{},\"id\":\"1168\",\"type\":\"PanTool\"},{\"attributes\":{},\"id\":\"1199\",\"type\":\"UnionRenderers\"},{\"attributes\":{\"axis_label\":\"inertia\",\"bounds\":\"auto\",\"formatter\":{\"id\":\"1194\"},\"major_label_orientation\":\"horizontal\",\"ticker\":{\"id\":\"1164\"}},\"id\":\"1163\",\"type\":\"LinearAxis\"},{\"attributes\":{\"margin\":[5,5,5,5],\"name\":\"HSpacer01812\",\"sizing_mode\":\"stretch_width\"},\"id\":\"1202\",\"type\":\"Spacer\"},{\"attributes\":{},\"id\":\"1169\",\"type\":\"WheelZoomTool\"},{\"attributes\":{\"axis\":{\"id\":\"1163\"},\"dimension\":1,\"grid_line_color\":null,\"ticker\":null},\"id\":\"1166\",\"type\":\"Grid\"},{\"attributes\":{},\"id\":\"1157\",\"type\":\"LinearScale\"},{\"attributes\":{},\"id\":\"1190\",\"type\":\"BasicTickFormatter\"},{\"attributes\":{\"align\":null,\"below\":[{\"id\":\"1159\"}],\"center\":[{\"id\":\"1162\"},{\"id\":\"1166\"}],\"left\":[{\"id\":\"1163\"}],\"margin\":null,\"min_border_bottom\":10,\"min_border_left\":10,\"min_border_right\":10,\"min_border_top\":10,\"plot_height\":300,\"plot_width\":700,\"renderers\":[{\"id\":\"1186\"}],\"sizing_mode\":\"fixed\",\"title\":{\"id\":\"1151\"},\"toolbar\":{\"id\":\"1173\"},\"x_range\":{\"id\":\"1147\"},\"x_scale\":{\"id\":\"1155\"},\"y_range\":{\"id\":\"1148\"},\"y_scale\":{\"id\":\"1157\"}},\"id\":\"1150\",\"subtype\":\"Figure\",\"type\":\"Plot\"},{\"attributes\":{\"bottom_units\":\"screen\",\"fill_alpha\":0.5,\"fill_color\":\"lightgrey\",\"left_units\":\"screen\",\"level\":\"overlay\",\"line_alpha\":1.0,\"line_color\":\"black\",\"line_dash\":[4,4],\"line_width\":2,\"render_mode\":\"css\",\"right_units\":\"screen\",\"top_units\":\"screen\"},\"id\":\"1172\",\"type\":\"BoxAnnotation\"},{\"attributes\":{\"axis_label\":\"k\",\"bounds\":\"auto\",\"formatter\":{\"id\":\"1190\"},\"major_label_orientation\":\"horizontal\",\"ticker\":{\"id\":\"1188\"}},\"id\":\"1159\",\"type\":\"LinearAxis\"},{\"attributes\":{\"end\":3988.764453389265,\"reset_end\":3988.764453389265,\"reset_start\":-212.1316003980631,\"start\":-212.1316003980631,\"tags\":[[[\"inertia\",\"inertia\",null]]]},\"id\":\"1148\",\"type\":\"Range1d\"},{\"attributes\":{},\"id\":\"1155\",\"type\":\"LinearScale\"},{\"attributes\":{},\"id\":\"1194\",\"type\":\"BasicTickFormatter\"},{\"attributes\":{\"axis\":{\"id\":\"1159\"},\"grid_line_color\":null,\"ticker\":null},\"id\":\"1162\",\"type\":\"Grid\"},{\"attributes\":{\"source\":{\"id\":\"1180\"}},\"id\":\"1187\",\"type\":\"CDSView\"},{\"attributes\":{\"line_alpha\":0.1,\"line_color\":\"#1f77b3\",\"line_width\":2,\"x\":{\"field\":\"k\"},\"y\":{\"field\":\"inertia\"}},\"id\":\"1184\",\"type\":\"Line\"},{\"attributes\":{\"line_alpha\":0.2,\"line_color\":\"#1f77b3\",\"line_width\":2,\"x\":{\"field\":\"k\"},\"y\":{\"field\":\"inertia\"}},\"id\":\"1185\",\"type\":\"Line\"},{\"attributes\":{\"active_drag\":\"auto\",\"active_inspect\":\"auto\",\"active_multi\":null,\"active_scroll\":\"auto\",\"active_tap\":\"auto\",\"tools\":[{\"id\":\"1149\"},{\"id\":\"1167\"},{\"id\":\"1168\"},{\"id\":\"1169\"},{\"id\":\"1170\"},{\"id\":\"1171\"}]},\"id\":\"1173\",\"type\":\"Toolbar\"},{\"attributes\":{\"callback\":null,\"renderers\":[{\"id\":\"1186\"}],\"tags\":[\"hv_created\"],\"tooltips\":[[\"k\",\"@{k}\"],[\"inertia\",\"@{inertia}\"]]},\"id\":\"1149\",\"type\":\"HoverTool\"},{\"attributes\":{\"data_source\":{\"id\":\"1180\"},\"glyph\":{\"id\":\"1183\"},\"hover_glyph\":null,\"muted_glyph\":{\"id\":\"1185\"},\"nonselection_glyph\":{\"id\":\"1184\"},\"selection_glyph\":null,\"view\":{\"id\":\"1187\"}},\"id\":\"1186\",\"type\":\"GlyphRenderer\"},{\"attributes\":{\"text\":\"Elbow Curve\",\"text_color\":{\"value\":\"black\"},\"text_font_size\":{\"value\":\"12pt\"}},\"id\":\"1151\",\"type\":\"Title\"},{\"attributes\":{\"end\":10.0,\"reset_end\":10.0,\"reset_start\":1.0,\"start\":1.0,\"tags\":[[[\"k\",\"k\",null]]]},\"id\":\"1147\",\"type\":\"Range1d\"},{\"attributes\":{\"data\":{\"inertia\":{\"__ndarray__\":\"FEcjK2FtrEDN2nDFj3SjQPuDj/hAC5lAkhlt3ykMhEDI2t9EEHN7QH/ClYumlnRAkak6EGbUcEBBa6dN/TlrQBt30z06MmVAHxu2oi0+YUA=\",\"dtype\":\"float64\",\"shape\":[10]},\"k\":[1,2,3,4,5,6,7,8,9,10]},\"selected\":{\"id\":\"1181\"},\"selection_policy\":{\"id\":\"1199\"}},\"id\":\"1180\",\"type\":\"ColumnDataSource\"},{\"attributes\":{\"ticks\":[1,2,3,4,5,6,7,8,9,10]},\"id\":\"1188\",\"type\":\"FixedTicker\"},{\"attributes\":{},\"id\":\"1167\",\"type\":\"SaveTool\"}],\"root_ids\":[\"1145\"]},\"title\":\"Bokeh Application\",\"version\":\"2.0.2\"}};\n",
       "  var render_items = [{\"docid\":\"1f162397-2666-474c-9c03-b3bb6e924436\",\"root_ids\":[\"1145\"],\"roots\":{\"1145\":\"69731ad7-3053-44a0-bd7e-3de8687f5bd5\"}}];\n",
       "  root.Bokeh.embed.embed_items_notebook(docs_json, render_items);\n",
       "  }\n",
       "if (root.Bokeh !== undefined) {\n",
       "    embed_document(root);\n",
       "  } else {\n",
       "    var attempts = 0;\n",
       "    var timer = setInterval(function(root) {\n",
       "      if (root.Bokeh !== undefined) {\n",
       "        clearInterval(timer);\n",
       "        embed_document(root);\n",
       "      } else if (document.readyState == \"complete\") {\n",
       "        attempts++;\n",
       "        if (attempts > 100) {\n",
       "          clearInterval(timer);\n",
       "          console.log(\"Bokeh: ERROR: Unable to run BokehJS code because BokehJS library is missing\");\n",
       "        }\n",
       "      }\n",
       "    }, 10, root)\n",
       "  }\n",
       "})(window);</script>"
      ],
      "text/plain": [
       ":Curve   [k]   (inertia)"
      ]
     },
     "execution_count": 38,
     "metadata": {
      "application/vnd.holoviews_exec.v0+json": {
       "id": "1145"
      }
     },
     "output_type": "execute_result"
    }
   ],
   "source": [
    "inertia = []\n",
    "k = list(range(1, 11))\n",
    "\n",
    "# Calculate the inertia for the range of k values\n",
    "for i in k:\n",
    "    km = KMeans(n_clusters=i, random_state=0)\n",
    "    km.fit(pcs_df)\n",
    "    inertia.append(km.inertia_)\n",
    "\n",
    "\n",
    "# Create the Elbow Curve using hvPlot\n",
    "elbow_data = {\"k\": k, \"inertia\": inertia}\n",
    "df_elbow = pd.DataFrame(elbow_data)\n",
    "df_elbow.hvplot.line(x=\"k\", y=\"inertia\", xticks=k, title=\"Elbow Curve\")"
   ]
  },
  {
   "cell_type": "markdown",
   "metadata": {},
   "source": [
    "Running K-Means with `k=<your best value for k here>`"
   ]
  },
  {
   "cell_type": "code",
   "execution_count": 39,
   "metadata": {},
   "outputs": [],
   "source": [
    "# Initialize the K-Means model\n",
    "km = KMeans(n_clusters=6, random_state=0)\n",
    "# Fit the model\n",
    "km.fit(pcs_df)\n",
    "# Predict clusters\n",
    "predictions = km.predict(pcs_df)\n",
    "# Create a new DataFrame including predicted clusters and cryptocurrencies features\n",
    "pcs_df['class'] = km.labels_\n",
    "pcs_df.index = crypto_df.index"
   ]
  },
  {
   "cell_type": "code",
   "execution_count": 40,
   "metadata": {},
   "outputs": [
    {
     "data": {
      "text/html": [
       "<div>\n",
       "<style scoped>\n",
       "    .dataframe tbody tr th:only-of-type {\n",
       "        vertical-align: middle;\n",
       "    }\n",
       "\n",
       "    .dataframe tbody tr th {\n",
       "        vertical-align: top;\n",
       "    }\n",
       "\n",
       "    .dataframe thead th {\n",
       "        text-align: right;\n",
       "    }\n",
       "</style>\n",
       "<table border=\"1\" class=\"dataframe\">\n",
       "  <thead>\n",
       "    <tr style=\"text-align: right;\">\n",
       "      <th></th>\n",
       "      <th>Algorithm</th>\n",
       "      <th>ProofType</th>\n",
       "      <th>TotalCoinsMined</th>\n",
       "      <th>TotalCoinSupply</th>\n",
       "      <th>PC 1</th>\n",
       "      <th>PC 2</th>\n",
       "      <th>PC 3</th>\n",
       "      <th>class</th>\n",
       "      <th>CoinName</th>\n",
       "    </tr>\n",
       "  </thead>\n",
       "  <tbody>\n",
       "    <tr>\n",
       "      <th>42</th>\n",
       "      <td>Scrypt</td>\n",
       "      <td>PoW/PoS</td>\n",
       "      <td>4.199995e+01</td>\n",
       "      <td>42</td>\n",
       "      <td>-0.336414</td>\n",
       "      <td>1.004186</td>\n",
       "      <td>-0.628199</td>\n",
       "      <td>0</td>\n",
       "      <td>42 Coin</td>\n",
       "    </tr>\n",
       "    <tr>\n",
       "      <th>404</th>\n",
       "      <td>Scrypt</td>\n",
       "      <td>PoW/PoS</td>\n",
       "      <td>1.055185e+09</td>\n",
       "      <td>532000000</td>\n",
       "      <td>-0.319852</td>\n",
       "      <td>1.003892</td>\n",
       "      <td>-0.628517</td>\n",
       "      <td>0</td>\n",
       "      <td>404Coin</td>\n",
       "    </tr>\n",
       "    <tr>\n",
       "      <th>1337</th>\n",
       "      <td>X13</td>\n",
       "      <td>PoW/PoS</td>\n",
       "      <td>2.927942e+10</td>\n",
       "      <td>314159265359</td>\n",
       "      <td>2.267576</td>\n",
       "      <td>1.437239</td>\n",
       "      <td>-0.769286</td>\n",
       "      <td>1</td>\n",
       "      <td>EliteCoin</td>\n",
       "    </tr>\n",
       "    <tr>\n",
       "      <th>BTC</th>\n",
       "      <td>SHA-256</td>\n",
       "      <td>PoW</td>\n",
       "      <td>1.792718e+07</td>\n",
       "      <td>21000000</td>\n",
       "      <td>-0.120181</td>\n",
       "      <td>-1.210089</td>\n",
       "      <td>0.207624</td>\n",
       "      <td>5</td>\n",
       "      <td>Bitcoin</td>\n",
       "    </tr>\n",
       "    <tr>\n",
       "      <th>ETH</th>\n",
       "      <td>Ethash</td>\n",
       "      <td>PoW</td>\n",
       "      <td>1.076842e+08</td>\n",
       "      <td>0</td>\n",
       "      <td>-0.116846</td>\n",
       "      <td>-1.874128</td>\n",
       "      <td>0.431084</td>\n",
       "      <td>5</td>\n",
       "      <td>Ethereum</td>\n",
       "    </tr>\n",
       "  </tbody>\n",
       "</table>\n",
       "</div>"
      ],
      "text/plain": [
       "     Algorithm ProofType  TotalCoinsMined TotalCoinSupply      PC 1      PC 2  \\\n",
       "42      Scrypt   PoW/PoS     4.199995e+01              42 -0.336414  1.004186   \n",
       "404     Scrypt   PoW/PoS     1.055185e+09       532000000 -0.319852  1.003892   \n",
       "1337       X13   PoW/PoS     2.927942e+10    314159265359  2.267576  1.437239   \n",
       "BTC    SHA-256       PoW     1.792718e+07        21000000 -0.120181 -1.210089   \n",
       "ETH     Ethash       PoW     1.076842e+08               0 -0.116846 -1.874128   \n",
       "\n",
       "          PC 3  class   CoinName  \n",
       "42   -0.628199      0    42 Coin  \n",
       "404  -0.628517      0    404Coin  \n",
       "1337 -0.769286      1  EliteCoin  \n",
       "BTC   0.207624      5    Bitcoin  \n",
       "ETH   0.431084      5   Ethereum  "
      ]
     },
     "execution_count": 40,
     "metadata": {},
     "output_type": "execute_result"
    }
   ],
   "source": [
    "crypto_df.head()\n",
    "clustered_df = pd.concat([crypto_df, pcs_df, coins_name], axis=1, )\n",
    "clustered_df.head()"
   ]
  },
  {
   "cell_type": "markdown",
   "metadata": {},
   "source": [
    "### Visualizing Results\n",
    "\n",
    "#### 3D-Scatter with Clusters"
   ]
  },
  {
   "cell_type": "code",
   "execution_count": 50,
   "metadata": {},
   "outputs": [
    {
     "data": {
      "application/vnd.plotly.v1+json": {
       "config": {
        "plotlyServerURL": "https://plot.ly"
       },
       "data": [
        {
         "customdata": [
          [
           "Scrypt"
          ],
          [
           "Scrypt"
          ],
          [
           "X13"
          ],
          [
           "SHA-256"
          ],
          [
           "Ethash"
          ],
          [
           "Scrypt"
          ],
          [
           "X11"
          ],
          [
           "CryptoNight-V7"
          ],
          [
           "Ethash"
          ],
          [
           "Equihash"
          ],
          [
           "SHA-512"
          ],
          [
           "Multiple"
          ],
          [
           "SHA-256"
          ],
          [
           "SHA-256"
          ],
          [
           "Scrypt"
          ],
          [
           "X15"
          ],
          [
           "X11"
          ],
          [
           "Scrypt"
          ],
          [
           "Scrypt"
          ],
          [
           "Scrypt"
          ],
          [
           "Multiple"
          ],
          [
           "Scrypt"
          ],
          [
           "SHA-256"
          ],
          [
           "Scrypt"
          ],
          [
           "Scrypt"
          ],
          [
           "Scrypt"
          ],
          [
           "Quark"
          ],
          [
           "Groestl"
          ],
          [
           "Scrypt"
          ],
          [
           "Scrypt"
          ],
          [
           "Scrypt"
          ],
          [
           "Scrypt"
          ],
          [
           "Scrypt"
          ],
          [
           "X11"
          ],
          [
           "Scrypt"
          ],
          [
           "Groestl"
          ],
          [
           "Multiple"
          ],
          [
           "SHA-256"
          ],
          [
           "Scrypt"
          ],
          [
           "Scrypt"
          ],
          [
           "Scrypt"
          ],
          [
           "Scrypt"
          ],
          [
           "PoS"
          ],
          [
           "Scrypt"
          ],
          [
           "Scrypt"
          ],
          [
           "NeoScrypt"
          ],
          [
           "Scrypt"
          ],
          [
           "Scrypt"
          ],
          [
           "Scrypt"
          ],
          [
           "Scrypt"
          ],
          [
           "X11"
          ],
          [
           "Scrypt"
          ],
          [
           "X11"
          ],
          [
           "SHA-256"
          ],
          [
           "Scrypt"
          ],
          [
           "Scrypt"
          ],
          [
           "Scrypt"
          ],
          [
           "SHA3"
          ],
          [
           "Scrypt"
          ],
          [
           "HybridScryptHash256"
          ],
          [
           "Scrypt"
          ],
          [
           "Scrypt"
          ],
          [
           "SHA-256"
          ],
          [
           "Scrypt"
          ],
          [
           "X13"
          ],
          [
           "Scrypt"
          ],
          [
           "SHA-256"
          ],
          [
           "Scrypt"
          ],
          [
           "X13"
          ],
          [
           "NeoScrypt"
          ],
          [
           "Scrypt"
          ],
          [
           "Scrypt"
          ],
          [
           "Scrypt"
          ],
          [
           "Scrypt"
          ],
          [
           "Scrypt"
          ],
          [
           "Scrypt"
          ],
          [
           "X11"
          ],
          [
           "X11"
          ],
          [
           "SHA-256"
          ],
          [
           "Multiple"
          ],
          [
           "SHA-256"
          ],
          [
           "PHI1612"
          ],
          [
           "X11"
          ],
          [
           "SHA-256"
          ],
          [
           "SHA-256"
          ],
          [
           "SHA-256"
          ],
          [
           "X11"
          ],
          [
           "Scrypt"
          ],
          [
           "Scrypt"
          ],
          [
           "Scrypt"
          ],
          [
           "Scrypt"
          ],
          [
           "Lyra2REv2"
          ],
          [
           "Scrypt"
          ],
          [
           "X11"
          ],
          [
           "Multiple"
          ],
          [
           "SHA-256"
          ],
          [
           "X13"
          ],
          [
           "Scrypt"
          ],
          [
           "CryptoNight"
          ],
          [
           "CryptoNight"
          ],
          [
           "Shabal256"
          ],
          [
           "Counterparty"
          ],
          [
           "Scrypt"
          ],
          [
           "SHA-256"
          ],
          [
           "Groestl"
          ],
          [
           "Scrypt"
          ],
          [
           "Scrypt"
          ],
          [
           "Scrypt"
          ],
          [
           "X13"
          ],
          [
           "Scrypt"
          ],
          [
           "Scrypt"
          ],
          [
           "Scrypt"
          ],
          [
           "Scrypt"
          ],
          [
           "X13"
          ],
          [
           "Scrypt"
          ],
          [
           "Stanford Folding"
          ],
          [
           "X11"
          ],
          [
           "Multiple"
          ],
          [
           "QuBit"
          ],
          [
           "Scrypt"
          ],
          [
           "Scrypt"
          ],
          [
           "Scrypt"
          ],
          [
           "M7 POW"
          ],
          [
           "Scrypt"
          ],
          [
           "SHA-256"
          ],
          [
           "Scrypt"
          ],
          [
           "X11"
          ],
          [
           "SHA3"
          ],
          [
           "X11"
          ],
          [
           "Lyra2RE"
          ],
          [
           "SHA-256"
          ],
          [
           "QUAIT"
          ],
          [
           "X11"
          ],
          [
           "X11"
          ],
          [
           "Scrypt"
          ],
          [
           "Scrypt"
          ],
          [
           "Scrypt"
          ],
          [
           "Ethash"
          ],
          [
           "X13"
          ],
          [
           "Blake2b"
          ],
          [
           "SHA-256"
          ],
          [
           "X15"
          ],
          [
           "X11"
          ],
          [
           "SHA-256"
          ],
          [
           "BLAKE256"
          ],
          [
           "Scrypt"
          ],
          [
           "1GB AES Pattern Search"
          ],
          [
           "SHA-256"
          ],
          [
           "X11"
          ],
          [
           "Scrypt"
          ],
          [
           "SHA-256"
          ],
          [
           "SHA-256"
          ],
          [
           "NIST5"
          ],
          [
           "Scrypt"
          ],
          [
           "Scrypt"
          ],
          [
           "X11"
          ],
          [
           "Dagger"
          ],
          [
           "Scrypt"
          ],
          [
           "X11GOST"
          ],
          [
           "X11"
          ],
          [
           "Scrypt"
          ],
          [
           "SHA-256"
          ],
          [
           "Scrypt"
          ],
          [
           "PoS"
          ],
          [
           "Scrypt"
          ],
          [
           "X11"
          ],
          [
           "X11"
          ],
          [
           "SHA-256"
          ],
          [
           "SHA-256"
          ],
          [
           "NIST5"
          ],
          [
           "X11"
          ],
          [
           "Scrypt"
          ],
          [
           "POS 3.0"
          ],
          [
           "Scrypt"
          ],
          [
           "Scrypt"
          ],
          [
           "Scrypt"
          ],
          [
           "X13"
          ],
          [
           "X11"
          ],
          [
           "X11"
          ],
          [
           "Equihash"
          ],
          [
           "X11"
          ],
          [
           "Scrypt"
          ],
          [
           "CryptoNight"
          ],
          [
           "SHA-256"
          ],
          [
           "SHA-256"
          ],
          [
           "X11"
          ],
          [
           "Scrypt"
          ],
          [
           "Multiple"
          ],
          [
           "Scrypt"
          ],
          [
           "Scrypt"
          ],
          [
           "Scrypt"
          ],
          [
           "SHA-256"
          ],
          [
           "Scrypt"
          ],
          [
           "Scrypt"
          ],
          [
           "SHA-256D"
          ],
          [
           "PoS"
          ],
          [
           "Scrypt"
          ],
          [
           "X11"
          ],
          [
           "Lyra2Z"
          ],
          [
           "PoS"
          ],
          [
           "X13"
          ],
          [
           "X14"
          ],
          [
           "PoS"
          ],
          [
           "SHA-256D"
          ],
          [
           "Ethash"
          ],
          [
           "Equihash"
          ],
          [
           "DPoS"
          ],
          [
           "X11"
          ],
          [
           "Scrypt"
          ],
          [
           "X11"
          ],
          [
           "X13"
          ],
          [
           "X11"
          ],
          [
           "PoS"
          ],
          [
           "Scrypt"
          ],
          [
           "Scrypt"
          ],
          [
           "X11"
          ],
          [
           "PoS"
          ],
          [
           "X11"
          ],
          [
           "SHA-256"
          ],
          [
           "Scrypt"
          ],
          [
           "X11"
          ],
          [
           "Scrypt"
          ],
          [
           "Scrypt"
          ],
          [
           "X11"
          ],
          [
           "CryptoNight"
          ],
          [
           "Scrypt"
          ],
          [
           "Scrypt"
          ],
          [
           "Scrypt"
          ],
          [
           "Scrypt"
          ],
          [
           "Quark"
          ],
          [
           "QuBit"
          ],
          [
           "Scrypt"
          ],
          [
           "CryptoNight"
          ],
          [
           "Lyra2RE"
          ],
          [
           "Scrypt"
          ],
          [
           "SHA-256"
          ],
          [
           "X11"
          ],
          [
           "Scrypt"
          ],
          [
           "X11"
          ],
          [
           "Scrypt"
          ],
          [
           "CryptoNight-V7"
          ],
          [
           "Scrypt"
          ],
          [
           "Scrypt"
          ],
          [
           "Scrypt"
          ],
          [
           "X13"
          ],
          [
           "X11"
          ],
          [
           "Equihash"
          ],
          [
           "Scrypt"
          ],
          [
           "Scrypt"
          ],
          [
           "Lyra2RE"
          ],
          [
           "Scrypt"
          ],
          [
           "Dagger-Hashimoto"
          ],
          [
           "X11"
          ],
          [
           "Blake2S"
          ],
          [
           "X11"
          ],
          [
           "Scrypt"
          ],
          [
           "PoS"
          ],
          [
           "X11"
          ],
          [
           "NIST5"
          ],
          [
           "PoS"
          ],
          [
           "X11"
          ],
          [
           "Scrypt"
          ],
          [
           "Scrypt"
          ],
          [
           "Scrypt"
          ],
          [
           "SHA-256"
          ],
          [
           "X11"
          ],
          [
           "Scrypt"
          ],
          [
           "Scrypt"
          ],
          [
           "SHA-256"
          ],
          [
           "PoS"
          ],
          [
           "Scrypt"
          ],
          [
           "X15"
          ],
          [
           "SHA-256"
          ],
          [
           "Scrypt"
          ],
          [
           "POS 3.0"
          ],
          [
           "CryptoNight-V7"
          ],
          [
           "536"
          ],
          [
           "Argon2d"
          ],
          [
           "Blake2b"
          ],
          [
           "Cloverhash"
          ],
          [
           "CryptoNight"
          ],
          [
           "NIST5"
          ],
          [
           "X11"
          ],
          [
           "NIST5"
          ],
          [
           "Skein"
          ],
          [
           "Scrypt"
          ],
          [
           "X13"
          ],
          [
           "Scrypt"
          ],
          [
           "X11"
          ],
          [
           "X11"
          ],
          [
           "Scrypt"
          ],
          [
           "CryptoNight"
          ],
          [
           "X13"
          ],
          [
           "Time Travel"
          ],
          [
           "Scrypt"
          ],
          [
           "Keccak"
          ],
          [
           "SkunkHash v2 Raptor"
          ],
          [
           "X11"
          ],
          [
           "Skein"
          ],
          [
           "SHA-256"
          ],
          [
           "X11"
          ],
          [
           "Scrypt"
          ],
          [
           "VeChainThor Authority"
          ],
          [
           "Scrypt"
          ],
          [
           "PoS"
          ],
          [
           "Scrypt"
          ],
          [
           "Scrypt"
          ],
          [
           "Scrypt"
          ],
          [
           "Scrypt"
          ],
          [
           "Scrypt"
          ],
          [
           "Scrypt"
          ],
          [
           "Scrypt"
          ],
          [
           "CryptoNight"
          ],
          [
           "SHA-512"
          ],
          [
           "Ouroboros"
          ],
          [
           "X11"
          ],
          [
           "Equihash"
          ],
          [
           "NeoScrypt"
          ],
          [
           "X11"
          ],
          [
           "Scrypt"
          ],
          [
           "NeoScrypt"
          ],
          [
           "Lyra2REv2"
          ],
          [
           "Equihash"
          ],
          [
           "Scrypt"
          ],
          [
           "SHA-256"
          ],
          [
           "NIST5"
          ],
          [
           "PHI1612"
          ],
          [
           "Dagger"
          ],
          [
           "Scrypt"
          ],
          [
           "Quark"
          ],
          [
           "Scrypt"
          ],
          [
           "POS 2.0"
          ],
          [
           "Scrypt"
          ],
          [
           "SHA-256"
          ],
          [
           "X11"
          ],
          [
           "NeoScrypt"
          ],
          [
           "Ethash"
          ],
          [
           "NeoScrypt"
          ],
          [
           "X11"
          ],
          [
           "DPoS"
          ],
          [
           "NIST5"
          ],
          [
           "X13"
          ],
          [
           "Multiple"
          ],
          [
           "Scrypt"
          ],
          [
           "CryptoNight"
          ],
          [
           "CryptoNight"
          ],
          [
           "Ethash"
          ],
          [
           "NIST5"
          ],
          [
           "Quark"
          ],
          [
           "X11"
          ],
          [
           "CryptoNight-V7"
          ],
          [
           "Scrypt"
          ],
          [
           "Scrypt"
          ],
          [
           "Scrypt"
          ],
          [
           "X11"
          ],
          [
           "BLAKE256"
          ],
          [
           "X11"
          ],
          [
           "NeoScrypt"
          ],
          [
           "Quark"
          ],
          [
           "NeoScrypt"
          ],
          [
           "Scrypt"
          ],
          [
           "Scrypt"
          ],
          [
           "Scrypt"
          ],
          [
           "X11"
          ],
          [
           "X11"
          ],
          [
           "SHA-256"
          ],
          [
           "C11"
          ],
          [
           "POS 3.0"
          ],
          [
           "Ethash"
          ],
          [
           "Scrypt"
          ],
          [
           "CryptoNight"
          ],
          [
           "SkunkHash"
          ],
          [
           "Scrypt"
          ],
          [
           "CryptoNight"
          ],
          [
           "Scrypt"
          ],
          [
           "Dagger"
          ],
          [
           "Lyra2REv2"
          ],
          [
           "X13"
          ],
          [
           "Proof-of-BibleHash"
          ],
          [
           "SHA-256 + Hive"
          ],
          [
           "Scrypt"
          ],
          [
           "Scrypt"
          ],
          [
           "X11"
          ],
          [
           "C11"
          ],
          [
           "Proof-of-Authority"
          ],
          [
           "X11"
          ],
          [
           "XEVAN"
          ],
          [
           "Scrypt"
          ],
          [
           "VBFT"
          ],
          [
           "Ethash"
          ],
          [
           "CryptoNight"
          ],
          [
           "Scrypt"
          ],
          [
           "IMesh"
          ],
          [
           "NIST5"
          ],
          [
           "Scrypt"
          ],
          [
           "Scrypt"
          ],
          [
           "Equihash"
          ],
          [
           "Scrypt"
          ],
          [
           "Lyra2Z"
          ],
          [
           "Green Protocol"
          ],
          [
           "PoS"
          ],
          [
           "Scrypt"
          ],
          [
           "Semux BFT consensus"
          ],
          [
           "X11"
          ],
          [
           "Quark"
          ],
          [
           "PoS"
          ],
          [
           "CryptoNight"
          ],
          [
           "X16R"
          ],
          [
           "Scrypt"
          ],
          [
           "NIST5"
          ],
          [
           "Lyra2RE"
          ],
          [
           "XEVAN"
          ],
          [
           "Tribus"
          ],
          [
           "Scrypt"
          ],
          [
           "Lyra2Z"
          ],
          [
           "CryptoNight"
          ],
          [
           "CryptoNight Heavy"
          ],
          [
           "CryptoNight"
          ],
          [
           "Scrypt"
          ],
          [
           "Scrypt"
          ],
          [
           "Jump Consistent Hash"
          ],
          [
           "SHA-256D"
          ],
          [
           "CryptoNight"
          ],
          [
           "Scrypt"
          ],
          [
           "X15"
          ],
          [
           "Scrypt"
          ],
          [
           "Quark"
          ],
          [
           "SHA-256"
          ],
          [
           "DPoS"
          ],
          [
           "X16R"
          ],
          [
           "HMQ1725"
          ],
          [
           "X11"
          ],
          [
           "X16R"
          ],
          [
           "Quark"
          ],
          [
           "Quark"
          ],
          [
           "Scrypt"
          ],
          [
           "Lyra2REv2"
          ],
          [
           "Quark"
          ],
          [
           "Scrypt"
          ],
          [
           "Scrypt"
          ],
          [
           "CryptoNight-V7"
          ],
          [
           "Cryptonight-GPU"
          ],
          [
           "XEVAN"
          ],
          [
           "CryptoNight Heavy"
          ],
          [
           "X11"
          ],
          [
           "X11"
          ],
          [
           "Scrypt"
          ],
          [
           "PoS"
          ],
          [
           "SHA-256"
          ],
          [
           "Keccak"
          ],
          [
           "X11"
          ],
          [
           "X11"
          ],
          [
           "Scrypt"
          ],
          [
           "SHA-512"
          ],
          [
           "X16R"
          ],
          [
           "ECC 256K1"
          ],
          [
           "Equihash"
          ],
          [
           "XEVAN"
          ],
          [
           "Lyra2Z"
          ],
          [
           "SHA-256"
          ],
          [
           "XEVAN"
          ],
          [
           "X11"
          ],
          [
           "CryptoNight"
          ],
          [
           "Quark"
          ],
          [
           "Blake"
          ],
          [
           "Blake"
          ],
          [
           "Equihash"
          ],
          [
           "Exosis"
          ],
          [
           "Scrypt"
          ],
          [
           "Scrypt"
          ],
          [
           "Equihash"
          ],
          [
           "Quark"
          ],
          [
           "Equihash"
          ],
          [
           "Quark"
          ],
          [
           "Scrypt"
          ],
          [
           "QuBit"
          ],
          [
           "X11"
          ],
          [
           "Scrypt"
          ],
          [
           "XEVAN"
          ],
          [
           "SHA-256D"
          ],
          [
           "X11"
          ],
          [
           "SHA-256"
          ],
          [
           "X13"
          ],
          [
           "SHA-256"
          ],
          [
           "X11"
          ],
          [
           "DPoS"
          ],
          [
           "Scrypt"
          ],
          [
           "Scrypt"
          ],
          [
           "X11"
          ],
          [
           "NeoScrypt"
          ],
          [
           "Scrypt"
          ],
          [
           "Blake"
          ],
          [
           "Scrypt"
          ],
          [
           "SHA-256"
          ],
          [
           "Scrypt"
          ],
          [
           "X11"
          ],
          [
           "Scrypt"
          ],
          [
           "Scrypt"
          ],
          [
           "SHA-256"
          ],
          [
           "X11"
          ],
          [
           "SHA-256"
          ],
          [
           "Scrypt"
          ],
          [
           "Scrypt"
          ],
          [
           "Scrypt"
          ],
          [
           "Groestl"
          ],
          [
           "X11"
          ],
          [
           "Scrypt"
          ],
          [
           "PoS"
          ],
          [
           "Scrypt"
          ],
          [
           "Scrypt"
          ],
          [
           "X11"
          ],
          [
           "SHA-256"
          ],
          [
           "DPoS"
          ],
          [
           "Scrypt"
          ],
          [
           "Scrypt"
          ],
          [
           "NeoScrypt"
          ],
          [
           "SHA3-256"
          ],
          [
           "Multiple"
          ],
          [
           "X13"
          ],
          [
           "Equihash+Scrypt"
          ],
          [
           "DPoS"
          ],
          [
           "Ethash"
          ],
          [
           "DPoS"
          ],
          [
           "SHA-256"
          ],
          [
           "Leased POS"
          ],
          [
           "PoS"
          ],
          [
           "TRC10"
          ],
          [
           "PoS"
          ],
          [
           "SHA-256"
          ],
          [
           "Scrypt"
          ],
          [
           "CryptoNight"
          ],
          [
           "Equihash"
          ],
          [
           "Scrypt"
          ]
         ],
         "hovertemplate": "<b>%{hovertext}</b><br><br>PC 1=%{x}<br>PC 2=%{y}<br>PC 3=%{z}<br>Algorithm=%{customdata[0]}<br>class=%{marker.color}<extra></extra>",
         "hovertext": [
          "42 Coin",
          "404Coin",
          "EliteCoin",
          "Bitcoin",
          "Ethereum",
          "Litecoin",
          "Dash",
          "Monero",
          "Ethereum Classic",
          "ZCash",
          "Bitshares",
          "DigiByte",
          "BitcoinDark",
          "PayCoin",
          "ProsperCoin",
          "KoboCoin",
          "Spreadcoin",
          "Argentum",
          "Aurora Coin",
          "BlueCoin",
          "MyriadCoin",
          "MoonCoin",
          "ZetaCoin",
          "SexCoin",
          "Quatloo",
          "EnergyCoin",
          "QuarkCoin",
          "Riecoin",
          "Digitalcoin ",
          "BitBar",
          "Catcoin",
          "CryptoBullion",
          "CannaCoin",
          "CryptCoin",
          "CasinoCoin",
          "Diamond",
          "Verge",
          "DevCoin",
          "EarthCoin",
          "E-Gulden",
          "Einsteinium",
          "Emerald",
          "Exclusive Coin",
          "FlutterCoin",
          "Franko",
          "FeatherCoin",
          "GrandCoin",
          "GlobalCoin",
          "GoldCoin",
          "HoboNickels",
          "HyperStake",
          "Infinite Coin",
          "IOCoin",
          "IXcoin",
          "KrugerCoin",
          "LuckyCoin",
          "Litebar ",
          "MaxCoin",
          "MegaCoin",
          "MediterraneanCoin",
          "MintCoin",
          "MinCoin",
          "MazaCoin",
          "Nautilus Coin",
          "NavCoin",
          "NobleCoin",
          "Namecoin",
          "NyanCoin",
          "OpalCoin",
          "Orbitcoin",
          "PotCoin",
          "PhoenixCoin",
          "Reddcoin",
          "RonPaulCoin",
          "StableCoin",
          "SmartCoin",
          "SuperCoin",
          "SyncCoin",
          "SysCoin",
          "TeslaCoin",
          "TigerCoin",
          "TittieCoin",
          "TorCoin",
          "TerraCoin",
          "UnbreakableCoin",
          "Unobtanium",
          "UroCoin",
          "UnitaryStatus Dollar",
          "UltraCoin",
          "ViaCoin",
          "VeriCoin",
          "Vertcoin",
          "WorldCoin",
          "X11 Coin",
          "Crypti",
          "JouleCoin",
          "StealthCoin",
          "ZCC Coin",
          "ByteCoin",
          "DigitalNote ",
          "BurstCoin",
          "StorjCoin",
          "MonaCoin",
          "Neutron",
          "FairCoin",
          "Gulden",
          "RubyCoin",
          "PesetaCoin",
          "Kore",
          "Wild Beast Coin",
          "Dnotes",
          "Flo",
          "8BIT Coin",
          "Sativa Coin",
          "ArtByte",
          "Folding Coin",
          "Ucoin",
          "Unitus",
          "CypherPunkCoin",
          "OmniCron",
          "Vtorrent",
          "GreenCoin",
          "Cryptonite",
          "MasterCoin",
          "SoonCoin",
          "1Credit",
          "IslaCoin",
          "Nexus",
          "MarsCoin ",
          "Crypto",
          "Anarchists Prime",
          "Droidz",
          "BowsCoin",
          "Squall Coin",
          "Song Coin",
          "BitZeny",
          "Diggits",
          "Expanse",
          "Paycon",
          "Siacoin",
          "Emercoin",
          "EverGreenCoin",
          "MindCoin",
          "I0coin",
          "Decred",
          "Revolution VR",
          "HOdlcoin",
          "EDRCoin",
          "Hitcoin",
          "Gamecredits",
          "DubaiCoin",
          "CarpeDiemCoin",
          "PWR Coin",
          "BillaryCoin",
          "GPU Coin",
          "Adzcoin",
          "SoilCoin",
          "YoCoin",
          "SibCoin",
          "EuropeCoin",
          "ZeitCoin",
          "SwingCoin",
          "SafeExchangeCoin",
          "Nebuchadnezzar",
          "Francs",
          "BolivarCoin",
          "Ratecoin",
          "Revenu",
          "Clockcoin",
          "VIP Tokens",
          "BitSend",
          "Omni",
          "Let it Ride",
          "PutinCoin",
          "iBankCoin",
          "Frankywillcoin",
          "MudraCoin",
          "PizzaCoin",
          "Lutetium Coin",
          "Komodo",
          "GoldBlocks",
          "CarterCoin",
          "Karbo",
          "BitTokens",
          "ZayedCoin",
          "MustangCoin",
          "ZoneCoin",
          "Circuits of Value",
          "RootCoin",
          "DopeCoin",
          "BitCurrency",
          "DollarCoin",
          "Swiscoin",
          "Shilling",
          "BuzzCoin",
          "Opair",
          "PesoBit",
          "Halloween Coin",
          "ZCoin",
          "CoffeeCoin",
          "RoyalCoin",
          "GanjaCoin V2",
          "TeamUP",
          "LanaCoin",
          "Elementrem",
          "ZClassic",
          "ARK",
          "InsaneCoin",
          "KiloCoin",
          "ArtexCoin",
          "EmberCoin",
          "XenixCoin",
          "FreeCoin",
          "PLNCoin",
          "AquariusCoin",
          "Kurrent",
          "Creatio",
          "Eternity",
          "Eurocoin",
          "BitcoinFast",
          "Stakenet",
          "BitConnect Coin",
          "MoneyCoin",
          "Enigma",
          "Cannabis Industry Coin",
          "Russiacoin",
          "PandaCoin",
          "GameUnits",
          "GAKHcoin",
          "Allsafe",
          "LiteCreed",
          "OsmiumCoin",
          "Bikercoins",
          "HexxCoin",
          "Klingon Empire Darsek",
          "Internet of People",
          "KushCoin",
          "Printerium",
          "PacCoin",
          "Impeach",
          "Citadel",
          "Zilbercoin",
          "FirstCoin",
          "BeaverCoin",
          "FindCoin",
          "VaultCoin",
          "Zero",
          "OpenChat",
          "Canada eCoin",
          "Zoin",
          "RenosCoin",
          "DubaiCoin",
          "VirtacoinPlus",
          "TajCoin",
          "Impact",
          "EB3coin",
          "Atmos",
          "HappyCoin",
          "Coinonat",
          "MacronCoin",
          "Condensate",
          "Independent Money System",
          "ArgusCoin",
          "LomoCoin",
          "ProCurrency",
          "GoldReserve",
          "BenjiRolls",
          "GrowthCoin",
          "ILCoin",
          "Phreak",
          "Degas Coin",
          "HTML5 Coin",
          "Ultimate Secure Cash",
          "EquiTrader",
          "QTUM",
          "Quantum Resistant Ledger",
          "Espers",
          "Dynamic",
          "Nano",
          "ChanCoin",
          "Dinastycoin",
          "Denarius",
          "DigitalPrice",
          "Virta Unique Coin",
          "Bitcoin Planet",
          "Unify",
          "BritCoin",
          "SocialCoin",
          "ArcticCoin",
          "DAS",
          "Linda",
          "LeviarCoin",
          "DeepOnion",
          "Bitcore",
          "gCn Coin",
          "SmartCash",
          "Signatum",
          "Onix",
          "Cream",
          "Bitcoin Cash",
          "Monoeci",
          "Draftcoin",
          "Vechain",
          "Sojourn Coin",
          "Stakecoin",
          "NewYorkCoin",
          "FrazCoin",
          "Kronecoin",
          "AdCoin",
          "Linx",
          "CoinonatX",
          "Ethereum Dark",
          "Sumokoin",
          "Obsidian",
          "Cardano",
          "Regalcoin",
          "BitcoinZ",
          "TrezarCoin",
          "Elements",
          "TerraNovaCoin",
          "VIVO Coin",
          "Rupee",
          "Bitcoin Gold",
          "WomenCoin",
          "Theresa May Coin",
          "NamoCoin",
          "LUXCoin",
          "Pirl",
          "Xios",
          "Bitcloud 2.0",
          "eBoost",
          "KekCoin",
          "BlackholeCoin",
          "Infinity Economics",
          "Pura",
          "Innova",
          "Ellaism",
          "GoByte",
          "Magnet",
          "Lamden Tau",
          "Electra",
          "Bitcoin Diamond",
          "SHIELD",
          "Cash & Back Coin",
          "UltraNote",
          "BitCoal",
          "DaxxCoin",
          "Bulwark",
          "Kalkulus",
          "AC3",
          "Lethean",
          "GermanCoin",
          "LiteCoin Ultra",
          "PopularCoin",
          "PhantomX",
          "Photon",
          "Sucre",
          "SparksPay",
          "Digiwage",
          "GunCoin",
          "IrishCoin",
          "Trollcoin",
          "Litecoin Plus",
          "Monkey Project",
          "Pioneer Coin",
          "UnitedBitcoin",
          "Interzone",
          "TokenPay",
          "1717 Masonic Commemorative Token",
          "My Big Coin",
          "TurtleCoin",
          "MUNcoin",
          "Unified Society USDEX",
          "Niobio Cash",
          "ShareChain",
          "Travelflex",
          "KREDS",
          "Tokyo Coin",
          "BiblePay",
          "LitecoinCash",
          "BitFlip",
          "LottoCoin",
          "Crypto Improvement Fund",
          "Stipend",
          "Poa Network",
          "Pushi",
          "Ellerium",
          "Velox",
          "Ontology",
          "Callisto Network",
          "BitTube",
          "Poseidon",
          "Aidos Kuneen",
          "Bitspace",
          "Briacoin",
          "Ignition",
          "Bitrolium",
          "MedicCoin",
          "Alpenschillling",
          "Bitcoin Green",
          "Deviant Coin",
          "Abjcoin",
          "Semux",
          "FuturoCoin",
          "Carebit",
          "Zealium",
          "Monero Classic",
          "Proton",
          "iDealCash",
          "Jumpcoin",
          "Infinex",
          "Bitcoin Incognito",
          "KEYCO",
          "HollyWoodCoin",
          "GINcoin",
          "PlatinCoin",
          "Loki",
          "Newton Coin",
          "Swisscoin",
          "Xt3ch",
          "MassGrid",
          "TheVig",
          "PluraCoin",
          "EmaratCoin",
          "Dekado",
          "Lynx",
          "Poseidon Quark",
          "BitcoinWSpectrum",
          "Muse",
          "Motion",
          "PlusOneCoin",
          "Axe",
          "Trivechain",
          "Dystem",
          "Giant",
          "Peony Coin",
          "Absolute Coin",
          "Vitae",
          "HexCoin",
          "TPCash",
          "Webchain",
          "Ryo",
          "Urals Coin",
          "Qwertycoin",
          "ARENON",
          "EUNO",
          "MMOCoin",
          "Ketan",
          "Project Pai",
          "XDNA",
          "PAXEX",
          "Azart",
          "ThunderStake",
          "Kcash",
          "Xchange",
          "Acute Angle Cloud",
          "CrypticCoin",
          "Bettex coin",
          "Actinium",
          "Bitcoin SV",
          "BitMoney",
          "Junson Ming Chan Coin",
          "FREDEnergy",
          "HerbCoin",
          "Universal Molecule",
          "Lithium",
          "PirateCash",
          "Exosis",
          "Block-Logic",
          "Oduwa",
          "Beam",
          "Galilel",
          "Bithereum",
          "Crypto Sports",
          "Credit",
          "SLICE",
          "Dash Platinum",
          "Nasdacoin",
          "Beetle Coin",
          "Titan Coin",
          "Award",
          "BLAST",
          "Bitcoin Rhodium",
          "GlobalToken",
          "Insane Coin",
          "ALAX",
          "LiteDoge",
          "SolarCoin",
          "TruckCoin",
          "UFO Coin",
          "OrangeCoin",
          "BlakeCoin",
          "BitstarCoin",
          "NeosCoin",
          "HyperCoin",
          "PinkCoin",
          "Crypto Escudo",
          "AudioCoin",
          "IncaKoin",
          "Piggy Coin",
          "Crown Coin",
          "Genstake",
          "SmileyCoin",
          "XiaoMiCoin",
          "Groestlcoin",
          "CapriCoin",
          " ClubCoin",
          "Radium",
          "Bata",
          "Pakcoin",
          "Creditbit ",
          "OKCash",
          "Lisk",
          "HiCoin",
          "WhiteCoin",
          "FriendshipCoin",
          "Fiii",
          "JoinCoin",
          "Triangles Coin",
          "Vollar",
          "EOS",
          "Reality Clash",
          "Oxycoin",
          "TigerCash",
          "Waves",
          "Particl",
          "BitTorrent",
          "Nxt",
          "ZEPHYR",
          "Gapcoin",
          "Beldex",
          "Horizen",
          "BitcoinPlus"
         ],
         "legendgroup": "",
         "marker": {
          "color": [
           0,
           0,
           1,
           5,
           5,
           5,
           0,
           5,
           5,
           5,
           0,
           5,
           0,
           0,
           5,
           0,
           5,
           5,
           0,
           0,
           5,
           1,
           5,
           5,
           5,
           0,
           5,
           5,
           5,
           0,
           5,
           0,
           5,
           5,
           0,
           0,
           5,
           5,
           5,
           5,
           5,
           5,
           0,
           0,
           5,
           5,
           5,
           5,
           5,
           0,
           0,
           5,
           0,
           5,
           5,
           5,
           5,
           0,
           5,
           5,
           0,
           5,
           0,
           0,
           0,
           5,
           5,
           5,
           0,
           0,
           0,
           0,
           0,
           5,
           5,
           5,
           0,
           0,
           5,
           0,
           5,
           0,
           0,
           5,
           5,
           5,
           5,
           0,
           0,
           5,
           0,
           5,
           5,
           0,
           0,
           5,
           0,
           0,
           1,
           5,
           5,
           0,
           5,
           0,
           0,
           5,
           0,
           5,
           0,
           5,
           0,
           5,
           0,
           0,
           5,
           5,
           0,
           5,
           5,
           5,
           0,
           5,
           5,
           5,
           5,
           5,
           0,
           0,
           5,
           5,
           5,
           0,
           5,
           0,
           5,
           5,
           0,
           5,
           0,
           5,
           0,
           0,
           5,
           5,
           0,
           5,
           5,
           0,
           0,
           5,
           0,
           5,
           0,
           0,
           0,
           5,
           5,
           5,
           5,
           0,
           0,
           0,
           0,
           0,
           5,
           5,
           0,
           0,
           0,
           0,
           0,
           5,
           0,
           0,
           0,
           0,
           0,
           5,
           0,
           5,
           0,
           0,
           5,
           0,
           5,
           0,
           0,
           5,
           0,
           5,
           0,
           5,
           0,
           5,
           0,
           0,
           0,
           0,
           5,
           0,
           0,
           0,
           0,
           0,
           5,
           5,
           1,
           0,
           5,
           5,
           0,
           0,
           0,
           0,
           0,
           5,
           0,
           0,
           0,
           0,
           0,
           0,
           0,
           0,
           5,
           0,
           0,
           0,
           0,
           0,
           0,
           5,
           5,
           5,
           0,
           0,
           0,
           0,
           5,
           0,
           5,
           0,
           0,
           5,
           0,
           5,
           5,
           0,
           5,
           5,
           0,
           5,
           0,
           0,
           0,
           5,
           0,
           0,
           5,
           0,
           0,
           0,
           0,
           0,
           0,
           0,
           5,
           0,
           5,
           0,
           0,
           0,
           0,
           5,
           0,
           5,
           0,
           5,
           5,
           5,
           5,
           0,
           5,
           0,
           0,
           5,
           0,
           5,
           5,
           5,
           0,
           5,
           0,
           5,
           1,
           5,
           0,
           5,
           0,
           5,
           0,
           0,
           4,
           5,
           0,
           5,
           5,
           5,
           5,
           5,
           0,
           0,
           5,
           0,
           0,
           0,
           5,
           0,
           5,
           0,
           5,
           0,
           5,
           0,
           0,
           0,
           0,
           5,
           0,
           0,
           5,
           0,
           0,
           0,
           5,
           5,
           5,
           5,
           0,
           1,
           0,
           0,
           5,
           0,
           5,
           5,
           5,
           0,
           0,
           5,
           5,
           0,
           0,
           5,
           0,
           5,
           5,
           5,
           0,
           5,
           5,
           0,
           0,
           0,
           5,
           5,
           5,
           0,
           5,
           0,
           1,
           5,
           0,
           5,
           5,
           5,
           5,
           0,
           3,
           3,
           5,
           5,
           5,
           0,
           3,
           0,
           0,
           0,
           0,
           5,
           5,
           5,
           5,
           0,
           0,
           0,
           5,
           0,
           5,
           0,
           0,
           0,
           1,
           5,
           0,
           0,
           5,
           0,
           0,
           5,
           5,
           0,
           5,
           0,
           5,
           5,
           5,
           5,
           0,
           0,
           5,
           0,
           5,
           0,
           0,
           1,
           0,
           0,
           0,
           5,
           5,
           5,
           0,
           0,
           0,
           0,
           0,
           0,
           5,
           0,
           5,
           5,
           5,
           1,
           0,
           0,
           0,
           0,
           5,
           0,
           0,
           5,
           0,
           0,
           5,
           3,
           5,
           0,
           5,
           5,
           0,
           0,
           5,
           0,
           5,
           5,
           5,
           5,
           5,
           0,
           5,
           0,
           5,
           0,
           0,
           5,
           0,
           0,
           0,
           0,
           0,
           5,
           5,
           5,
           0,
           1,
           0,
           5,
           0,
           5,
           0,
           5,
           0,
           0,
           0,
           0,
           5,
           0,
           0,
           0,
           5,
           0,
           5,
           0,
           5,
           0,
           0,
           0,
           5,
           5,
           0,
           0,
           1,
           0,
           0,
           0,
           3,
           5,
           0,
           5,
           1,
           5,
           1,
           0,
           3,
           0,
           2,
           0,
           1,
           0,
           5,
           5,
           0
          ],
          "coloraxis": "coloraxis",
          "symbol": "circle"
         },
         "mode": "markers",
         "name": "",
         "scene": "scene",
         "showlegend": false,
         "type": "scatter3d",
         "x": [
          -0.3364142703362321,
          -0.319851709298525,
          2.267575903160143,
          -0.12018111882281696,
          -0.11684594936698568,
          -0.13281235164639185,
          -0.4317650984891316,
          -0.10890948197518015,
          -0.11529450715043679,
          -0.10132870199740218,
          -0.3034865220152714,
          0.18279463538582488,
          -0.3226197882665145,
          -0.28548584726271925,
          -0.13395221486371545,
          -0.29266883771046237,
          -0.22950971609035542,
          -0.13357051168451953,
          -0.336075783076136,
          -0.3287021515508562,
          -0.06928829320339457,
          2.5767947193941096,
          -0.11728246726129957,
          -0.13084057705728633,
          -0.13337519872629444,
          -0.3349206618533434,
          -0.22988447361311884,
          -0.19124051201999132,
          -0.13342454150781555,
          -0.3364102244541365,
          -0.13393459627470622,
          -0.3363945996116558,
          -0.13402062389141095,
          -0.22959851140432117,
          0.6318151966439568,
          -0.39460766741952824,
          0.20631308888075847,
          0.2555666622495326,
          0.11332251678461905,
          -0.13376843484425052,
          -0.1293975629903803,
          -0.13370793492768954,
          -0.4236095024247258,
          -0.2581706533836719,
          -0.1340772886126532,
          -0.1457585507856161,
          -0.11341064678187401,
          -0.13287922649090592,
          -0.13315483031740868,
          -0.33448366459309714,
          -0.37458681693811147,
          1.6050056336266567,
          -0.43166048244119914,
          -0.12014273961792735,
          -0.13045854613047161,
          -0.13379472154471353,
          -0.13414754643968735,
          -0.4426245404029993,
          -0.13341091914263878,
          -0.12500395644977155,
          -0.0408995126767865,
          -0.13402943706586626,
          -0.28612458887273995,
          -0.2990326023171366,
          -0.30488865883213767,
          0.00044346874287584816,
          -0.12021984515714278,
          -0.12772897105160771,
          -0.3055068034992258,
          -0.35284134204829837,
          -0.330746526571901,
          -0.3348247688770058,
          0.019387831838884,
          -0.13400882353467905,
          -0.13211163037836296,
          -0.13349838817019277,
          -0.3943435244295473,
          -0.4320300053901939,
          -0.10744065164031794,
          -0.2673908178922,
          -0.11968665619455811,
          -0.3750695760248008,
          -0.43194205035327327,
          -0.11997207829508738,
          -0.11995452203260508,
          -0.12054275287157094,
          -0.22977158307716256,
          -0.311780630275835,
          -0.3350985874678192,
          -0.13372712340838222,
          -0.2763582553721997,
          -0.19643425696999345,
          -0.1308449957968251,
          -0.43190683579142525,
          -0.26785722029115805,
          -0.11975354761111384,
          -0.30528909832033585,
          -0.3275583131425298,
          3.8639420859389357,
          0.4820477471043312,
          -0.12538946830335065,
          -0.36352111850939334,
          -0.13260067725203456,
          -0.3218358613526998,
          -0.3940330839997333,
          -0.11727277258846909,
          -0.2990132688167371,
          -0.1313267804363887,
          -0.30558149155507563,
          -0.13414971945124354,
          -0.29369362919603176,
          -0.13119280753555396,
          -0.33639645600312784,
          -0.3055340237095351,
          -0.1174916760563811,
          -0.09587913757763751,
          -0.39478511943512157,
          -0.10310791348968383,
          -0.18130777345413998,
          -0.13402361018913836,
          -0.3361322288978899,
          -0.00761687131597144,
          -0.07554853167312478,
          -0.1341585885886548,
          -0.12024744195242394,
          0.5153326689725403,
          -0.43201165495807986,
          -0.4375189125839047,
          -0.22916219036322227,
          -0.1443884672499174,
          -0.11998843485935445,
          -0.501374660149531,
          -0.22944544136141534,
          -0.36537200560390515,
          -0.13229098311436302,
          -0.13148779849312028,
          -0.2974235287803413,
          -0.1179061726168386,
          -0.30505809819981444,
          0.41418106923259806,
          -0.3152083262974551,
          -0.295099899782844,
          -0.2294806935690882,
          -0.12014385466708491,
          -0.104641733654041,
          -0.13013915817740945,
          -0.15859327846977173,
          -0.32259089221068216,
          -0.11113023676423656,
          -0.1327298584135793,
          -0.3226543682241304,
          0.2959877132003116,
          -0.28355620581139995,
          -0.33600854186438295,
          -0.2972913490200934,
          -0.2286457099603662,
          -0.12651516728371331,
          -0.13297422845751866,
          -0.16302495497871328,
          -0.42919274883509684,
          0.8482962210129064,
          -0.32245523014999106,
          -0.09483094530081944,
          -0.42329450135730423,
          -0.1339495347804763,
          -0.22944402186650786,
          -0.4298674523190295,
          -0.32120384169483995,
          -0.3188821130106614,
          -0.4041205699501367,
          -0.43075272077783683,
          -0.13415864675487782,
          -0.39869773914314555,
          -0.31242618497211794,
          -0.33604635059749477,
          -0.3344945938139357,
          -0.26714704489423186,
          -0.22959301729531292,
          -0.38234668165300595,
          -0.15714950327418017,
          -0.4314881382451341,
          -0.33525499037833895,
          0.32779020034849476,
          -0.3226352642459066,
          -0.12040244073261537,
          -0.4320008656082605,
          -0.33623467794570305,
          -0.08328945723100202,
          -0.3363907267716195,
          -0.13134037272373736,
          -0.29728479312007494,
          -0.12036132407414268,
          -0.23007906191363792,
          -0.13382373303573628,
          -0.004668858195720261,
          -0.4222574652878926,
          -0.3360074040834316,
          -0.4182279249272931,
          -0.100456203457417,
          -0.4215910740861305,
          -0.26857169646210893,
          -0.41843806251643173,
          -0.4213371706795033,
          -0.31735487010919095,
          -0.11764984754945372,
          -0.10135017843827596,
          3.7728188301006176,
          -0.4315956064431666,
          -0.06118996630464339,
          -0.2162554718593638,
          0.8192514252190537,
          -0.431956055294676,
          -0.42271859815873747,
          -0.33593477032017155,
          -0.3360880288809627,
          -0.22743181779662977,
          -0.42329450135730423,
          -0.4315327733126495,
          -0.32249885143431617,
          -0.3359355965019709,
          -0.3998297157106403,
          -0.336082110222945,
          -0.3316882715236207,
          -0.4319848400732605,
          0.32778478930411276,
          -0.33529597721572607,
          0.3405948207159923,
          -0.33628034219100683,
          -0.33635061869279576,
          -0.39971765711582824,
          -0.38270538489790495,
          -0.13414046747191952,
          0.3279147234886705,
          -0.14492635187850447,
          -0.33259350158477363,
          -0.32261183201485166,
          -0.4318953050381859,
          -0.33612959510299456,
          0.4827116186767948,
          -0.3362556857253191,
          -0.1076790534686888,
          -0.29891944515020236,
          -0.22171497218672898,
          -0.1341089498349786,
          -0.268340860494803,
          -0.222357642625567,
          -0.10136254124382034,
          -0.31721749785693576,
          -0.13225270378709278,
          -0.14464637547688533,
          -0.2986626201393151,
          -0.07309931188250154,
          -0.43116429034916465,
          -0.473112278223173,
          -0.4299107306765802,
          -0.10515332800838482,
          -0.42155095859023434,
          -0.4310628426163894,
          -0.2030614820449529,
          -0.4159824760102269,
          -0.4270234744294316,
          -0.3361993551196547,
          -0.3361984235418818,
          -0.3293483974529996,
          0.24498602908213515,
          -0.4315392260117672,
          -0.133673623094426,
          -0.2816415459634528,
          -0.08690398392410675,
          -0.4233283998577767,
          -0.3354137609590203,
          0.8334099179274691,
          -0.2841815923153748,
          -0.1334962208951657,
          -0.3974829285649671,
          -0.10753908422120655,
          0.5799198959678931,
          -0.11954802842887229,
          0.016487658295458653,
          -0.13263323232814778,
          0.36370571704764676,
          -0.4056475613138717,
          -0.22865377502160758,
          -0.40415768471628544,
          -0.4739555356751244,
          -0.13381430810548636,
          -0.3052208314994251,
          -0.1335782740567471,
          -0.22904657250263583,
          -0.2296209719580525,
          0.12635402727496903,
          0.32817777251221775,
          -0.30529133213749715,
          -0.11589026901350473,
          3.256785074178698,
          -0.1032378126306575,
          -0.3904277411265314,
          -0.22053396752037188,
          -0.47346365542368146,
          -0.1201802884764312,
          -0.431810354515726,
          -0.29899380806342407,
          5.271491036787621,
          -0.0600366368833037,
          -0.4231950051971321,
          1.6014969053294519,
          -0.13391150681526512,
          -0.13336562133072052,
          -0.13306826771399907,
          -0.13305528364699695,
          -0.3358364700658634,
          -0.3363336446946919,
          0.3283607851562495,
          -0.36123158360856306,
          0.6341134602966562,
          -0.4317512684528868,
          0.10994179903001977,
          -0.3478664475177202,
          -0.18427411381228676,
          -0.3362893518130058,
          -0.15042207849975925,
          -0.3623603774424214,
          -0.1012095254080025,
          0.4282319293466765,
          -0.32096754871609484,
          -0.39049348314154797,
          -0.4475439226189556,
          -0.12528017303781172,
          -0.3362399245385386,
          -0.4352375669499574,
          -0.13225092459037527,
          -0.4027970422110036,
          -0.33611127710839317,
          -0.11294872237576224,
          -0.22518871505037624,
          -0.15026818790607074,
          -0.1160213402638389,
          -0.1503679671278783,
          -0.43054979965941786,
          3.7776495578348066,
          0.15070494844401372,
          -0.30198065011447195,
          -0.09339197161242574,
          -0.3335847880183103,
          1.1617309551653672,
          0.3277675256015842,
          -0.04123281037889731,
          -0.3683412712599779,
          -0.39960422038441984,
          -0.22492854805642276,
          -0.09670666689322634,
          0.07618671112534219,
          -0.33525311434445004,
          -0.050758070526518824,
          -0.43112875848026694,
          1.0979078521654602,
          -0.22959512428742154,
          -0.15041975569278376,
          -0.3987726960965076,
          -0.14349471466701955,
          -0.13316662671620405,
          -0.32288722223049354,
          -0.3363556350522667,
          -0.39475721511545636,
          -0.22952096215861925,
          -0.1201598341527964,
          -0.2036462162481715,
          -0.39897795999457286,
          -0.28329457386931345,
          -0.22483316150614213,
          8.032386350903314,
          -0.11122843389392016,
          -0.3319260747032968,
          0.33162229031545104,
          0.05779725228818035,
          -0.12478758316593105,
          -0.18206885830529365,
          -0.2601767159097542,
          0.15274433336540152,
          -0.5102001199280919,
          -0.13373703044070254,
          0.17165619099970314,
          -0.22369182086348782,
          -0.4059239155851507,
          -0.18944811089568606,
          -0.4318272207567583,
          -0.25813728003446573,
          -0.2981574478301957,
          -0.34152724533952994,
          -0.06925891106672945,
          0.3356560200496753,
          -0.13397282462312635,
          -0.16222882541818717,
          -0.40524845428432715,
          -0.33638282824772553,
          -0.3363646243571687,
          -0.10020634031368535,
          -0.2925691201408801,
          -0.0982493669192873,
          -0.41868315141260926,
          -0.4227916585285986,
          -0.33608255764442596,
          3.987281869334637,
          -0.22869428232022543,
          -0.43391429703609474,
          -0.42297923240117336,
          0.32794895826304715,
          -0.3479295470489523,
          -0.28321207814296895,
          -0.20312102282874808,
          -0.14477231847489744,
          -0.19163132233920113,
          -0.12095658667195928,
          -0.2986898678625769,
          -0.10054021761189762,
          0.3318615716068148,
          0.6105026027651896,
          2.1278190908128023,
          -0.14060718362982375,
          -0.29893996961321867,
          -0.11491546161415458,
          -0.382370550050876,
          0.34148221221205677,
          -0.33555909700907316,
          -0.25737577264474015,
          2.2927624251665257,
          -0.3953293674613435,
          -0.2843101999137978,
          1.0279723183624307,
          -0.1828734880155512,
          -0.10195283168878806,
          -0.22957737999658387,
          -0.384340854698214,
          -0.3997169933879664,
          -0.436914063384534,
          -0.18016104736900038,
          -0.3993597077032042,
          -0.39844353374106467,
          -0.13399722772216852,
          -0.3292888801586357,
          -0.0965744962092386,
          -0.1425949536423866,
          -0.05466063382100265,
          3.1198063559769724,
          -0.3943367989882552,
          -0.43130356830117716,
          -0.296199730130374,
          -0.42208267463139765,
          -0.08023373238320591,
          -0.3653390868877887,
          -0.3941983085213155,
          -0.22954886343783948,
          -0.19647314860375342,
          -0.32304479709044526,
          -0.18230360000487464,
          -0.6529503370327052,
          0.0034893668764053114,
          -0.2210595232648113,
          -0.09994062990027587,
          -0.12018032579760789,
          0.7876689624191808,
          -0.1860826667498916,
          0.4073282731410549,
          -0.4362124607472087,
          -0.12915523438482454,
          -0.1295460751045781,
          -0.26583445500881464,
          -0.13572482864391797,
          -0.13289505445666622,
          -0.33608666058787895,
          -0.09927811072566581,
          -0.43666620079617535,
          -0.10104326237610403,
          -0.39983333705784496,
          0.5657898165421935,
          -0.1805221682886902,
          -0.39481119760326017,
          -0.3355718749482402,
          -0.2526215485679172,
          -0.3373018084347836,
          -0.42887775365453407,
          -0.11946044012378625,
          -0.10341793584055384,
          -0.11833396251449843,
          -0.4315296645075603,
          3.789819882495784,
          0.09660375457330767,
          0.5590708016458995,
          -0.429085912563049,
          -0.07600395472688405,
          -0.3349593798247566,
          -0.08021439961345132,
          -0.33578149679906427,
          -0.28551811721694187,
          -0.33629737757560196,
          -0.4232041141204082,
          -0.11764128300026896,
          -0.25038319708590207,
          -0.10371551362789114,
          -0.4189716383422808,
          -0.1199714528396745,
          -0.3355801559796033,
          0.577879713799639,
          -0.32868317290235527,
          -0.19080400774604106,
          -0.4281176348380174,
          -0.334027046906179,
          -0.4235685202385754,
          -0.13407385883142717,
          -0.13203983800864505,
          -0.436186308033497,
          -0.32114312629478364,
          3.7732086854754003,
          -0.10731012574593649,
          -0.33123774609224216,
          -0.35246867257058545,
          -0.8572855057859072,
          -0.10383797252907673,
          -0.3056882000175937,
          -0.16448444933419767,
          3.78300942551108,
          -0.11768281983010209,
          3.7842454271571637,
          -0.2665229085388378,
          -0.5450455004172654,
          -0.4235048123322999,
          33.84980569391448,
          -0.5103969499534199,
          2.495673140923114,
          -0.33446810221054674,
          0.3494068908979362,
          -0.10132975207270926,
          -0.29933458880303293
         ],
         "y": [
          1.0041858924749034,
          1.0038917336956998,
          1.4372388995309586,
          -1.2100887881617257,
          -1.8741282648174982,
          -0.974894655010602,
          1.0448511267774439,
          -2.058294873847605,
          -1.8742609463354243,
          -1.871817614588933,
          1.1165535563266198,
          -1.7124018203423592,
          0.768939833286807,
          0.5656612827050999,
          -0.9748570911951309,
          1.6876808716287628,
          -0.9341774472389345,
          -0.9748840466008117,
          1.0041760108023974,
          1.0042115142377288,
          -1.7007684471968798,
          -1.2178801309477847,
          -1.210176821693502,
          -0.9749970601836986,
          -0.9749070267174389,
          1.0041908546720384,
          -0.40841766962965126,
          -1.157327438338669,
          -0.9748731688272444,
          1.0041855777634425,
          -0.9748570326614339,
          1.0041853014928368,
          -0.9748521594702554,
          -0.9341764295187183,
          -0.06776527515883875,
          0.8217510142597477,
          -1.7094061607080626,
          -1.2226102519444606,
          -0.9828826689449335,
          -0.9748564806284195,
          -0.9750249479338958,
          -0.9748634996032819,
          1.3913812951394513,
          0.4418281340513439,
          -0.9748510978914825,
          -1.4886917378309275,
          -0.9757074958520124,
          -0.974885688131733,
          -0.9748880777519336,
          1.0041135431650523,
          0.8416473734058892,
          -1.0285323352027786,
          1.044851474340121,
          -1.2100886606556762,
          -0.9750059125870263,
          -0.974855911598837,
          -0.9748448426440086,
          1.1111418836694473,
          -0.9748690764476622,
          -1.9787423559260475,
          0.8017595171379504,
          -0.9748501277762044,
          0.7674876513862164,
          0.8008913095840918,
          1.6348943941514582,
          -0.9842422251570452,
          -1.2100889168210394,
          -0.9750438260046091,
          1.6348923405084252,
          0.4905401737969624,
          1.0039290506199736,
          1.004126849868523,
          1.0053679628931542,
          -0.9748572792643788,
          -0.975001282965089,
          -0.9748754055652572,
          0.8415817363036913,
          1.0448646859727735,
          -1.2106155259551454,
          0.07611416754142494,
          -1.2101042186671336,
          1.472647230867489,
          1.0448584152286549,
          -1.2101018772554797,
          -1.2101267606498745,
          -1.2100763701150146,
          -0.9341651900099852,
          1.0032175543604784,
          1.0041246274472737,
          -0.9748576561028647,
          0.5130275061644282,
          -1.1968911244425162,
          -0.9750071964768776,
          1.0448614858457697,
          0.07617825413502965,
          -1.2101031203209425,
          1.6348930637836512,
          1.0035589532972964,
          -2.2914291421364537,
          -2.1881510680160985,
          -0.7090291896949565,
          1.3832452207055228,
          -0.9749078141172725,
          0.7689122450934414,
          0.821755798042116,
          -0.9758905806277013,
          0.8009019937374543,
          -0.9749437945069322,
          1.634884216041637,
          -0.974845688692798,
          0.8005914864728861,
          -0.974939157891026,
          1.004185951686484,
          1.634885686464761,
          -0.975444982349819,
          -2.0350501327975437,
          0.8415671419845813,
          -1.6995680829228657,
          -1.4024715091356879,
          -0.9748457576213477,
          1.0041737022984836,
          -0.9809871983790001,
          -2.124861203819385,
          -0.9748443998427921,
          -1.2100890085050244,
          -1.0330714277203767,
          1.0448647475942114,
          0.24932524525526656,
          -0.9341848253589253,
          -2.0426593123126713,
          -1.2101096504026874,
          1.8371057574561114,
          -0.934177890062057,
          0.35566704754782136,
          -0.9749757819066465,
          -0.9749992104275861,
          0.8008416391739636,
          -1.8741428838656162,
          1.634861013174272,
          -2.0221127994003636,
          0.7683225350232861,
          1.687885260380141,
          -0.934174725373985,
          -1.2100886643601696,
          0.8065438319372173,
          -0.974968475438122,
          -1.8846027127371578,
          0.7689399292872859,
          1.0285044154054608,
          -0.9748943809458746,
          0.7689472665552924,
          -1.2228870281459265,
          1.3664929622265676,
          1.0041596732763625,
          0.8007626240744884,
          -0.9342165838870148,
          -2.08703715333103,
          -0.9749505577192983,
          -2.0174639929958693,
          1.044622070104825,
          0.739733917916933,
          0.7689285654937479,
          -0.04533447080717778,
          1.3913692144362255,
          -0.9748564259300933,
          -0.9341805107904314,
          1.044822644131778,
          0.7688127893648838,
          0.7686221012274032,
          1.3660333424472217,
          1.044777695922484,
          -0.9748443980472619,
          1.5065343401498297,
          1.002952865222097,
          1.0041580161566028,
          1.0041266340768302,
          1.4314803547766848,
          -0.9341810057933656,
          0.8411903638164837,
          -1.2886134989934812,
          1.0448336688037179,
          1.0041306714454867,
          -2.1821065059380556,
          0.7689404382325162,
          -1.2100821302015081,
          1.0448628143560978,
          1.0041727055740803,
          -1.7002898739701875,
          1.0041859707205332,
          -0.974965902585501,
          0.8009077361991472,
          -1.210082585834187,
          0.5066768372866027,
          -0.9748625715936182,
          1.749149705479062,
          1.3913372162509916,
          1.0041872442217215,
          1.043925999237493,
          -2.1112975994337275,
          1.3913617465256602,
          1.4316052529323966,
          1.6670884622758755,
          1.391191279752415,
          1.7563114536790172,
          -1.8741481358796035,
          -1.871817685939453,
          1.8053876738019323,
          1.0448464389870187,
          -0.9811651826262439,
          -0.9344484663888338,
          1.6380711832915342,
          1.0448624031375406,
          1.3913514369093365,
          1.0041621893746329,
          1.00415940919909,
          -0.9343070670058469,
          1.3913692144362255,
          1.0448269569032083,
          0.7689415477936882,
          1.0041658228702148,
          0.09975424050270539,
          1.00416861791758,
          1.0037745257526451,
          1.0448615548750806,
          -2.182113743886878,
          1.0040950917778766,
          0.781685418079743,
          1.0041778047537984,
          1.0041839276155236,
          1.3674640531913738,
          0.5765094829919473,
          -0.9748457145900036,
          -2.1821159376548476,
          -2.0426244815156793,
          1.0038704055852739,
          0.7689405160806975,
          1.0448589945384357,
          1.0041737110486595,
          -0.9974342369253152,
          1.004172023177124,
          -2.058412212832525,
          0.800866205585559,
          0.35091841478278396,
          -0.974846033701465,
          1.431598127268525,
          -0.9347969199830719,
          -1.871815101567703,
          1.003593308270159,
          -0.9749032974869956,
          -2.0426307713312166,
          0.8008805625226123,
          -2.0728501381435,
          1.0448019266596498,
          1.8166771864151205,
          1.0447995277116335,
          -0.9773730742741249,
          1.391315744093213,
          1.044802263696335,
          -0.6129731169413942,
          1.391144089743087,
          1.0445531391332872,
          1.0041726836980516,
          1.0041678376767669,
          1.003553006155199,
          0.5182047766605394,
          1.044840062687197,
          -0.9748656962636774,
          0.7996469851192226,
          -1.2116053516754188,
          1.3913625382054826,
          1.004120298550671,
          1.6325792376869483,
          0.5655424928232005,
          -0.9748890506754426,
          1.5064947280658885,
          -2.058359238930624,
          1.7296271073080611,
          -2.0119253963400903,
          -2.0236573921006573,
          -2.0616524868306323,
          -2.183293343469025,
          1.3660807782571067,
          -0.934227112458594,
          1.366013528309586,
          1.9103250426254055,
          -0.9748555019903337,
          1.6348735997520238,
          -0.9748912923613786,
          -0.9342021629944101,
          -0.934177094863697,
          0.9729052794159295,
          -2.182134098206469,
          1.6348806523274784,
          -1.9198662362780523,
          -1.0948505812359015,
          -1.126791216392155,
          1.4130505868426055,
          -0.9348564973512719,
          1.91032667678405,
          -1.2100887854030948,
          1.0448591761658272,
          0.800890633841779,
          11.085867463022916,
          -0.9814895314951617,
          1.3913422403913214,
          -0.9690776783287223,
          -0.9748562995909525,
          -0.9748964931214776,
          -0.9749060070099683,
          -0.9749059638734016,
          1.0041561413757416,
          1.004183403646029,
          -2.18215638989738,
          1.1186650018776316,
          1.3867052688788188,
          1.0448478909191459,
          -1.8848855161849674,
          0.49029663178560784,
          -0.935195485109259,
          1.0041759807680093,
          -1.488504415752142,
          0.5788906845882594,
          -1.8718172186522128,
          0.9903172260843234,
          0.7688941263072836,
          1.365350054500595,
          1.677284855354293,
          -2.0871159531710424,
          1.0041726881434863,
          1.5706327746497635,
          -0.974903291576025,
          1.3314284128768035,
          1.004177192678767,
          0.5603354522900994,
          -0.9343796908662356,
          -1.4885157189855853,
          -1.8743093063463172,
          -1.4885073865127771,
          1.0447750882756823,
          1.805157587375381,
          1.3482448623261956,
          1.634766219512739,
          -1.6999690022602798,
          1.0040574569779088,
          -2.2351200583518804,
          -2.1821082221723693,
          -1.880440668405622,
          1.1627849366627903,
          1.367461148253343,
          -0.9345100987373515,
          -2.0589103535769517,
          0.9727386100830671,
          1.0040912960133985,
          -0.9778487196606657,
          1.0448348627600674,
          -1.2282215216909498,
          -0.9341775997157473,
          -1.4885004698686746,
          1.3673982746929696,
          -1.488791859974815,
          -0.974882704786193,
          1.003640108027059,
          1.0041834618603562,
          0.8415665783291654,
          -0.9341794536846402,
          -1.2100881700431836,
          -1.1033540307176521,
          1.5065389882498832,
          -0.0983886353644765,
          0.48914914198975035,
          -2.812864278916902,
          -1.9165313622181055,
          1.004048527726433,
          -2.182307748415272,
          -0.9807698750462481,
          -2.087077359106975,
          -1.1975102615768658,
          1.4311096954387041,
          7.984027047371382,
          0.4110404894081371,
          -0.9748688471550475,
          -0.9859096193571057,
          -0.9344731719426204,
          0.8756781837696762,
          6.175315954506771,
          1.0448489513073003,
          1.0217417489947955,
          0.8008234482313457,
          1.2834075313674513,
          -1.8782365148800322,
          -2.1827301710358,
          -0.9748571596663012,
          -1.8076715211459915,
          1.3660558497549418,
          1.004184027878318,
          1.0041827756343848,
          -1.871846047494102,
          0.8005952223947657,
          -2.111473129925295,
          1.3183431941001444,
          1.3913262524620897,
          1.0041673037089662,
          1.7536357786078471,
          -0.9342272470347474,
          1.5706371709087363,
          1.3913308801798134,
          -2.1821114919345828,
          0.6384524466279478,
          1.0010007950781972,
          -0.6129554275997684,
          -2.0426346553342696,
          0.3325692028708207,
          -2.118508380612187,
          0.800886002774436,
          -2.1112907242156034,
          -2.1824802331234077,
          -2.079846519659623,
          -2.296890200308684,
          0.9981415333575172,
          0.8008733573696425,
          -1.96468771772517,
          1.7609564642391224,
          -2.1827108148566112,
          1.00413359928785,
          1.4845606236119406,
          0.224412203020818,
          1.3670618429856822,
          0.5656075848265368,
          1.6185380840995227,
          -1.137277824698135,
          -2.1222155278505963,
          -0.9341783283977303,
          0.8417149893192161,
          1.3674601172299778,
          1.5707550961771801,
          0.7902174777964696,
          0.782157211522588,
          1.3674124954805402,
          -0.9748579661915832,
          1.0035532038876769,
          -2.059402525592789,
          -1.9565089417491994,
          -0.9573825345384382,
          -2.192490411105194,
          0.8415456587880384,
          1.0448342819947711,
          0.8007406871898719,
          1.3912485318457894,
          -1.211320646871842,
          0.8550814234218449,
          0.8415165826420782,
          -0.9341808591023619,
          0.9928363151576843,
          0.7578733228375373,
          -1.1373270778543867,
          0.5710864804358678,
          -1.8764439413621457,
          0.8184633399344743,
          -2.1113369747631263,
          -1.210088785527086,
          -0.002897649832350384,
          0.8422736349515526,
          -2.187139092955521,
          1.5707253645076842,
          -2.018323973690469,
          -2.0182728346933523,
          -0.09612560271045453,
          -2.1027759621171866,
          -0.9749185587704788,
          1.0041731973276,
          -1.8719695100816172,
          1.5707468060705068,
          -1.8718231550672844,
          1.3674647387400167,
          0.9580874486605101,
          -1.4025345352517502,
          0.8415672522542081,
          1.0041335568360954,
          1.0214712748649188,
          1.7578900254443095,
          1.0445994876047666,
          -1.210114617399457,
          -0.3441394777951793,
          -1.2101791364897923,
          1.0448466580638849,
          1.8048698399312095,
          0.9826518571935363,
          -1.0369299204519449,
          1.0448744676982658,
          -1.4908649012756727,
          1.0040594538245857,
          -2.0226869099387583,
          1.0041523831417072,
          0.565655596426446,
          1.0041862808516988,
          1.0445658280766768,
          -0.9754454793843716,
          0.9975799195574101,
          0.7695568235703946,
          1.0442517089610819,
          -1.210101875177549,
          1.0041788182387734,
          -1.0052964642509854,
          1.0039490328580583,
          -1.1573397717366052,
          1.0447411614730346,
          1.0040888057287767,
          1.391375524043593,
          -0.9748469935518728,
          -0.9749564118980902,
          0.26975260238918136,
          0.768890261185891,
          1.805366049927742,
          0.794969473035666,
          1.0040061819860118,
          0.49050439435797516,
          -0.5319894322427458,
          -1.699572346186601,
          1.634891659097017,
          -1.928968280542138,
          1.8055035748388737,
          -1.8741471180598908,
          1.805507681169162,
          0.5650761261275816,
          2.0936857038817362,
          1.3913759758346766,
          0.5104073407729997,
          1.4000339198851326,
          0.7513971715276576,
          1.0040282679271262,
          -2.1829471774845204,
          -1.8718176180775663,
          0.800900269864858
         ],
         "z": [
          -0.6281985663890555,
          -0.6285169869774947,
          -0.7692858979149894,
          0.20762370326195886,
          0.43108382417284474,
          -0.01490761904108324,
          -0.5267679582956807,
          0.46626707431972353,
          0.43106687574789937,
          0.4872643325181323,
          -0.1677984392505485,
          0.28089173199140927,
          -0.4056857776797292,
          -0.07607754860175062,
          -0.014887826496406268,
          -0.669569693045116,
          0.08654543937239927,
          -0.014892693190549419,
          -0.6282045998258691,
          -0.6283667526872263,
          0.28486143331060165,
          -0.043129268284533236,
          0.20757245354975673,
          -0.014937272012840496,
          -0.014894057927187052,
          -0.628231139085307,
          0.09157885424590824,
          0.1657839672275366,
          -0.014897149683274668,
          -0.6281986144216505,
          -0.014888210723528188,
          -0.6281989149654496,
          -0.014886966629190455,
          0.08654721501093565,
          -0.3801621557548765,
          -0.44751174767060403,
          0.28002143037058913,
          0.20111623811342125,
          -0.01919659847608897,
          -0.014891834380801123,
          -0.014964737668580502,
          -0.014892269287138559,
          -0.05894327240025148,
          -0.350047688597358,
          -0.014885883992267666,
          0.30463194649618003,
          -0.015223259430148258,
          -0.014907286331536181,
          -0.014901095378278098,
          -0.6282310202823749,
          -0.1975978623474421,
          -0.04552790882495162,
          -0.5267702397679954,
          0.2076228662862273,
          -0.014944363420385265,
          -0.014891341526231656,
          -0.014885146696260542,
          -0.6851023555867315,
          -0.014897942551244646,
          0.3698558801839009,
          -0.3042243559759284,
          -0.01488702690957927,
          -0.4062889148140688,
          -0.29859367490178257,
          -0.7384461170323584,
          -0.016614315440938835,
          0.20762454780790898,
          -0.014998134656175293,
          -0.73843263650073,
          -0.30860304927758825,
          -0.6282883978304035,
          -0.6282253504201835,
          -0.6359579174748065,
          -0.014886591971512726,
          -0.014909552814717775,
          -0.01489529527594927,
          -0.19716700702443896,
          -0.526763950069644,
          0.2074155715093615,
          0.0017233473316511968,
          0.20761501154393225,
          -0.47009916905818666,
          -0.5267650642062931,
          0.20762083304596918,
          0.2076235056511358,
          0.20762992134733196,
          0.08654954203779218,
          -0.6286071266214984,
          -0.6282192181554856,
          -0.014892574488409856,
          -0.23240028436027343,
          0.11580164375088285,
          -0.01493593570560058,
          -0.5267661939996595,
          0.0017254779412607909,
          0.2076163085388009,
          -0.7384373842267978,
          -0.6283112903897883,
          0.3655184962345848,
          0.42524259107263873,
          -0.2686431176683544,
          -0.14023605166687406,
          -0.014910537047712684,
          -0.40569917486881474,
          -0.4475246303997192,
          -0.01511817713505992,
          -0.2985953975160525,
          -0.014933392030257559,
          -0.7384300428134218,
          -0.01488499654672586,
          -0.2986712049055483,
          -0.014936827198662154,
          -0.628198954888352,
          -0.7384312388090825,
          -0.015168080163127125,
          0.4797617078434448,
          -0.19715576855345673,
          0.28543815900838765,
          0.2928933784582361,
          -0.014887686974554401,
          -0.6282031090233323,
          -0.016840571048216364,
          0.4653092763107528,
          -0.014884964627709659,
          0.20762514964028148,
          -0.021651693058025397,
          -0.5267643503372466,
          -0.50026800895058,
          0.0865389058063602,
          0.49312906412866236,
          0.2076221353392962,
          -0.7047463443777539,
          0.0865441180728936,
          -0.31235283144858567,
          -0.014908838470470955,
          -0.01492315737350034,
          -0.29862202593233544,
          0.4311083049734134,
          -0.7384384015303562,
          0.4227440320119252,
          -0.4057687690068385,
          -0.6695427042816529,
          0.08654448481897488,
          0.20762289060327835,
          -0.36606305460406263,
          -0.01495578488035016,
          0.5433671220275423,
          -0.4056864078464447,
          -0.5316273385059497,
          -0.014909418057870685,
          -0.40568594824082166,
          0.20028509110662504,
          -0.6523964422472425,
          -0.6282040374386156,
          -0.2986151750140471,
          0.08653174314087587,
          0.5121608413148322,
          -0.014897306372345069,
          0.3236269215484757,
          -0.5267949488317979,
          -0.31565567220040175,
          -0.40568791904249885,
          -0.36735903254192986,
          -0.05894853381648762,
          -0.014887965350989508,
          0.08654440874521746,
          -0.5268050806829742,
          -0.40570051698512094,
          -0.4057268442850401,
          -0.6497599315640172,
          -0.5267806286416489,
          -0.014884963602851358,
          -0.13063028110923258,
          -0.6285608854560993,
          -0.6282030252870215,
          -0.6282323900810683,
          -0.4088342948124312,
          0.08654765804541754,
          -0.197375807285682,
          0.7425863437594312,
          -0.5267717468581399,
          -0.6282166113843921,
          0.42780338003132146,
          -0.4056855205859372,
          0.2076276241553433,
          -0.5267643444104003,
          -0.6282007944018875,
          0.2851024456882088,
          -0.6281990798317361,
          -0.01493039280178496,
          -0.2986330922055605,
          0.20762680003232145,
          -0.4196273718227545,
          -0.01488990477023934,
          -0.8214924551400857,
          -0.05896680756595138,
          -0.6282074393532152,
          -0.5269443358725331,
          0.5164504415176909,
          -0.058984074113087634,
          -0.408819106344876,
          -0.5619518849148984,
          -0.05896862496827244,
          -0.8156779894189267,
          0.43110346274061295,
          0.487264800877492,
          0.17625562150603374,
          -0.5267710113297073,
          -0.015672246156246326,
          0.08629498556174042,
          -0.7628930773954585,
          -0.5267652530224868,
          -0.058958680928352956,
          -0.6282059244612215,
          -0.6282023039815499,
          0.08651684915108399,
          -0.05894853381648762,
          -0.5267699693823643,
          -0.4056885758909408,
          -0.6282063518996154,
          -0.16961380808577878,
          -0.6282035587565612,
          -0.6282493134985389,
          -0.5267645330817442,
          0.4278043825147099,
          -0.6282113755532278,
          -0.30992957162593476,
          -0.6282004418110961,
          -0.6281996878975797,
          -0.1920416118361031,
          -0.3204325474220305,
          -0.014885191376366382,
          0.4278018705318773,
          0.4931363085005,
          -0.628241686326653,
          -0.40568603159727273,
          -0.5267661355736417,
          -0.628203166461271,
          0.07905238925192408,
          -0.6282002612164371,
          0.46625511639911704,
          -0.2985930212323097,
          -0.516579189267474,
          -0.01488582679461575,
          -0.40882317355337355,
          0.08646826561789658,
          0.4872647488574659,
          -0.6285368034370367,
          -0.014918537356252237,
          0.4931310872394365,
          -0.2986002763491774,
          0.4203312003496058,
          -0.5267747889909011,
          -0.7684039745955998,
          -0.526801322614751,
          -0.015195933952594581,
          -0.05897929712222781,
          -0.5267770013684285,
          -0.03642364106710946,
          -0.05907744012171301,
          -0.526832929249313,
          -0.6282015476678953,
          -0.6282009739452322,
          -0.6282722521363685,
          -0.08161657350643149,
          -0.5267714368052803,
          -0.014892734495957481,
          -0.2988134265957766,
          0.20709732315632592,
          -0.05894699048433438,
          -0.6282119427993723,
          -0.6869187739433139,
          -0.0760909087450353,
          -0.014893670070528818,
          -0.13065142668477076,
          0.4662456313674764,
          -0.6988041769266786,
          0.4565038901815363,
          0.43144431212131873,
          0.44815598208658025,
          0.42718014284173517,
          -0.6497330634303902,
          0.08653320553913439,
          -0.6497567099476519,
          -0.6793807464377066,
          -0.01489097253195429,
          -0.7384364607776626,
          -0.014891639429278722,
          0.08653855539995724,
          0.08654777719834793,
          -0.6342702826278612,
          0.4277984657532389,
          -0.7384358159615074,
          0.5219903815807715,
          -0.07275345616961224,
          0.07378052487462927,
          -0.18067837866064582,
          0.08643653553324787,
          -0.6793914733882729,
          0.20762368515372154,
          -0.5267679758550435,
          -0.29859442235846023,
          0.7840825870564758,
          -0.01565719443232659,
          -0.0589473586978928,
          -0.05273628134479874,
          -0.014888794666868162,
          -0.01489555330651295,
          -0.014900751494953861,
          -0.014901034652174308,
          -0.6282072872837813,
          -0.6281999869705108,
          0.42779727992111544,
          -0.1668212953040866,
          -0.09128126292812426,
          -0.5267678578659157,
          0.4843437966011544,
          -0.30867968230159765,
          0.0857020637539895,
          -0.6282000255491674,
          0.30470880313500665,
          -0.1678901977325611,
          0.48726173350876095,
          -0.6428638315495336,
          -0.40571553804681476,
          -0.6499678598181639,
          -0.7991175686648591,
          0.512144064463881,
          -0.6282006799839128,
          -0.5216709283301413,
          -0.014918576157068339,
          -0.19837803752547623,
          -0.6282039850011287,
          -0.07911758777211189,
          0.08647774112432435,
          0.3047068944101397,
          0.4310883550659396,
          0.3047080090258365,
          -0.5267846519202131,
          0.17618042543459386,
          -0.6594546169112018,
          -0.7384926495313775,
          0.2852793419762778,
          -0.6282433863835684,
          0.41645056263564,
          0.4278040755413676,
          0.4302389206944865,
          -0.32012640457791736,
          -0.19204368363441743,
          0.08648814882594714,
          0.4660813201784973,
          -0.6331762311411337,
          -0.6282118278658781,
          -0.016301781421818505,
          -0.5267795842310796,
          0.23267099311887623,
          0.08654728587744566,
          0.30470827003599305,
          -0.19205377684151329,
          0.304595763416751,
          -0.014901501135322319,
          -0.6284211985063122,
          -0.6281995234850656,
          -0.19715629668515156,
          0.08654592584880946,
          0.20762317202515565,
          0.10718383747775219,
          -0.13062485349914915,
          0.1474083320175832,
          -0.5088319799690753,
          0.34018752119205103,
          0.5008867579989885,
          -0.6282777907332716,
          0.4277460223530685,
          -0.01826712571916267,
          0.512128794571944,
          0.11557005607720336,
          -0.40893805980436804,
          10.808135062235586,
          10.304116458257438,
          -0.014890991513162343,
          -0.020074185891147813,
          0.08645715785454393,
          -0.5061295285582712,
          15.693892176622033,
          -0.5267663623084236,
          -0.6352701954003024,
          -0.2986040908143743,
          -0.09438462569257988,
          0.43056869023111616,
          0.42771144493296576,
          -0.014887377037681861,
          0.5355668131316363,
          -0.6497385508901811,
          -0.6281990108616052,
          -0.6281992470386422,
          0.48724379594722406,
          -0.29869572825856056,
          0.5164247161516472,
          -0.029027059173078098,
          -0.058954032150870514,
          -0.6282033881847978,
          0.2232868977198698,
          0.08653408892444742,
          -0.5216997862704839,
          -0.058950584787413954,
          0.4278005932506776,
          -0.024926910785303267,
          -0.6289469609321324,
          -0.03642453385517712,
          0.4931342583609474,
          -0.42085889683712013,
          0.527957581539917,
          -0.2986003596743474,
          0.5164513972644925,
          0.4277620316327545,
          0.39332918328139105,
          0.4033423728381612,
          -0.6316485844091585,
          -0.2985934581127794,
          0.5857337393104863,
          -0.8148556196480424,
          0.4275843870258174,
          -0.6282104618540038,
          -0.3399414600473084,
          -0.3739237438392001,
          -0.19208625332611337,
          -0.07609613046943906,
          0.015754687634230526,
          0.2587772373344541,
          0.40826252751734915,
          0.0865469953976348,
          -0.35454864394444957,
          -0.19204114386759938,
          -0.5216500344669196,
          -0.29983005975426674,
          -0.49749983467221637,
          -0.19206256337530844,
          -0.014886755982518329,
          -0.628273550092675,
          0.4661387848725685,
          0.4156225848659401,
          -0.021971209225877888,
          0.35342680669986687,
          -0.19716273129798811,
          -0.5267757719692499,
          -0.2986358494483272,
          -0.058959684032545444,
          0.20691969508315866,
          -0.5386005181295654,
          -0.19716213318205342,
          0.0865466951357559,
          -0.6298030804362905,
          -0.1872608064955477,
          0.258771074860229,
          16.958567914528697,
          0.48558786058523645,
          -0.3056607812571639,
          0.5164442313521036,
          0.2076236859676238,
          -0.5197063227216356,
          -0.2017087708352034,
          0.4267176955197584,
          -0.5216614072437519,
          0.4393328787675895,
          0.43933497841600466,
          0.20355309422068146,
          0.3420770348675619,
          -0.014902920795120417,
          -0.6282040223722637,
          0.4872390555726855,
          -0.5216543234136722,
          0.4872589025411994,
          -0.19203922014551583,
          -0.6418594233733735,
          0.2928842866577942,
          -0.197155223961541,
          -0.6282101831920303,
          -0.6353551036023147,
          -0.8154444859399564,
          -0.526798923604677,
          0.20761144417173272,
          -0.12511527780091672,
          0.20759524023573217,
          -0.5267724493949303,
          0.17595521794302738,
          -0.6348275948957587,
          -0.022115052736456885,
          -0.5268281550823023,
          0.3034053465016687,
          -0.628214213284535,
          0.43881997235024267,
          -0.628208003369381,
          -0.0760761613957993,
          -0.6282011155959453,
          -0.5269162220611504,
          -0.015164817526973863,
          -0.6292304611397546,
          -0.4104461452838069,
          -0.5269683205240069,
          0.2076208194060044,
          -0.6282155506946944,
          -0.026392824135538343,
          -0.6283350037001945,
          0.16577613647012546,
          -0.5268325466395062,
          -0.6282377619376265,
          -0.05894344247726266,
          -0.014886460193294097,
          -0.014916586155166247,
          -0.08334120663397174,
          -0.4057113070057528,
          0.17624992720966373,
          -0.3019712875013428,
          -0.6282873341514168,
          -0.30860664165715385,
          10.882624578093907,
          0.285454305314693,
          -0.738428670946991,
          0.38855867656349924,
          0.17602333356352512,
          0.4311040436948746,
          0.17599637877418647,
          -0.0764116912772613,
          10.301382602866783,
          -0.058944861240428956,
          -0.4295397221683507,
          0.2703455590599325,
          0.08378269315217725,
          -0.6282209067334563,
          0.42744374598730656,
          0.4872643554182302,
          -0.2985883097455931
         ]
        }
       ],
       "layout": {
        "coloraxis": {
         "colorbar": {
          "title": {
           "text": "class"
          }
         },
         "colorscale": [
          [
           0,
           "#0d0887"
          ],
          [
           0.1111111111111111,
           "#46039f"
          ],
          [
           0.2222222222222222,
           "#7201a8"
          ],
          [
           0.3333333333333333,
           "#9c179e"
          ],
          [
           0.4444444444444444,
           "#bd3786"
          ],
          [
           0.5555555555555556,
           "#d8576b"
          ],
          [
           0.6666666666666666,
           "#ed7953"
          ],
          [
           0.7777777777777778,
           "#fb9f3a"
          ],
          [
           0.8888888888888888,
           "#fdca26"
          ],
          [
           1,
           "#f0f921"
          ]
         ]
        },
        "legend": {
         "tracegroupgap": 0
        },
        "margin": {
         "t": 60
        },
        "scene": {
         "domain": {
          "x": [
           0,
           1
          ],
          "y": [
           0,
           1
          ]
         },
         "xaxis": {
          "title": {
           "text": "PC 1"
          }
         },
         "yaxis": {
          "title": {
           "text": "PC 2"
          }
         },
         "zaxis": {
          "title": {
           "text": "PC 3"
          }
         }
        },
        "template": {
         "data": {
          "bar": [
           {
            "error_x": {
             "color": "#2a3f5f"
            },
            "error_y": {
             "color": "#2a3f5f"
            },
            "marker": {
             "line": {
              "color": "#E5ECF6",
              "width": 0.5
             }
            },
            "type": "bar"
           }
          ],
          "barpolar": [
           {
            "marker": {
             "line": {
              "color": "#E5ECF6",
              "width": 0.5
             }
            },
            "type": "barpolar"
           }
          ],
          "carpet": [
           {
            "aaxis": {
             "endlinecolor": "#2a3f5f",
             "gridcolor": "white",
             "linecolor": "white",
             "minorgridcolor": "white",
             "startlinecolor": "#2a3f5f"
            },
            "baxis": {
             "endlinecolor": "#2a3f5f",
             "gridcolor": "white",
             "linecolor": "white",
             "minorgridcolor": "white",
             "startlinecolor": "#2a3f5f"
            },
            "type": "carpet"
           }
          ],
          "choropleth": [
           {
            "colorbar": {
             "outlinewidth": 0,
             "ticks": ""
            },
            "type": "choropleth"
           }
          ],
          "contour": [
           {
            "colorbar": {
             "outlinewidth": 0,
             "ticks": ""
            },
            "colorscale": [
             [
              0,
              "#0d0887"
             ],
             [
              0.1111111111111111,
              "#46039f"
             ],
             [
              0.2222222222222222,
              "#7201a8"
             ],
             [
              0.3333333333333333,
              "#9c179e"
             ],
             [
              0.4444444444444444,
              "#bd3786"
             ],
             [
              0.5555555555555556,
              "#d8576b"
             ],
             [
              0.6666666666666666,
              "#ed7953"
             ],
             [
              0.7777777777777778,
              "#fb9f3a"
             ],
             [
              0.8888888888888888,
              "#fdca26"
             ],
             [
              1,
              "#f0f921"
             ]
            ],
            "type": "contour"
           }
          ],
          "contourcarpet": [
           {
            "colorbar": {
             "outlinewidth": 0,
             "ticks": ""
            },
            "type": "contourcarpet"
           }
          ],
          "heatmap": [
           {
            "colorbar": {
             "outlinewidth": 0,
             "ticks": ""
            },
            "colorscale": [
             [
              0,
              "#0d0887"
             ],
             [
              0.1111111111111111,
              "#46039f"
             ],
             [
              0.2222222222222222,
              "#7201a8"
             ],
             [
              0.3333333333333333,
              "#9c179e"
             ],
             [
              0.4444444444444444,
              "#bd3786"
             ],
             [
              0.5555555555555556,
              "#d8576b"
             ],
             [
              0.6666666666666666,
              "#ed7953"
             ],
             [
              0.7777777777777778,
              "#fb9f3a"
             ],
             [
              0.8888888888888888,
              "#fdca26"
             ],
             [
              1,
              "#f0f921"
             ]
            ],
            "type": "heatmap"
           }
          ],
          "heatmapgl": [
           {
            "colorbar": {
             "outlinewidth": 0,
             "ticks": ""
            },
            "colorscale": [
             [
              0,
              "#0d0887"
             ],
             [
              0.1111111111111111,
              "#46039f"
             ],
             [
              0.2222222222222222,
              "#7201a8"
             ],
             [
              0.3333333333333333,
              "#9c179e"
             ],
             [
              0.4444444444444444,
              "#bd3786"
             ],
             [
              0.5555555555555556,
              "#d8576b"
             ],
             [
              0.6666666666666666,
              "#ed7953"
             ],
             [
              0.7777777777777778,
              "#fb9f3a"
             ],
             [
              0.8888888888888888,
              "#fdca26"
             ],
             [
              1,
              "#f0f921"
             ]
            ],
            "type": "heatmapgl"
           }
          ],
          "histogram": [
           {
            "marker": {
             "colorbar": {
              "outlinewidth": 0,
              "ticks": ""
             }
            },
            "type": "histogram"
           }
          ],
          "histogram2d": [
           {
            "colorbar": {
             "outlinewidth": 0,
             "ticks": ""
            },
            "colorscale": [
             [
              0,
              "#0d0887"
             ],
             [
              0.1111111111111111,
              "#46039f"
             ],
             [
              0.2222222222222222,
              "#7201a8"
             ],
             [
              0.3333333333333333,
              "#9c179e"
             ],
             [
              0.4444444444444444,
              "#bd3786"
             ],
             [
              0.5555555555555556,
              "#d8576b"
             ],
             [
              0.6666666666666666,
              "#ed7953"
             ],
             [
              0.7777777777777778,
              "#fb9f3a"
             ],
             [
              0.8888888888888888,
              "#fdca26"
             ],
             [
              1,
              "#f0f921"
             ]
            ],
            "type": "histogram2d"
           }
          ],
          "histogram2dcontour": [
           {
            "colorbar": {
             "outlinewidth": 0,
             "ticks": ""
            },
            "colorscale": [
             [
              0,
              "#0d0887"
             ],
             [
              0.1111111111111111,
              "#46039f"
             ],
             [
              0.2222222222222222,
              "#7201a8"
             ],
             [
              0.3333333333333333,
              "#9c179e"
             ],
             [
              0.4444444444444444,
              "#bd3786"
             ],
             [
              0.5555555555555556,
              "#d8576b"
             ],
             [
              0.6666666666666666,
              "#ed7953"
             ],
             [
              0.7777777777777778,
              "#fb9f3a"
             ],
             [
              0.8888888888888888,
              "#fdca26"
             ],
             [
              1,
              "#f0f921"
             ]
            ],
            "type": "histogram2dcontour"
           }
          ],
          "mesh3d": [
           {
            "colorbar": {
             "outlinewidth": 0,
             "ticks": ""
            },
            "type": "mesh3d"
           }
          ],
          "parcoords": [
           {
            "line": {
             "colorbar": {
              "outlinewidth": 0,
              "ticks": ""
             }
            },
            "type": "parcoords"
           }
          ],
          "pie": [
           {
            "automargin": true,
            "type": "pie"
           }
          ],
          "scatter": [
           {
            "marker": {
             "colorbar": {
              "outlinewidth": 0,
              "ticks": ""
             }
            },
            "type": "scatter"
           }
          ],
          "scatter3d": [
           {
            "line": {
             "colorbar": {
              "outlinewidth": 0,
              "ticks": ""
             }
            },
            "marker": {
             "colorbar": {
              "outlinewidth": 0,
              "ticks": ""
             }
            },
            "type": "scatter3d"
           }
          ],
          "scattercarpet": [
           {
            "marker": {
             "colorbar": {
              "outlinewidth": 0,
              "ticks": ""
             }
            },
            "type": "scattercarpet"
           }
          ],
          "scattergeo": [
           {
            "marker": {
             "colorbar": {
              "outlinewidth": 0,
              "ticks": ""
             }
            },
            "type": "scattergeo"
           }
          ],
          "scattergl": [
           {
            "marker": {
             "colorbar": {
              "outlinewidth": 0,
              "ticks": ""
             }
            },
            "type": "scattergl"
           }
          ],
          "scattermapbox": [
           {
            "marker": {
             "colorbar": {
              "outlinewidth": 0,
              "ticks": ""
             }
            },
            "type": "scattermapbox"
           }
          ],
          "scatterpolar": [
           {
            "marker": {
             "colorbar": {
              "outlinewidth": 0,
              "ticks": ""
             }
            },
            "type": "scatterpolar"
           }
          ],
          "scatterpolargl": [
           {
            "marker": {
             "colorbar": {
              "outlinewidth": 0,
              "ticks": ""
             }
            },
            "type": "scatterpolargl"
           }
          ],
          "scatterternary": [
           {
            "marker": {
             "colorbar": {
              "outlinewidth": 0,
              "ticks": ""
             }
            },
            "type": "scatterternary"
           }
          ],
          "surface": [
           {
            "colorbar": {
             "outlinewidth": 0,
             "ticks": ""
            },
            "colorscale": [
             [
              0,
              "#0d0887"
             ],
             [
              0.1111111111111111,
              "#46039f"
             ],
             [
              0.2222222222222222,
              "#7201a8"
             ],
             [
              0.3333333333333333,
              "#9c179e"
             ],
             [
              0.4444444444444444,
              "#bd3786"
             ],
             [
              0.5555555555555556,
              "#d8576b"
             ],
             [
              0.6666666666666666,
              "#ed7953"
             ],
             [
              0.7777777777777778,
              "#fb9f3a"
             ],
             [
              0.8888888888888888,
              "#fdca26"
             ],
             [
              1,
              "#f0f921"
             ]
            ],
            "type": "surface"
           }
          ],
          "table": [
           {
            "cells": {
             "fill": {
              "color": "#EBF0F8"
             },
             "line": {
              "color": "white"
             }
            },
            "header": {
             "fill": {
              "color": "#C8D4E3"
             },
             "line": {
              "color": "white"
             }
            },
            "type": "table"
           }
          ]
         },
         "layout": {
          "annotationdefaults": {
           "arrowcolor": "#2a3f5f",
           "arrowhead": 0,
           "arrowwidth": 1
          },
          "coloraxis": {
           "colorbar": {
            "outlinewidth": 0,
            "ticks": ""
           }
          },
          "colorscale": {
           "diverging": [
            [
             0,
             "#8e0152"
            ],
            [
             0.1,
             "#c51b7d"
            ],
            [
             0.2,
             "#de77ae"
            ],
            [
             0.3,
             "#f1b6da"
            ],
            [
             0.4,
             "#fde0ef"
            ],
            [
             0.5,
             "#f7f7f7"
            ],
            [
             0.6,
             "#e6f5d0"
            ],
            [
             0.7,
             "#b8e186"
            ],
            [
             0.8,
             "#7fbc41"
            ],
            [
             0.9,
             "#4d9221"
            ],
            [
             1,
             "#276419"
            ]
           ],
           "sequential": [
            [
             0,
             "#0d0887"
            ],
            [
             0.1111111111111111,
             "#46039f"
            ],
            [
             0.2222222222222222,
             "#7201a8"
            ],
            [
             0.3333333333333333,
             "#9c179e"
            ],
            [
             0.4444444444444444,
             "#bd3786"
            ],
            [
             0.5555555555555556,
             "#d8576b"
            ],
            [
             0.6666666666666666,
             "#ed7953"
            ],
            [
             0.7777777777777778,
             "#fb9f3a"
            ],
            [
             0.8888888888888888,
             "#fdca26"
            ],
            [
             1,
             "#f0f921"
            ]
           ],
           "sequentialminus": [
            [
             0,
             "#0d0887"
            ],
            [
             0.1111111111111111,
             "#46039f"
            ],
            [
             0.2222222222222222,
             "#7201a8"
            ],
            [
             0.3333333333333333,
             "#9c179e"
            ],
            [
             0.4444444444444444,
             "#bd3786"
            ],
            [
             0.5555555555555556,
             "#d8576b"
            ],
            [
             0.6666666666666666,
             "#ed7953"
            ],
            [
             0.7777777777777778,
             "#fb9f3a"
            ],
            [
             0.8888888888888888,
             "#fdca26"
            ],
            [
             1,
             "#f0f921"
            ]
           ]
          },
          "colorway": [
           "#636efa",
           "#EF553B",
           "#00cc96",
           "#ab63fa",
           "#FFA15A",
           "#19d3f3",
           "#FF6692",
           "#B6E880",
           "#FF97FF",
           "#FECB52"
          ],
          "font": {
           "color": "#2a3f5f"
          },
          "geo": {
           "bgcolor": "white",
           "lakecolor": "white",
           "landcolor": "#E5ECF6",
           "showlakes": true,
           "showland": true,
           "subunitcolor": "white"
          },
          "hoverlabel": {
           "align": "left"
          },
          "hovermode": "closest",
          "mapbox": {
           "style": "light"
          },
          "paper_bgcolor": "white",
          "plot_bgcolor": "#E5ECF6",
          "polar": {
           "angularaxis": {
            "gridcolor": "white",
            "linecolor": "white",
            "ticks": ""
           },
           "bgcolor": "#E5ECF6",
           "radialaxis": {
            "gridcolor": "white",
            "linecolor": "white",
            "ticks": ""
           }
          },
          "scene": {
           "xaxis": {
            "backgroundcolor": "#E5ECF6",
            "gridcolor": "white",
            "gridwidth": 2,
            "linecolor": "white",
            "showbackground": true,
            "ticks": "",
            "zerolinecolor": "white"
           },
           "yaxis": {
            "backgroundcolor": "#E5ECF6",
            "gridcolor": "white",
            "gridwidth": 2,
            "linecolor": "white",
            "showbackground": true,
            "ticks": "",
            "zerolinecolor": "white"
           },
           "zaxis": {
            "backgroundcolor": "#E5ECF6",
            "gridcolor": "white",
            "gridwidth": 2,
            "linecolor": "white",
            "showbackground": true,
            "ticks": "",
            "zerolinecolor": "white"
           }
          },
          "shapedefaults": {
           "line": {
            "color": "#2a3f5f"
           }
          },
          "ternary": {
           "aaxis": {
            "gridcolor": "white",
            "linecolor": "white",
            "ticks": ""
           },
           "baxis": {
            "gridcolor": "white",
            "linecolor": "white",
            "ticks": ""
           },
           "bgcolor": "#E5ECF6",
           "caxis": {
            "gridcolor": "white",
            "linecolor": "white",
            "ticks": ""
           }
          },
          "title": {
           "x": 0.05
          },
          "xaxis": {
           "automargin": true,
           "gridcolor": "white",
           "linecolor": "white",
           "ticks": "",
           "title": {
            "standoff": 15
           },
           "zerolinecolor": "white",
           "zerolinewidth": 2
          },
          "yaxis": {
           "automargin": true,
           "gridcolor": "white",
           "linecolor": "white",
           "ticks": "",
           "title": {
            "standoff": 15
           },
           "zerolinecolor": "white",
           "zerolinewidth": 2
          }
         }
        }
       }
      },
      "text/html": [
       "<div>                            <div id=\"29bea65c-cb14-414d-b21e-f98d469c811f\" class=\"plotly-graph-div\" style=\"height:525px; width:100%;\"></div>            <script type=\"text/javascript\">                require([\"plotly\"], function(Plotly) {                    window.PLOTLYENV=window.PLOTLYENV || {};                                    if (document.getElementById(\"29bea65c-cb14-414d-b21e-f98d469c811f\")) {                    Plotly.newPlot(                        \"29bea65c-cb14-414d-b21e-f98d469c811f\",                        [{\"customdata\": [[\"Scrypt\"], [\"Scrypt\"], [\"X13\"], [\"SHA-256\"], [\"Ethash\"], [\"Scrypt\"], [\"X11\"], [\"CryptoNight-V7\"], [\"Ethash\"], [\"Equihash\"], [\"SHA-512\"], [\"Multiple\"], [\"SHA-256\"], [\"SHA-256\"], [\"Scrypt\"], [\"X15\"], [\"X11\"], [\"Scrypt\"], [\"Scrypt\"], [\"Scrypt\"], [\"Multiple\"], [\"Scrypt\"], [\"SHA-256\"], [\"Scrypt\"], [\"Scrypt\"], [\"Scrypt\"], [\"Quark\"], [\"Groestl\"], [\"Scrypt\"], [\"Scrypt\"], [\"Scrypt\"], [\"Scrypt\"], [\"Scrypt\"], [\"X11\"], [\"Scrypt\"], [\"Groestl\"], [\"Multiple\"], [\"SHA-256\"], [\"Scrypt\"], [\"Scrypt\"], [\"Scrypt\"], [\"Scrypt\"], [\"PoS\"], [\"Scrypt\"], [\"Scrypt\"], [\"NeoScrypt\"], [\"Scrypt\"], [\"Scrypt\"], [\"Scrypt\"], [\"Scrypt\"], [\"X11\"], [\"Scrypt\"], [\"X11\"], [\"SHA-256\"], [\"Scrypt\"], [\"Scrypt\"], [\"Scrypt\"], [\"SHA3\"], [\"Scrypt\"], [\"HybridScryptHash256\"], [\"Scrypt\"], [\"Scrypt\"], [\"SHA-256\"], [\"Scrypt\"], [\"X13\"], [\"Scrypt\"], [\"SHA-256\"], [\"Scrypt\"], [\"X13\"], [\"NeoScrypt\"], [\"Scrypt\"], [\"Scrypt\"], [\"Scrypt\"], [\"Scrypt\"], [\"Scrypt\"], [\"Scrypt\"], [\"X11\"], [\"X11\"], [\"SHA-256\"], [\"Multiple\"], [\"SHA-256\"], [\"PHI1612\"], [\"X11\"], [\"SHA-256\"], [\"SHA-256\"], [\"SHA-256\"], [\"X11\"], [\"Scrypt\"], [\"Scrypt\"], [\"Scrypt\"], [\"Scrypt\"], [\"Lyra2REv2\"], [\"Scrypt\"], [\"X11\"], [\"Multiple\"], [\"SHA-256\"], [\"X13\"], [\"Scrypt\"], [\"CryptoNight\"], [\"CryptoNight\"], [\"Shabal256\"], [\"Counterparty\"], [\"Scrypt\"], [\"SHA-256\"], [\"Groestl\"], [\"Scrypt\"], [\"Scrypt\"], [\"Scrypt\"], [\"X13\"], [\"Scrypt\"], [\"Scrypt\"], [\"Scrypt\"], [\"Scrypt\"], [\"X13\"], [\"Scrypt\"], [\"Stanford Folding\"], [\"X11\"], [\"Multiple\"], [\"QuBit\"], [\"Scrypt\"], [\"Scrypt\"], [\"Scrypt\"], [\"M7 POW\"], [\"Scrypt\"], [\"SHA-256\"], [\"Scrypt\"], [\"X11\"], [\"SHA3\"], [\"X11\"], [\"Lyra2RE\"], [\"SHA-256\"], [\"QUAIT\"], [\"X11\"], [\"X11\"], [\"Scrypt\"], [\"Scrypt\"], [\"Scrypt\"], [\"Ethash\"], [\"X13\"], [\"Blake2b\"], [\"SHA-256\"], [\"X15\"], [\"X11\"], [\"SHA-256\"], [\"BLAKE256\"], [\"Scrypt\"], [\"1GB AES Pattern Search\"], [\"SHA-256\"], [\"X11\"], [\"Scrypt\"], [\"SHA-256\"], [\"SHA-256\"], [\"NIST5\"], [\"Scrypt\"], [\"Scrypt\"], [\"X11\"], [\"Dagger\"], [\"Scrypt\"], [\"X11GOST\"], [\"X11\"], [\"Scrypt\"], [\"SHA-256\"], [\"Scrypt\"], [\"PoS\"], [\"Scrypt\"], [\"X11\"], [\"X11\"], [\"SHA-256\"], [\"SHA-256\"], [\"NIST5\"], [\"X11\"], [\"Scrypt\"], [\"POS 3.0\"], [\"Scrypt\"], [\"Scrypt\"], [\"Scrypt\"], [\"X13\"], [\"X11\"], [\"X11\"], [\"Equihash\"], [\"X11\"], [\"Scrypt\"], [\"CryptoNight\"], [\"SHA-256\"], [\"SHA-256\"], [\"X11\"], [\"Scrypt\"], [\"Multiple\"], [\"Scrypt\"], [\"Scrypt\"], [\"Scrypt\"], [\"SHA-256\"], [\"Scrypt\"], [\"Scrypt\"], [\"SHA-256D\"], [\"PoS\"], [\"Scrypt\"], [\"X11\"], [\"Lyra2Z\"], [\"PoS\"], [\"X13\"], [\"X14\"], [\"PoS\"], [\"SHA-256D\"], [\"Ethash\"], [\"Equihash\"], [\"DPoS\"], [\"X11\"], [\"Scrypt\"], [\"X11\"], [\"X13\"], [\"X11\"], [\"PoS\"], [\"Scrypt\"], [\"Scrypt\"], [\"X11\"], [\"PoS\"], [\"X11\"], [\"SHA-256\"], [\"Scrypt\"], [\"X11\"], [\"Scrypt\"], [\"Scrypt\"], [\"X11\"], [\"CryptoNight\"], [\"Scrypt\"], [\"Scrypt\"], [\"Scrypt\"], [\"Scrypt\"], [\"Quark\"], [\"QuBit\"], [\"Scrypt\"], [\"CryptoNight\"], [\"Lyra2RE\"], [\"Scrypt\"], [\"SHA-256\"], [\"X11\"], [\"Scrypt\"], [\"X11\"], [\"Scrypt\"], [\"CryptoNight-V7\"], [\"Scrypt\"], [\"Scrypt\"], [\"Scrypt\"], [\"X13\"], [\"X11\"], [\"Equihash\"], [\"Scrypt\"], [\"Scrypt\"], [\"Lyra2RE\"], [\"Scrypt\"], [\"Dagger-Hashimoto\"], [\"X11\"], [\"Blake2S\"], [\"X11\"], [\"Scrypt\"], [\"PoS\"], [\"X11\"], [\"NIST5\"], [\"PoS\"], [\"X11\"], [\"Scrypt\"], [\"Scrypt\"], [\"Scrypt\"], [\"SHA-256\"], [\"X11\"], [\"Scrypt\"], [\"Scrypt\"], [\"SHA-256\"], [\"PoS\"], [\"Scrypt\"], [\"X15\"], [\"SHA-256\"], [\"Scrypt\"], [\"POS 3.0\"], [\"CryptoNight-V7\"], [\"536\"], [\"Argon2d\"], [\"Blake2b\"], [\"Cloverhash\"], [\"CryptoNight\"], [\"NIST5\"], [\"X11\"], [\"NIST5\"], [\"Skein\"], [\"Scrypt\"], [\"X13\"], [\"Scrypt\"], [\"X11\"], [\"X11\"], [\"Scrypt\"], [\"CryptoNight\"], [\"X13\"], [\"Time Travel\"], [\"Scrypt\"], [\"Keccak\"], [\"SkunkHash v2 Raptor\"], [\"X11\"], [\"Skein\"], [\"SHA-256\"], [\"X11\"], [\"Scrypt\"], [\"VeChainThor Authority\"], [\"Scrypt\"], [\"PoS\"], [\"Scrypt\"], [\"Scrypt\"], [\"Scrypt\"], [\"Scrypt\"], [\"Scrypt\"], [\"Scrypt\"], [\"Scrypt\"], [\"CryptoNight\"], [\"SHA-512\"], [\"Ouroboros\"], [\"X11\"], [\"Equihash\"], [\"NeoScrypt\"], [\"X11\"], [\"Scrypt\"], [\"NeoScrypt\"], [\"Lyra2REv2\"], [\"Equihash\"], [\"Scrypt\"], [\"SHA-256\"], [\"NIST5\"], [\"PHI1612\"], [\"Dagger\"], [\"Scrypt\"], [\"Quark\"], [\"Scrypt\"], [\"POS 2.0\"], [\"Scrypt\"], [\"SHA-256\"], [\"X11\"], [\"NeoScrypt\"], [\"Ethash\"], [\"NeoScrypt\"], [\"X11\"], [\"DPoS\"], [\"NIST5\"], [\"X13\"], [\"Multiple\"], [\"Scrypt\"], [\"CryptoNight\"], [\"CryptoNight\"], [\"Ethash\"], [\"NIST5\"], [\"Quark\"], [\"X11\"], [\"CryptoNight-V7\"], [\"Scrypt\"], [\"Scrypt\"], [\"Scrypt\"], [\"X11\"], [\"BLAKE256\"], [\"X11\"], [\"NeoScrypt\"], [\"Quark\"], [\"NeoScrypt\"], [\"Scrypt\"], [\"Scrypt\"], [\"Scrypt\"], [\"X11\"], [\"X11\"], [\"SHA-256\"], [\"C11\"], [\"POS 3.0\"], [\"Ethash\"], [\"Scrypt\"], [\"CryptoNight\"], [\"SkunkHash\"], [\"Scrypt\"], [\"CryptoNight\"], [\"Scrypt\"], [\"Dagger\"], [\"Lyra2REv2\"], [\"X13\"], [\"Proof-of-BibleHash\"], [\"SHA-256 + Hive\"], [\"Scrypt\"], [\"Scrypt\"], [\"X11\"], [\"C11\"], [\"Proof-of-Authority\"], [\"X11\"], [\"XEVAN\"], [\"Scrypt\"], [\"VBFT\"], [\"Ethash\"], [\"CryptoNight\"], [\"Scrypt\"], [\"IMesh\"], [\"NIST5\"], [\"Scrypt\"], [\"Scrypt\"], [\"Equihash\"], [\"Scrypt\"], [\"Lyra2Z\"], [\"Green Protocol\"], [\"PoS\"], [\"Scrypt\"], [\"Semux BFT consensus\"], [\"X11\"], [\"Quark\"], [\"PoS\"], [\"CryptoNight\"], [\"X16R\"], [\"Scrypt\"], [\"NIST5\"], [\"Lyra2RE\"], [\"XEVAN\"], [\"Tribus\"], [\"Scrypt\"], [\"Lyra2Z\"], [\"CryptoNight\"], [\"CryptoNight Heavy\"], [\"CryptoNight\"], [\"Scrypt\"], [\"Scrypt\"], [\"Jump Consistent Hash\"], [\"SHA-256D\"], [\"CryptoNight\"], [\"Scrypt\"], [\"X15\"], [\"Scrypt\"], [\"Quark\"], [\"SHA-256\"], [\"DPoS\"], [\"X16R\"], [\"HMQ1725\"], [\"X11\"], [\"X16R\"], [\"Quark\"], [\"Quark\"], [\"Scrypt\"], [\"Lyra2REv2\"], [\"Quark\"], [\"Scrypt\"], [\"Scrypt\"], [\"CryptoNight-V7\"], [\"Cryptonight-GPU\"], [\"XEVAN\"], [\"CryptoNight Heavy\"], [\"X11\"], [\"X11\"], [\"Scrypt\"], [\"PoS\"], [\"SHA-256\"], [\"Keccak\"], [\"X11\"], [\"X11\"], [\"Scrypt\"], [\"SHA-512\"], [\"X16R\"], [\"ECC 256K1\"], [\"Equihash\"], [\"XEVAN\"], [\"Lyra2Z\"], [\"SHA-256\"], [\"XEVAN\"], [\"X11\"], [\"CryptoNight\"], [\"Quark\"], [\"Blake\"], [\"Blake\"], [\"Equihash\"], [\"Exosis\"], [\"Scrypt\"], [\"Scrypt\"], [\"Equihash\"], [\"Quark\"], [\"Equihash\"], [\"Quark\"], [\"Scrypt\"], [\"QuBit\"], [\"X11\"], [\"Scrypt\"], [\"XEVAN\"], [\"SHA-256D\"], [\"X11\"], [\"SHA-256\"], [\"X13\"], [\"SHA-256\"], [\"X11\"], [\"DPoS\"], [\"Scrypt\"], [\"Scrypt\"], [\"X11\"], [\"NeoScrypt\"], [\"Scrypt\"], [\"Blake\"], [\"Scrypt\"], [\"SHA-256\"], [\"Scrypt\"], [\"X11\"], [\"Scrypt\"], [\"Scrypt\"], [\"SHA-256\"], [\"X11\"], [\"SHA-256\"], [\"Scrypt\"], [\"Scrypt\"], [\"Scrypt\"], [\"Groestl\"], [\"X11\"], [\"Scrypt\"], [\"PoS\"], [\"Scrypt\"], [\"Scrypt\"], [\"X11\"], [\"SHA-256\"], [\"DPoS\"], [\"Scrypt\"], [\"Scrypt\"], [\"NeoScrypt\"], [\"SHA3-256\"], [\"Multiple\"], [\"X13\"], [\"Equihash+Scrypt\"], [\"DPoS\"], [\"Ethash\"], [\"DPoS\"], [\"SHA-256\"], [\"Leased POS\"], [\"PoS\"], [\"TRC10\"], [\"PoS\"], [\"SHA-256\"], [\"Scrypt\"], [\"CryptoNight\"], [\"Equihash\"], [\"Scrypt\"]], \"hovertemplate\": \"<b>%{hovertext}</b><br><br>PC 1=%{x}<br>PC 2=%{y}<br>PC 3=%{z}<br>Algorithm=%{customdata[0]}<br>class=%{marker.color}<extra></extra>\", \"hovertext\": [\"42 Coin\", \"404Coin\", \"EliteCoin\", \"Bitcoin\", \"Ethereum\", \"Litecoin\", \"Dash\", \"Monero\", \"Ethereum Classic\", \"ZCash\", \"Bitshares\", \"DigiByte\", \"BitcoinDark\", \"PayCoin\", \"ProsperCoin\", \"KoboCoin\", \"Spreadcoin\", \"Argentum\", \"Aurora Coin\", \"BlueCoin\", \"MyriadCoin\", \"MoonCoin\", \"ZetaCoin\", \"SexCoin\", \"Quatloo\", \"EnergyCoin\", \"QuarkCoin\", \"Riecoin\", \"Digitalcoin \", \"BitBar\", \"Catcoin\", \"CryptoBullion\", \"CannaCoin\", \"CryptCoin\", \"CasinoCoin\", \"Diamond\", \"Verge\", \"DevCoin\", \"EarthCoin\", \"E-Gulden\", \"Einsteinium\", \"Emerald\", \"Exclusive Coin\", \"FlutterCoin\", \"Franko\", \"FeatherCoin\", \"GrandCoin\", \"GlobalCoin\", \"GoldCoin\", \"HoboNickels\", \"HyperStake\", \"Infinite Coin\", \"IOCoin\", \"IXcoin\", \"KrugerCoin\", \"LuckyCoin\", \"Litebar \", \"MaxCoin\", \"MegaCoin\", \"MediterraneanCoin\", \"MintCoin\", \"MinCoin\", \"MazaCoin\", \"Nautilus Coin\", \"NavCoin\", \"NobleCoin\", \"Namecoin\", \"NyanCoin\", \"OpalCoin\", \"Orbitcoin\", \"PotCoin\", \"PhoenixCoin\", \"Reddcoin\", \"RonPaulCoin\", \"StableCoin\", \"SmartCoin\", \"SuperCoin\", \"SyncCoin\", \"SysCoin\", \"TeslaCoin\", \"TigerCoin\", \"TittieCoin\", \"TorCoin\", \"TerraCoin\", \"UnbreakableCoin\", \"Unobtanium\", \"UroCoin\", \"UnitaryStatus Dollar\", \"UltraCoin\", \"ViaCoin\", \"VeriCoin\", \"Vertcoin\", \"WorldCoin\", \"X11 Coin\", \"Crypti\", \"JouleCoin\", \"StealthCoin\", \"ZCC Coin\", \"ByteCoin\", \"DigitalNote \", \"BurstCoin\", \"StorjCoin\", \"MonaCoin\", \"Neutron\", \"FairCoin\", \"Gulden\", \"RubyCoin\", \"PesetaCoin\", \"Kore\", \"Wild Beast Coin\", \"Dnotes\", \"Flo\", \"8BIT Coin\", \"Sativa Coin\", \"ArtByte\", \"Folding Coin\", \"Ucoin\", \"Unitus\", \"CypherPunkCoin\", \"OmniCron\", \"Vtorrent\", \"GreenCoin\", \"Cryptonite\", \"MasterCoin\", \"SoonCoin\", \"1Credit\", \"IslaCoin\", \"Nexus\", \"MarsCoin \", \"Crypto\", \"Anarchists Prime\", \"Droidz\", \"BowsCoin\", \"Squall Coin\", \"Song Coin\", \"BitZeny\", \"Diggits\", \"Expanse\", \"Paycon\", \"Siacoin\", \"Emercoin\", \"EverGreenCoin\", \"MindCoin\", \"I0coin\", \"Decred\", \"Revolution VR\", \"HOdlcoin\", \"EDRCoin\", \"Hitcoin\", \"Gamecredits\", \"DubaiCoin\", \"CarpeDiemCoin\", \"PWR Coin\", \"BillaryCoin\", \"GPU Coin\", \"Adzcoin\", \"SoilCoin\", \"YoCoin\", \"SibCoin\", \"EuropeCoin\", \"ZeitCoin\", \"SwingCoin\", \"SafeExchangeCoin\", \"Nebuchadnezzar\", \"Francs\", \"BolivarCoin\", \"Ratecoin\", \"Revenu\", \"Clockcoin\", \"VIP Tokens\", \"BitSend\", \"Omni\", \"Let it Ride\", \"PutinCoin\", \"iBankCoin\", \"Frankywillcoin\", \"MudraCoin\", \"PizzaCoin\", \"Lutetium Coin\", \"Komodo\", \"GoldBlocks\", \"CarterCoin\", \"Karbo\", \"BitTokens\", \"ZayedCoin\", \"MustangCoin\", \"ZoneCoin\", \"Circuits of Value\", \"RootCoin\", \"DopeCoin\", \"BitCurrency\", \"DollarCoin\", \"Swiscoin\", \"Shilling\", \"BuzzCoin\", \"Opair\", \"PesoBit\", \"Halloween Coin\", \"ZCoin\", \"CoffeeCoin\", \"RoyalCoin\", \"GanjaCoin V2\", \"TeamUP\", \"LanaCoin\", \"Elementrem\", \"ZClassic\", \"ARK\", \"InsaneCoin\", \"KiloCoin\", \"ArtexCoin\", \"EmberCoin\", \"XenixCoin\", \"FreeCoin\", \"PLNCoin\", \"AquariusCoin\", \"Kurrent\", \"Creatio\", \"Eternity\", \"Eurocoin\", \"BitcoinFast\", \"Stakenet\", \"BitConnect Coin\", \"MoneyCoin\", \"Enigma\", \"Cannabis Industry Coin\", \"Russiacoin\", \"PandaCoin\", \"GameUnits\", \"GAKHcoin\", \"Allsafe\", \"LiteCreed\", \"OsmiumCoin\", \"Bikercoins\", \"HexxCoin\", \"Klingon Empire Darsek\", \"Internet of People\", \"KushCoin\", \"Printerium\", \"PacCoin\", \"Impeach\", \"Citadel\", \"Zilbercoin\", \"FirstCoin\", \"BeaverCoin\", \"FindCoin\", \"VaultCoin\", \"Zero\", \"OpenChat\", \"Canada eCoin\", \"Zoin\", \"RenosCoin\", \"DubaiCoin\", \"VirtacoinPlus\", \"TajCoin\", \"Impact\", \"EB3coin\", \"Atmos\", \"HappyCoin\", \"Coinonat\", \"MacronCoin\", \"Condensate\", \"Independent Money System\", \"ArgusCoin\", \"LomoCoin\", \"ProCurrency\", \"GoldReserve\", \"BenjiRolls\", \"GrowthCoin\", \"ILCoin\", \"Phreak\", \"Degas Coin\", \"HTML5 Coin\", \"Ultimate Secure Cash\", \"EquiTrader\", \"QTUM\", \"Quantum Resistant Ledger\", \"Espers\", \"Dynamic\", \"Nano\", \"ChanCoin\", \"Dinastycoin\", \"Denarius\", \"DigitalPrice\", \"Virta Unique Coin\", \"Bitcoin Planet\", \"Unify\", \"BritCoin\", \"SocialCoin\", \"ArcticCoin\", \"DAS\", \"Linda\", \"LeviarCoin\", \"DeepOnion\", \"Bitcore\", \"gCn Coin\", \"SmartCash\", \"Signatum\", \"Onix\", \"Cream\", \"Bitcoin Cash\", \"Monoeci\", \"Draftcoin\", \"Vechain\", \"Sojourn Coin\", \"Stakecoin\", \"NewYorkCoin\", \"FrazCoin\", \"Kronecoin\", \"AdCoin\", \"Linx\", \"CoinonatX\", \"Ethereum Dark\", \"Sumokoin\", \"Obsidian\", \"Cardano\", \"Regalcoin\", \"BitcoinZ\", \"TrezarCoin\", \"Elements\", \"TerraNovaCoin\", \"VIVO Coin\", \"Rupee\", \"Bitcoin Gold\", \"WomenCoin\", \"Theresa May Coin\", \"NamoCoin\", \"LUXCoin\", \"Pirl\", \"Xios\", \"Bitcloud 2.0\", \"eBoost\", \"KekCoin\", \"BlackholeCoin\", \"Infinity Economics\", \"Pura\", \"Innova\", \"Ellaism\", \"GoByte\", \"Magnet\", \"Lamden Tau\", \"Electra\", \"Bitcoin Diamond\", \"SHIELD\", \"Cash & Back Coin\", \"UltraNote\", \"BitCoal\", \"DaxxCoin\", \"Bulwark\", \"Kalkulus\", \"AC3\", \"Lethean\", \"GermanCoin\", \"LiteCoin Ultra\", \"PopularCoin\", \"PhantomX\", \"Photon\", \"Sucre\", \"SparksPay\", \"Digiwage\", \"GunCoin\", \"IrishCoin\", \"Trollcoin\", \"Litecoin Plus\", \"Monkey Project\", \"Pioneer Coin\", \"UnitedBitcoin\", \"Interzone\", \"TokenPay\", \"1717 Masonic Commemorative Token\", \"My Big Coin\", \"TurtleCoin\", \"MUNcoin\", \"Unified Society USDEX\", \"Niobio Cash\", \"ShareChain\", \"Travelflex\", \"KREDS\", \"Tokyo Coin\", \"BiblePay\", \"LitecoinCash\", \"BitFlip\", \"LottoCoin\", \"Crypto Improvement Fund\", \"Stipend\", \"Poa Network\", \"Pushi\", \"Ellerium\", \"Velox\", \"Ontology\", \"Callisto Network\", \"BitTube\", \"Poseidon\", \"Aidos Kuneen\", \"Bitspace\", \"Briacoin\", \"Ignition\", \"Bitrolium\", \"MedicCoin\", \"Alpenschillling\", \"Bitcoin Green\", \"Deviant Coin\", \"Abjcoin\", \"Semux\", \"FuturoCoin\", \"Carebit\", \"Zealium\", \"Monero Classic\", \"Proton\", \"iDealCash\", \"Jumpcoin\", \"Infinex\", \"Bitcoin Incognito\", \"KEYCO\", \"HollyWoodCoin\", \"GINcoin\", \"PlatinCoin\", \"Loki\", \"Newton Coin\", \"Swisscoin\", \"Xt3ch\", \"MassGrid\", \"TheVig\", \"PluraCoin\", \"EmaratCoin\", \"Dekado\", \"Lynx\", \"Poseidon Quark\", \"BitcoinWSpectrum\", \"Muse\", \"Motion\", \"PlusOneCoin\", \"Axe\", \"Trivechain\", \"Dystem\", \"Giant\", \"Peony Coin\", \"Absolute Coin\", \"Vitae\", \"HexCoin\", \"TPCash\", \"Webchain\", \"Ryo\", \"Urals Coin\", \"Qwertycoin\", \"ARENON\", \"EUNO\", \"MMOCoin\", \"Ketan\", \"Project Pai\", \"XDNA\", \"PAXEX\", \"Azart\", \"ThunderStake\", \"Kcash\", \"Xchange\", \"Acute Angle Cloud\", \"CrypticCoin\", \"Bettex coin\", \"Actinium\", \"Bitcoin SV\", \"BitMoney\", \"Junson Ming Chan Coin\", \"FREDEnergy\", \"HerbCoin\", \"Universal Molecule\", \"Lithium\", \"PirateCash\", \"Exosis\", \"Block-Logic\", \"Oduwa\", \"Beam\", \"Galilel\", \"Bithereum\", \"Crypto Sports\", \"Credit\", \"SLICE\", \"Dash Platinum\", \"Nasdacoin\", \"Beetle Coin\", \"Titan Coin\", \"Award\", \"BLAST\", \"Bitcoin Rhodium\", \"GlobalToken\", \"Insane Coin\", \"ALAX\", \"LiteDoge\", \"SolarCoin\", \"TruckCoin\", \"UFO Coin\", \"OrangeCoin\", \"BlakeCoin\", \"BitstarCoin\", \"NeosCoin\", \"HyperCoin\", \"PinkCoin\", \"Crypto Escudo\", \"AudioCoin\", \"IncaKoin\", \"Piggy Coin\", \"Crown Coin\", \"Genstake\", \"SmileyCoin\", \"XiaoMiCoin\", \"Groestlcoin\", \"CapriCoin\", \" ClubCoin\", \"Radium\", \"Bata\", \"Pakcoin\", \"Creditbit \", \"OKCash\", \"Lisk\", \"HiCoin\", \"WhiteCoin\", \"FriendshipCoin\", \"Fiii\", \"JoinCoin\", \"Triangles Coin\", \"Vollar\", \"EOS\", \"Reality Clash\", \"Oxycoin\", \"TigerCash\", \"Waves\", \"Particl\", \"BitTorrent\", \"Nxt\", \"ZEPHYR\", \"Gapcoin\", \"Beldex\", \"Horizen\", \"BitcoinPlus\"], \"legendgroup\": \"\", \"marker\": {\"color\": [0, 0, 1, 5, 5, 5, 0, 5, 5, 5, 0, 5, 0, 0, 5, 0, 5, 5, 0, 0, 5, 1, 5, 5, 5, 0, 5, 5, 5, 0, 5, 0, 5, 5, 0, 0, 5, 5, 5, 5, 5, 5, 0, 0, 5, 5, 5, 5, 5, 0, 0, 5, 0, 5, 5, 5, 5, 0, 5, 5, 0, 5, 0, 0, 0, 5, 5, 5, 0, 0, 0, 0, 0, 5, 5, 5, 0, 0, 5, 0, 5, 0, 0, 5, 5, 5, 5, 0, 0, 5, 0, 5, 5, 0, 0, 5, 0, 0, 1, 5, 5, 0, 5, 0, 0, 5, 0, 5, 0, 5, 0, 5, 0, 0, 5, 5, 0, 5, 5, 5, 0, 5, 5, 5, 5, 5, 0, 0, 5, 5, 5, 0, 5, 0, 5, 5, 0, 5, 0, 5, 0, 0, 5, 5, 0, 5, 5, 0, 0, 5, 0, 5, 0, 0, 0, 5, 5, 5, 5, 0, 0, 0, 0, 0, 5, 5, 0, 0, 0, 0, 0, 5, 0, 0, 0, 0, 0, 5, 0, 5, 0, 0, 5, 0, 5, 0, 0, 5, 0, 5, 0, 5, 0, 5, 0, 0, 0, 0, 5, 0, 0, 0, 0, 0, 5, 5, 1, 0, 5, 5, 0, 0, 0, 0, 0, 5, 0, 0, 0, 0, 0, 0, 0, 0, 5, 0, 0, 0, 0, 0, 0, 5, 5, 5, 0, 0, 0, 0, 5, 0, 5, 0, 0, 5, 0, 5, 5, 0, 5, 5, 0, 5, 0, 0, 0, 5, 0, 0, 5, 0, 0, 0, 0, 0, 0, 0, 5, 0, 5, 0, 0, 0, 0, 5, 0, 5, 0, 5, 5, 5, 5, 0, 5, 0, 0, 5, 0, 5, 5, 5, 0, 5, 0, 5, 1, 5, 0, 5, 0, 5, 0, 0, 4, 5, 0, 5, 5, 5, 5, 5, 0, 0, 5, 0, 0, 0, 5, 0, 5, 0, 5, 0, 5, 0, 0, 0, 0, 5, 0, 0, 5, 0, 0, 0, 5, 5, 5, 5, 0, 1, 0, 0, 5, 0, 5, 5, 5, 0, 0, 5, 5, 0, 0, 5, 0, 5, 5, 5, 0, 5, 5, 0, 0, 0, 5, 5, 5, 0, 5, 0, 1, 5, 0, 5, 5, 5, 5, 0, 3, 3, 5, 5, 5, 0, 3, 0, 0, 0, 0, 5, 5, 5, 5, 0, 0, 0, 5, 0, 5, 0, 0, 0, 1, 5, 0, 0, 5, 0, 0, 5, 5, 0, 5, 0, 5, 5, 5, 5, 0, 0, 5, 0, 5, 0, 0, 1, 0, 0, 0, 5, 5, 5, 0, 0, 0, 0, 0, 0, 5, 0, 5, 5, 5, 1, 0, 0, 0, 0, 5, 0, 0, 5, 0, 0, 5, 3, 5, 0, 5, 5, 0, 0, 5, 0, 5, 5, 5, 5, 5, 0, 5, 0, 5, 0, 0, 5, 0, 0, 0, 0, 0, 5, 5, 5, 0, 1, 0, 5, 0, 5, 0, 5, 0, 0, 0, 0, 5, 0, 0, 0, 5, 0, 5, 0, 5, 0, 0, 0, 5, 5, 0, 0, 1, 0, 0, 0, 3, 5, 0, 5, 1, 5, 1, 0, 3, 0, 2, 0, 1, 0, 5, 5, 0], \"coloraxis\": \"coloraxis\", \"symbol\": \"circle\"}, \"mode\": \"markers\", \"name\": \"\", \"scene\": \"scene\", \"showlegend\": false, \"type\": \"scatter3d\", \"x\": [-0.3364142703362321, -0.319851709298525, 2.267575903160143, -0.12018111882281696, -0.11684594936698568, -0.13281235164639185, -0.4317650984891316, -0.10890948197518015, -0.11529450715043679, -0.10132870199740218, -0.3034865220152714, 0.18279463538582488, -0.3226197882665145, -0.28548584726271925, -0.13395221486371545, -0.29266883771046237, -0.22950971609035542, -0.13357051168451953, -0.336075783076136, -0.3287021515508562, -0.06928829320339457, 2.5767947193941096, -0.11728246726129957, -0.13084057705728633, -0.13337519872629444, -0.3349206618533434, -0.22988447361311884, -0.19124051201999132, -0.13342454150781555, -0.3364102244541365, -0.13393459627470622, -0.3363945996116558, -0.13402062389141095, -0.22959851140432117, 0.6318151966439568, -0.39460766741952824, 0.20631308888075847, 0.2555666622495326, 0.11332251678461905, -0.13376843484425052, -0.1293975629903803, -0.13370793492768954, -0.4236095024247258, -0.2581706533836719, -0.1340772886126532, -0.1457585507856161, -0.11341064678187401, -0.13287922649090592, -0.13315483031740868, -0.33448366459309714, -0.37458681693811147, 1.6050056336266567, -0.43166048244119914, -0.12014273961792735, -0.13045854613047161, -0.13379472154471353, -0.13414754643968735, -0.4426245404029993, -0.13341091914263878, -0.12500395644977155, -0.0408995126767865, -0.13402943706586626, -0.28612458887273995, -0.2990326023171366, -0.30488865883213767, 0.00044346874287584816, -0.12021984515714278, -0.12772897105160771, -0.3055068034992258, -0.35284134204829837, -0.330746526571901, -0.3348247688770058, 0.019387831838884, -0.13400882353467905, -0.13211163037836296, -0.13349838817019277, -0.3943435244295473, -0.4320300053901939, -0.10744065164031794, -0.2673908178922, -0.11968665619455811, -0.3750695760248008, -0.43194205035327327, -0.11997207829508738, -0.11995452203260508, -0.12054275287157094, -0.22977158307716256, -0.311780630275835, -0.3350985874678192, -0.13372712340838222, -0.2763582553721997, -0.19643425696999345, -0.1308449957968251, -0.43190683579142525, -0.26785722029115805, -0.11975354761111384, -0.30528909832033585, -0.3275583131425298, 3.8639420859389357, 0.4820477471043312, -0.12538946830335065, -0.36352111850939334, -0.13260067725203456, -0.3218358613526998, -0.3940330839997333, -0.11727277258846909, -0.2990132688167371, -0.1313267804363887, -0.30558149155507563, -0.13414971945124354, -0.29369362919603176, -0.13119280753555396, -0.33639645600312784, -0.3055340237095351, -0.1174916760563811, -0.09587913757763751, -0.39478511943512157, -0.10310791348968383, -0.18130777345413998, -0.13402361018913836, -0.3361322288978899, -0.00761687131597144, -0.07554853167312478, -0.1341585885886548, -0.12024744195242394, 0.5153326689725403, -0.43201165495807986, -0.4375189125839047, -0.22916219036322227, -0.1443884672499174, -0.11998843485935445, -0.501374660149531, -0.22944544136141534, -0.36537200560390515, -0.13229098311436302, -0.13148779849312028, -0.2974235287803413, -0.1179061726168386, -0.30505809819981444, 0.41418106923259806, -0.3152083262974551, -0.295099899782844, -0.2294806935690882, -0.12014385466708491, -0.104641733654041, -0.13013915817740945, -0.15859327846977173, -0.32259089221068216, -0.11113023676423656, -0.1327298584135793, -0.3226543682241304, 0.2959877132003116, -0.28355620581139995, -0.33600854186438295, -0.2972913490200934, -0.2286457099603662, -0.12651516728371331, -0.13297422845751866, -0.16302495497871328, -0.42919274883509684, 0.8482962210129064, -0.32245523014999106, -0.09483094530081944, -0.42329450135730423, -0.1339495347804763, -0.22944402186650786, -0.4298674523190295, -0.32120384169483995, -0.3188821130106614, -0.4041205699501367, -0.43075272077783683, -0.13415864675487782, -0.39869773914314555, -0.31242618497211794, -0.33604635059749477, -0.3344945938139357, -0.26714704489423186, -0.22959301729531292, -0.38234668165300595, -0.15714950327418017, -0.4314881382451341, -0.33525499037833895, 0.32779020034849476, -0.3226352642459066, -0.12040244073261537, -0.4320008656082605, -0.33623467794570305, -0.08328945723100202, -0.3363907267716195, -0.13134037272373736, -0.29728479312007494, -0.12036132407414268, -0.23007906191363792, -0.13382373303573628, -0.004668858195720261, -0.4222574652878926, -0.3360074040834316, -0.4182279249272931, -0.100456203457417, -0.4215910740861305, -0.26857169646210893, -0.41843806251643173, -0.4213371706795033, -0.31735487010919095, -0.11764984754945372, -0.10135017843827596, 3.7728188301006176, -0.4315956064431666, -0.06118996630464339, -0.2162554718593638, 0.8192514252190537, -0.431956055294676, -0.42271859815873747, -0.33593477032017155, -0.3360880288809627, -0.22743181779662977, -0.42329450135730423, -0.4315327733126495, -0.32249885143431617, -0.3359355965019709, -0.3998297157106403, -0.336082110222945, -0.3316882715236207, -0.4319848400732605, 0.32778478930411276, -0.33529597721572607, 0.3405948207159923, -0.33628034219100683, -0.33635061869279576, -0.39971765711582824, -0.38270538489790495, -0.13414046747191952, 0.3279147234886705, -0.14492635187850447, -0.33259350158477363, -0.32261183201485166, -0.4318953050381859, -0.33612959510299456, 0.4827116186767948, -0.3362556857253191, -0.1076790534686888, -0.29891944515020236, -0.22171497218672898, -0.1341089498349786, -0.268340860494803, -0.222357642625567, -0.10136254124382034, -0.31721749785693576, -0.13225270378709278, -0.14464637547688533, -0.2986626201393151, -0.07309931188250154, -0.43116429034916465, -0.473112278223173, -0.4299107306765802, -0.10515332800838482, -0.42155095859023434, -0.4310628426163894, -0.2030614820449529, -0.4159824760102269, -0.4270234744294316, -0.3361993551196547, -0.3361984235418818, -0.3293483974529996, 0.24498602908213515, -0.4315392260117672, -0.133673623094426, -0.2816415459634528, -0.08690398392410675, -0.4233283998577767, -0.3354137609590203, 0.8334099179274691, -0.2841815923153748, -0.1334962208951657, -0.3974829285649671, -0.10753908422120655, 0.5799198959678931, -0.11954802842887229, 0.016487658295458653, -0.13263323232814778, 0.36370571704764676, -0.4056475613138717, -0.22865377502160758, -0.40415768471628544, -0.4739555356751244, -0.13381430810548636, -0.3052208314994251, -0.1335782740567471, -0.22904657250263583, -0.2296209719580525, 0.12635402727496903, 0.32817777251221775, -0.30529133213749715, -0.11589026901350473, 3.256785074178698, -0.1032378126306575, -0.3904277411265314, -0.22053396752037188, -0.47346365542368146, -0.1201802884764312, -0.431810354515726, -0.29899380806342407, 5.271491036787621, -0.0600366368833037, -0.4231950051971321, 1.6014969053294519, -0.13391150681526512, -0.13336562133072052, -0.13306826771399907, -0.13305528364699695, -0.3358364700658634, -0.3363336446946919, 0.3283607851562495, -0.36123158360856306, 0.6341134602966562, -0.4317512684528868, 0.10994179903001977, -0.3478664475177202, -0.18427411381228676, -0.3362893518130058, -0.15042207849975925, -0.3623603774424214, -0.1012095254080025, 0.4282319293466765, -0.32096754871609484, -0.39049348314154797, -0.4475439226189556, -0.12528017303781172, -0.3362399245385386, -0.4352375669499574, -0.13225092459037527, -0.4027970422110036, -0.33611127710839317, -0.11294872237576224, -0.22518871505037624, -0.15026818790607074, -0.1160213402638389, -0.1503679671278783, -0.43054979965941786, 3.7776495578348066, 0.15070494844401372, -0.30198065011447195, -0.09339197161242574, -0.3335847880183103, 1.1617309551653672, 0.3277675256015842, -0.04123281037889731, -0.3683412712599779, -0.39960422038441984, -0.22492854805642276, -0.09670666689322634, 0.07618671112534219, -0.33525311434445004, -0.050758070526518824, -0.43112875848026694, 1.0979078521654602, -0.22959512428742154, -0.15041975569278376, -0.3987726960965076, -0.14349471466701955, -0.13316662671620405, -0.32288722223049354, -0.3363556350522667, -0.39475721511545636, -0.22952096215861925, -0.1201598341527964, -0.2036462162481715, -0.39897795999457286, -0.28329457386931345, -0.22483316150614213, 8.032386350903314, -0.11122843389392016, -0.3319260747032968, 0.33162229031545104, 0.05779725228818035, -0.12478758316593105, -0.18206885830529365, -0.2601767159097542, 0.15274433336540152, -0.5102001199280919, -0.13373703044070254, 0.17165619099970314, -0.22369182086348782, -0.4059239155851507, -0.18944811089568606, -0.4318272207567583, -0.25813728003446573, -0.2981574478301957, -0.34152724533952994, -0.06925891106672945, 0.3356560200496753, -0.13397282462312635, -0.16222882541818717, -0.40524845428432715, -0.33638282824772553, -0.3363646243571687, -0.10020634031368535, -0.2925691201408801, -0.0982493669192873, -0.41868315141260926, -0.4227916585285986, -0.33608255764442596, 3.987281869334637, -0.22869428232022543, -0.43391429703609474, -0.42297923240117336, 0.32794895826304715, -0.3479295470489523, -0.28321207814296895, -0.20312102282874808, -0.14477231847489744, -0.19163132233920113, -0.12095658667195928, -0.2986898678625769, -0.10054021761189762, 0.3318615716068148, 0.6105026027651896, 2.1278190908128023, -0.14060718362982375, -0.29893996961321867, -0.11491546161415458, -0.382370550050876, 0.34148221221205677, -0.33555909700907316, -0.25737577264474015, 2.2927624251665257, -0.3953293674613435, -0.2843101999137978, 1.0279723183624307, -0.1828734880155512, -0.10195283168878806, -0.22957737999658387, -0.384340854698214, -0.3997169933879664, -0.436914063384534, -0.18016104736900038, -0.3993597077032042, -0.39844353374106467, -0.13399722772216852, -0.3292888801586357, -0.0965744962092386, -0.1425949536423866, -0.05466063382100265, 3.1198063559769724, -0.3943367989882552, -0.43130356830117716, -0.296199730130374, -0.42208267463139765, -0.08023373238320591, -0.3653390868877887, -0.3941983085213155, -0.22954886343783948, -0.19647314860375342, -0.32304479709044526, -0.18230360000487464, -0.6529503370327052, 0.0034893668764053114, -0.2210595232648113, -0.09994062990027587, -0.12018032579760789, 0.7876689624191808, -0.1860826667498916, 0.4073282731410549, -0.4362124607472087, -0.12915523438482454, -0.1295460751045781, -0.26583445500881464, -0.13572482864391797, -0.13289505445666622, -0.33608666058787895, -0.09927811072566581, -0.43666620079617535, -0.10104326237610403, -0.39983333705784496, 0.5657898165421935, -0.1805221682886902, -0.39481119760326017, -0.3355718749482402, -0.2526215485679172, -0.3373018084347836, -0.42887775365453407, -0.11946044012378625, -0.10341793584055384, -0.11833396251449843, -0.4315296645075603, 3.789819882495784, 0.09660375457330767, 0.5590708016458995, -0.429085912563049, -0.07600395472688405, -0.3349593798247566, -0.08021439961345132, -0.33578149679906427, -0.28551811721694187, -0.33629737757560196, -0.4232041141204082, -0.11764128300026896, -0.25038319708590207, -0.10371551362789114, -0.4189716383422808, -0.1199714528396745, -0.3355801559796033, 0.577879713799639, -0.32868317290235527, -0.19080400774604106, -0.4281176348380174, -0.334027046906179, -0.4235685202385754, -0.13407385883142717, -0.13203983800864505, -0.436186308033497, -0.32114312629478364, 3.7732086854754003, -0.10731012574593649, -0.33123774609224216, -0.35246867257058545, -0.8572855057859072, -0.10383797252907673, -0.3056882000175937, -0.16448444933419767, 3.78300942551108, -0.11768281983010209, 3.7842454271571637, -0.2665229085388378, -0.5450455004172654, -0.4235048123322999, 33.84980569391448, -0.5103969499534199, 2.495673140923114, -0.33446810221054674, 0.3494068908979362, -0.10132975207270926, -0.29933458880303293], \"y\": [1.0041858924749034, 1.0038917336956998, 1.4372388995309586, -1.2100887881617257, -1.8741282648174982, -0.974894655010602, 1.0448511267774439, -2.058294873847605, -1.8742609463354243, -1.871817614588933, 1.1165535563266198, -1.7124018203423592, 0.768939833286807, 0.5656612827050999, -0.9748570911951309, 1.6876808716287628, -0.9341774472389345, -0.9748840466008117, 1.0041760108023974, 1.0042115142377288, -1.7007684471968798, -1.2178801309477847, -1.210176821693502, -0.9749970601836986, -0.9749070267174389, 1.0041908546720384, -0.40841766962965126, -1.157327438338669, -0.9748731688272444, 1.0041855777634425, -0.9748570326614339, 1.0041853014928368, -0.9748521594702554, -0.9341764295187183, -0.06776527515883875, 0.8217510142597477, -1.7094061607080626, -1.2226102519444606, -0.9828826689449335, -0.9748564806284195, -0.9750249479338958, -0.9748634996032819, 1.3913812951394513, 0.4418281340513439, -0.9748510978914825, -1.4886917378309275, -0.9757074958520124, -0.974885688131733, -0.9748880777519336, 1.0041135431650523, 0.8416473734058892, -1.0285323352027786, 1.044851474340121, -1.2100886606556762, -0.9750059125870263, -0.974855911598837, -0.9748448426440086, 1.1111418836694473, -0.9748690764476622, -1.9787423559260475, 0.8017595171379504, -0.9748501277762044, 0.7674876513862164, 0.8008913095840918, 1.6348943941514582, -0.9842422251570452, -1.2100889168210394, -0.9750438260046091, 1.6348923405084252, 0.4905401737969624, 1.0039290506199736, 1.004126849868523, 1.0053679628931542, -0.9748572792643788, -0.975001282965089, -0.9748754055652572, 0.8415817363036913, 1.0448646859727735, -1.2106155259551454, 0.07611416754142494, -1.2101042186671336, 1.472647230867489, 1.0448584152286549, -1.2101018772554797, -1.2101267606498745, -1.2100763701150146, -0.9341651900099852, 1.0032175543604784, 1.0041246274472737, -0.9748576561028647, 0.5130275061644282, -1.1968911244425162, -0.9750071964768776, 1.0448614858457697, 0.07617825413502965, -1.2101031203209425, 1.6348930637836512, 1.0035589532972964, -2.2914291421364537, -2.1881510680160985, -0.7090291896949565, 1.3832452207055228, -0.9749078141172725, 0.7689122450934414, 0.821755798042116, -0.9758905806277013, 0.8009019937374543, -0.9749437945069322, 1.634884216041637, -0.974845688692798, 0.8005914864728861, -0.974939157891026, 1.004185951686484, 1.634885686464761, -0.975444982349819, -2.0350501327975437, 0.8415671419845813, -1.6995680829228657, -1.4024715091356879, -0.9748457576213477, 1.0041737022984836, -0.9809871983790001, -2.124861203819385, -0.9748443998427921, -1.2100890085050244, -1.0330714277203767, 1.0448647475942114, 0.24932524525526656, -0.9341848253589253, -2.0426593123126713, -1.2101096504026874, 1.8371057574561114, -0.934177890062057, 0.35566704754782136, -0.9749757819066465, -0.9749992104275861, 0.8008416391739636, -1.8741428838656162, 1.634861013174272, -2.0221127994003636, 0.7683225350232861, 1.687885260380141, -0.934174725373985, -1.2100886643601696, 0.8065438319372173, -0.974968475438122, -1.8846027127371578, 0.7689399292872859, 1.0285044154054608, -0.9748943809458746, 0.7689472665552924, -1.2228870281459265, 1.3664929622265676, 1.0041596732763625, 0.8007626240744884, -0.9342165838870148, -2.08703715333103, -0.9749505577192983, -2.0174639929958693, 1.044622070104825, 0.739733917916933, 0.7689285654937479, -0.04533447080717778, 1.3913692144362255, -0.9748564259300933, -0.9341805107904314, 1.044822644131778, 0.7688127893648838, 0.7686221012274032, 1.3660333424472217, 1.044777695922484, -0.9748443980472619, 1.5065343401498297, 1.002952865222097, 1.0041580161566028, 1.0041266340768302, 1.4314803547766848, -0.9341810057933656, 0.8411903638164837, -1.2886134989934812, 1.0448336688037179, 1.0041306714454867, -2.1821065059380556, 0.7689404382325162, -1.2100821302015081, 1.0448628143560978, 1.0041727055740803, -1.7002898739701875, 1.0041859707205332, -0.974965902585501, 0.8009077361991472, -1.210082585834187, 0.5066768372866027, -0.9748625715936182, 1.749149705479062, 1.3913372162509916, 1.0041872442217215, 1.043925999237493, -2.1112975994337275, 1.3913617465256602, 1.4316052529323966, 1.6670884622758755, 1.391191279752415, 1.7563114536790172, -1.8741481358796035, -1.871817685939453, 1.8053876738019323, 1.0448464389870187, -0.9811651826262439, -0.9344484663888338, 1.6380711832915342, 1.0448624031375406, 1.3913514369093365, 1.0041621893746329, 1.00415940919909, -0.9343070670058469, 1.3913692144362255, 1.0448269569032083, 0.7689415477936882, 1.0041658228702148, 0.09975424050270539, 1.00416861791758, 1.0037745257526451, 1.0448615548750806, -2.182113743886878, 1.0040950917778766, 0.781685418079743, 1.0041778047537984, 1.0041839276155236, 1.3674640531913738, 0.5765094829919473, -0.9748457145900036, -2.1821159376548476, -2.0426244815156793, 1.0038704055852739, 0.7689405160806975, 1.0448589945384357, 1.0041737110486595, -0.9974342369253152, 1.004172023177124, -2.058412212832525, 0.800866205585559, 0.35091841478278396, -0.974846033701465, 1.431598127268525, -0.9347969199830719, -1.871815101567703, 1.003593308270159, -0.9749032974869956, -2.0426307713312166, 0.8008805625226123, -2.0728501381435, 1.0448019266596498, 1.8166771864151205, 1.0447995277116335, -0.9773730742741249, 1.391315744093213, 1.044802263696335, -0.6129731169413942, 1.391144089743087, 1.0445531391332872, 1.0041726836980516, 1.0041678376767669, 1.003553006155199, 0.5182047766605394, 1.044840062687197, -0.9748656962636774, 0.7996469851192226, -1.2116053516754188, 1.3913625382054826, 1.004120298550671, 1.6325792376869483, 0.5655424928232005, -0.9748890506754426, 1.5064947280658885, -2.058359238930624, 1.7296271073080611, -2.0119253963400903, -2.0236573921006573, -2.0616524868306323, -2.183293343469025, 1.3660807782571067, -0.934227112458594, 1.366013528309586, 1.9103250426254055, -0.9748555019903337, 1.6348735997520238, -0.9748912923613786, -0.9342021629944101, -0.934177094863697, 0.9729052794159295, -2.182134098206469, 1.6348806523274784, -1.9198662362780523, -1.0948505812359015, -1.126791216392155, 1.4130505868426055, -0.9348564973512719, 1.91032667678405, -1.2100887854030948, 1.0448591761658272, 0.800890633841779, 11.085867463022916, -0.9814895314951617, 1.3913422403913214, -0.9690776783287223, -0.9748562995909525, -0.9748964931214776, -0.9749060070099683, -0.9749059638734016, 1.0041561413757416, 1.004183403646029, -2.18215638989738, 1.1186650018776316, 1.3867052688788188, 1.0448478909191459, -1.8848855161849674, 0.49029663178560784, -0.935195485109259, 1.0041759807680093, -1.488504415752142, 0.5788906845882594, -1.8718172186522128, 0.9903172260843234, 0.7688941263072836, 1.365350054500595, 1.677284855354293, -2.0871159531710424, 1.0041726881434863, 1.5706327746497635, -0.974903291576025, 1.3314284128768035, 1.004177192678767, 0.5603354522900994, -0.9343796908662356, -1.4885157189855853, -1.8743093063463172, -1.4885073865127771, 1.0447750882756823, 1.805157587375381, 1.3482448623261956, 1.634766219512739, -1.6999690022602798, 1.0040574569779088, -2.2351200583518804, -2.1821082221723693, -1.880440668405622, 1.1627849366627903, 1.367461148253343, -0.9345100987373515, -2.0589103535769517, 0.9727386100830671, 1.0040912960133985, -0.9778487196606657, 1.0448348627600674, -1.2282215216909498, -0.9341775997157473, -1.4885004698686746, 1.3673982746929696, -1.488791859974815, -0.974882704786193, 1.003640108027059, 1.0041834618603562, 0.8415665783291654, -0.9341794536846402, -1.2100881700431836, -1.1033540307176521, 1.5065389882498832, -0.0983886353644765, 0.48914914198975035, -2.812864278916902, -1.9165313622181055, 1.004048527726433, -2.182307748415272, -0.9807698750462481, -2.087077359106975, -1.1975102615768658, 1.4311096954387041, 7.984027047371382, 0.4110404894081371, -0.9748688471550475, -0.9859096193571057, -0.9344731719426204, 0.8756781837696762, 6.175315954506771, 1.0448489513073003, 1.0217417489947955, 0.8008234482313457, 1.2834075313674513, -1.8782365148800322, -2.1827301710358, -0.9748571596663012, -1.8076715211459915, 1.3660558497549418, 1.004184027878318, 1.0041827756343848, -1.871846047494102, 0.8005952223947657, -2.111473129925295, 1.3183431941001444, 1.3913262524620897, 1.0041673037089662, 1.7536357786078471, -0.9342272470347474, 1.5706371709087363, 1.3913308801798134, -2.1821114919345828, 0.6384524466279478, 1.0010007950781972, -0.6129554275997684, -2.0426346553342696, 0.3325692028708207, -2.118508380612187, 0.800886002774436, -2.1112907242156034, -2.1824802331234077, -2.079846519659623, -2.296890200308684, 0.9981415333575172, 0.8008733573696425, -1.96468771772517, 1.7609564642391224, -2.1827108148566112, 1.00413359928785, 1.4845606236119406, 0.224412203020818, 1.3670618429856822, 0.5656075848265368, 1.6185380840995227, -1.137277824698135, -2.1222155278505963, -0.9341783283977303, 0.8417149893192161, 1.3674601172299778, 1.5707550961771801, 0.7902174777964696, 0.782157211522588, 1.3674124954805402, -0.9748579661915832, 1.0035532038876769, -2.059402525592789, -1.9565089417491994, -0.9573825345384382, -2.192490411105194, 0.8415456587880384, 1.0448342819947711, 0.8007406871898719, 1.3912485318457894, -1.211320646871842, 0.8550814234218449, 0.8415165826420782, -0.9341808591023619, 0.9928363151576843, 0.7578733228375373, -1.1373270778543867, 0.5710864804358678, -1.8764439413621457, 0.8184633399344743, -2.1113369747631263, -1.210088785527086, -0.002897649832350384, 0.8422736349515526, -2.187139092955521, 1.5707253645076842, -2.018323973690469, -2.0182728346933523, -0.09612560271045453, -2.1027759621171866, -0.9749185587704788, 1.0041731973276, -1.8719695100816172, 1.5707468060705068, -1.8718231550672844, 1.3674647387400167, 0.9580874486605101, -1.4025345352517502, 0.8415672522542081, 1.0041335568360954, 1.0214712748649188, 1.7578900254443095, 1.0445994876047666, -1.210114617399457, -0.3441394777951793, -1.2101791364897923, 1.0448466580638849, 1.8048698399312095, 0.9826518571935363, -1.0369299204519449, 1.0448744676982658, -1.4908649012756727, 1.0040594538245857, -2.0226869099387583, 1.0041523831417072, 0.565655596426446, 1.0041862808516988, 1.0445658280766768, -0.9754454793843716, 0.9975799195574101, 0.7695568235703946, 1.0442517089610819, -1.210101875177549, 1.0041788182387734, -1.0052964642509854, 1.0039490328580583, -1.1573397717366052, 1.0447411614730346, 1.0040888057287767, 1.391375524043593, -0.9748469935518728, -0.9749564118980902, 0.26975260238918136, 0.768890261185891, 1.805366049927742, 0.794969473035666, 1.0040061819860118, 0.49050439435797516, -0.5319894322427458, -1.699572346186601, 1.634891659097017, -1.928968280542138, 1.8055035748388737, -1.8741471180598908, 1.805507681169162, 0.5650761261275816, 2.0936857038817362, 1.3913759758346766, 0.5104073407729997, 1.4000339198851326, 0.7513971715276576, 1.0040282679271262, -2.1829471774845204, -1.8718176180775663, 0.800900269864858], \"z\": [-0.6281985663890555, -0.6285169869774947, -0.7692858979149894, 0.20762370326195886, 0.43108382417284474, -0.01490761904108324, -0.5267679582956807, 0.46626707431972353, 0.43106687574789937, 0.4872643325181323, -0.1677984392505485, 0.28089173199140927, -0.4056857776797292, -0.07607754860175062, -0.014887826496406268, -0.669569693045116, 0.08654543937239927, -0.014892693190549419, -0.6282045998258691, -0.6283667526872263, 0.28486143331060165, -0.043129268284533236, 0.20757245354975673, -0.014937272012840496, -0.014894057927187052, -0.628231139085307, 0.09157885424590824, 0.1657839672275366, -0.014897149683274668, -0.6281986144216505, -0.014888210723528188, -0.6281989149654496, -0.014886966629190455, 0.08654721501093565, -0.3801621557548765, -0.44751174767060403, 0.28002143037058913, 0.20111623811342125, -0.01919659847608897, -0.014891834380801123, -0.014964737668580502, -0.014892269287138559, -0.05894327240025148, -0.350047688597358, -0.014885883992267666, 0.30463194649618003, -0.015223259430148258, -0.014907286331536181, -0.014901095378278098, -0.6282310202823749, -0.1975978623474421, -0.04552790882495162, -0.5267702397679954, 0.2076228662862273, -0.014944363420385265, -0.014891341526231656, -0.014885146696260542, -0.6851023555867315, -0.014897942551244646, 0.3698558801839009, -0.3042243559759284, -0.01488702690957927, -0.4062889148140688, -0.29859367490178257, -0.7384461170323584, -0.016614315440938835, 0.20762454780790898, -0.014998134656175293, -0.73843263650073, -0.30860304927758825, -0.6282883978304035, -0.6282253504201835, -0.6359579174748065, -0.014886591971512726, -0.014909552814717775, -0.01489529527594927, -0.19716700702443896, -0.526763950069644, 0.2074155715093615, 0.0017233473316511968, 0.20761501154393225, -0.47009916905818666, -0.5267650642062931, 0.20762083304596918, 0.2076235056511358, 0.20762992134733196, 0.08654954203779218, -0.6286071266214984, -0.6282192181554856, -0.014892574488409856, -0.23240028436027343, 0.11580164375088285, -0.01493593570560058, -0.5267661939996595, 0.0017254779412607909, 0.2076163085388009, -0.7384373842267978, -0.6283112903897883, 0.3655184962345848, 0.42524259107263873, -0.2686431176683544, -0.14023605166687406, -0.014910537047712684, -0.40569917486881474, -0.4475246303997192, -0.01511817713505992, -0.2985953975160525, -0.014933392030257559, -0.7384300428134218, -0.01488499654672586, -0.2986712049055483, -0.014936827198662154, -0.628198954888352, -0.7384312388090825, -0.015168080163127125, 0.4797617078434448, -0.19715576855345673, 0.28543815900838765, 0.2928933784582361, -0.014887686974554401, -0.6282031090233323, -0.016840571048216364, 0.4653092763107528, -0.014884964627709659, 0.20762514964028148, -0.021651693058025397, -0.5267643503372466, -0.50026800895058, 0.0865389058063602, 0.49312906412866236, 0.2076221353392962, -0.7047463443777539, 0.0865441180728936, -0.31235283144858567, -0.014908838470470955, -0.01492315737350034, -0.29862202593233544, 0.4311083049734134, -0.7384384015303562, 0.4227440320119252, -0.4057687690068385, -0.6695427042816529, 0.08654448481897488, 0.20762289060327835, -0.36606305460406263, -0.01495578488035016, 0.5433671220275423, -0.4056864078464447, -0.5316273385059497, -0.014909418057870685, -0.40568594824082166, 0.20028509110662504, -0.6523964422472425, -0.6282040374386156, -0.2986151750140471, 0.08653174314087587, 0.5121608413148322, -0.014897306372345069, 0.3236269215484757, -0.5267949488317979, -0.31565567220040175, -0.40568791904249885, -0.36735903254192986, -0.05894853381648762, -0.014887965350989508, 0.08654440874521746, -0.5268050806829742, -0.40570051698512094, -0.4057268442850401, -0.6497599315640172, -0.5267806286416489, -0.014884963602851358, -0.13063028110923258, -0.6285608854560993, -0.6282030252870215, -0.6282323900810683, -0.4088342948124312, 0.08654765804541754, -0.197375807285682, 0.7425863437594312, -0.5267717468581399, -0.6282166113843921, 0.42780338003132146, -0.4056855205859372, 0.2076276241553433, -0.5267643444104003, -0.6282007944018875, 0.2851024456882088, -0.6281990798317361, -0.01493039280178496, -0.2986330922055605, 0.20762680003232145, -0.4196273718227545, -0.01488990477023934, -0.8214924551400857, -0.05896680756595138, -0.6282074393532152, -0.5269443358725331, 0.5164504415176909, -0.058984074113087634, -0.408819106344876, -0.5619518849148984, -0.05896862496827244, -0.8156779894189267, 0.43110346274061295, 0.487264800877492, 0.17625562150603374, -0.5267710113297073, -0.015672246156246326, 0.08629498556174042, -0.7628930773954585, -0.5267652530224868, -0.058958680928352956, -0.6282059244612215, -0.6282023039815499, 0.08651684915108399, -0.05894853381648762, -0.5267699693823643, -0.4056885758909408, -0.6282063518996154, -0.16961380808577878, -0.6282035587565612, -0.6282493134985389, -0.5267645330817442, 0.4278043825147099, -0.6282113755532278, -0.30992957162593476, -0.6282004418110961, -0.6281996878975797, -0.1920416118361031, -0.3204325474220305, -0.014885191376366382, 0.4278018705318773, 0.4931363085005, -0.628241686326653, -0.40568603159727273, -0.5267661355736417, -0.628203166461271, 0.07905238925192408, -0.6282002612164371, 0.46625511639911704, -0.2985930212323097, -0.516579189267474, -0.01488582679461575, -0.40882317355337355, 0.08646826561789658, 0.4872647488574659, -0.6285368034370367, -0.014918537356252237, 0.4931310872394365, -0.2986002763491774, 0.4203312003496058, -0.5267747889909011, -0.7684039745955998, -0.526801322614751, -0.015195933952594581, -0.05897929712222781, -0.5267770013684285, -0.03642364106710946, -0.05907744012171301, -0.526832929249313, -0.6282015476678953, -0.6282009739452322, -0.6282722521363685, -0.08161657350643149, -0.5267714368052803, -0.014892734495957481, -0.2988134265957766, 0.20709732315632592, -0.05894699048433438, -0.6282119427993723, -0.6869187739433139, -0.0760909087450353, -0.014893670070528818, -0.13065142668477076, 0.4662456313674764, -0.6988041769266786, 0.4565038901815363, 0.43144431212131873, 0.44815598208658025, 0.42718014284173517, -0.6497330634303902, 0.08653320553913439, -0.6497567099476519, -0.6793807464377066, -0.01489097253195429, -0.7384364607776626, -0.014891639429278722, 0.08653855539995724, 0.08654777719834793, -0.6342702826278612, 0.4277984657532389, -0.7384358159615074, 0.5219903815807715, -0.07275345616961224, 0.07378052487462927, -0.18067837866064582, 0.08643653553324787, -0.6793914733882729, 0.20762368515372154, -0.5267679758550435, -0.29859442235846023, 0.7840825870564758, -0.01565719443232659, -0.0589473586978928, -0.05273628134479874, -0.014888794666868162, -0.01489555330651295, -0.014900751494953861, -0.014901034652174308, -0.6282072872837813, -0.6281999869705108, 0.42779727992111544, -0.1668212953040866, -0.09128126292812426, -0.5267678578659157, 0.4843437966011544, -0.30867968230159765, 0.0857020637539895, -0.6282000255491674, 0.30470880313500665, -0.1678901977325611, 0.48726173350876095, -0.6428638315495336, -0.40571553804681476, -0.6499678598181639, -0.7991175686648591, 0.512144064463881, -0.6282006799839128, -0.5216709283301413, -0.014918576157068339, -0.19837803752547623, -0.6282039850011287, -0.07911758777211189, 0.08647774112432435, 0.3047068944101397, 0.4310883550659396, 0.3047080090258365, -0.5267846519202131, 0.17618042543459386, -0.6594546169112018, -0.7384926495313775, 0.2852793419762778, -0.6282433863835684, 0.41645056263564, 0.4278040755413676, 0.4302389206944865, -0.32012640457791736, -0.19204368363441743, 0.08648814882594714, 0.4660813201784973, -0.6331762311411337, -0.6282118278658781, -0.016301781421818505, -0.5267795842310796, 0.23267099311887623, 0.08654728587744566, 0.30470827003599305, -0.19205377684151329, 0.304595763416751, -0.014901501135322319, -0.6284211985063122, -0.6281995234850656, -0.19715629668515156, 0.08654592584880946, 0.20762317202515565, 0.10718383747775219, -0.13062485349914915, 0.1474083320175832, -0.5088319799690753, 0.34018752119205103, 0.5008867579989885, -0.6282777907332716, 0.4277460223530685, -0.01826712571916267, 0.512128794571944, 0.11557005607720336, -0.40893805980436804, 10.808135062235586, 10.304116458257438, -0.014890991513162343, -0.020074185891147813, 0.08645715785454393, -0.5061295285582712, 15.693892176622033, -0.5267663623084236, -0.6352701954003024, -0.2986040908143743, -0.09438462569257988, 0.43056869023111616, 0.42771144493296576, -0.014887377037681861, 0.5355668131316363, -0.6497385508901811, -0.6281990108616052, -0.6281992470386422, 0.48724379594722406, -0.29869572825856056, 0.5164247161516472, -0.029027059173078098, -0.058954032150870514, -0.6282033881847978, 0.2232868977198698, 0.08653408892444742, -0.5216997862704839, -0.058950584787413954, 0.4278005932506776, -0.024926910785303267, -0.6289469609321324, -0.03642453385517712, 0.4931342583609474, -0.42085889683712013, 0.527957581539917, -0.2986003596743474, 0.5164513972644925, 0.4277620316327545, 0.39332918328139105, 0.4033423728381612, -0.6316485844091585, -0.2985934581127794, 0.5857337393104863, -0.8148556196480424, 0.4275843870258174, -0.6282104618540038, -0.3399414600473084, -0.3739237438392001, -0.19208625332611337, -0.07609613046943906, 0.015754687634230526, 0.2587772373344541, 0.40826252751734915, 0.0865469953976348, -0.35454864394444957, -0.19204114386759938, -0.5216500344669196, -0.29983005975426674, -0.49749983467221637, -0.19206256337530844, -0.014886755982518329, -0.628273550092675, 0.4661387848725685, 0.4156225848659401, -0.021971209225877888, 0.35342680669986687, -0.19716273129798811, -0.5267757719692499, -0.2986358494483272, -0.058959684032545444, 0.20691969508315866, -0.5386005181295654, -0.19716213318205342, 0.0865466951357559, -0.6298030804362905, -0.1872608064955477, 0.258771074860229, 16.958567914528697, 0.48558786058523645, -0.3056607812571639, 0.5164442313521036, 0.2076236859676238, -0.5197063227216356, -0.2017087708352034, 0.4267176955197584, -0.5216614072437519, 0.4393328787675895, 0.43933497841600466, 0.20355309422068146, 0.3420770348675619, -0.014902920795120417, -0.6282040223722637, 0.4872390555726855, -0.5216543234136722, 0.4872589025411994, -0.19203922014551583, -0.6418594233733735, 0.2928842866577942, -0.197155223961541, -0.6282101831920303, -0.6353551036023147, -0.8154444859399564, -0.526798923604677, 0.20761144417173272, -0.12511527780091672, 0.20759524023573217, -0.5267724493949303, 0.17595521794302738, -0.6348275948957587, -0.022115052736456885, -0.5268281550823023, 0.3034053465016687, -0.628214213284535, 0.43881997235024267, -0.628208003369381, -0.0760761613957993, -0.6282011155959453, -0.5269162220611504, -0.015164817526973863, -0.6292304611397546, -0.4104461452838069, -0.5269683205240069, 0.2076208194060044, -0.6282155506946944, -0.026392824135538343, -0.6283350037001945, 0.16577613647012546, -0.5268325466395062, -0.6282377619376265, -0.05894344247726266, -0.014886460193294097, -0.014916586155166247, -0.08334120663397174, -0.4057113070057528, 0.17624992720966373, -0.3019712875013428, -0.6282873341514168, -0.30860664165715385, 10.882624578093907, 0.285454305314693, -0.738428670946991, 0.38855867656349924, 0.17602333356352512, 0.4311040436948746, 0.17599637877418647, -0.0764116912772613, 10.301382602866783, -0.058944861240428956, -0.4295397221683507, 0.2703455590599325, 0.08378269315217725, -0.6282209067334563, 0.42744374598730656, 0.4872643554182302, -0.2985883097455931]}],                        {\"coloraxis\": {\"colorbar\": {\"title\": {\"text\": \"class\"}}, \"colorscale\": [[0.0, \"#0d0887\"], [0.1111111111111111, \"#46039f\"], [0.2222222222222222, \"#7201a8\"], [0.3333333333333333, \"#9c179e\"], [0.4444444444444444, \"#bd3786\"], [0.5555555555555556, \"#d8576b\"], [0.6666666666666666, \"#ed7953\"], [0.7777777777777778, \"#fb9f3a\"], [0.8888888888888888, \"#fdca26\"], [1.0, \"#f0f921\"]]}, \"legend\": {\"tracegroupgap\": 0}, \"margin\": {\"t\": 60}, \"scene\": {\"domain\": {\"x\": [0.0, 1.0], \"y\": [0.0, 1.0]}, \"xaxis\": {\"title\": {\"text\": \"PC 1\"}}, \"yaxis\": {\"title\": {\"text\": \"PC 2\"}}, \"zaxis\": {\"title\": {\"text\": \"PC 3\"}}}, \"template\": {\"data\": {\"bar\": [{\"error_x\": {\"color\": \"#2a3f5f\"}, \"error_y\": {\"color\": \"#2a3f5f\"}, \"marker\": {\"line\": {\"color\": \"#E5ECF6\", \"width\": 0.5}}, \"type\": \"bar\"}], \"barpolar\": [{\"marker\": {\"line\": {\"color\": \"#E5ECF6\", \"width\": 0.5}}, \"type\": \"barpolar\"}], \"carpet\": [{\"aaxis\": {\"endlinecolor\": \"#2a3f5f\", \"gridcolor\": \"white\", \"linecolor\": \"white\", \"minorgridcolor\": \"white\", \"startlinecolor\": \"#2a3f5f\"}, \"baxis\": {\"endlinecolor\": \"#2a3f5f\", \"gridcolor\": \"white\", \"linecolor\": \"white\", \"minorgridcolor\": \"white\", \"startlinecolor\": \"#2a3f5f\"}, \"type\": \"carpet\"}], \"choropleth\": [{\"colorbar\": {\"outlinewidth\": 0, \"ticks\": \"\"}, \"type\": \"choropleth\"}], \"contour\": [{\"colorbar\": {\"outlinewidth\": 0, \"ticks\": \"\"}, \"colorscale\": [[0.0, \"#0d0887\"], [0.1111111111111111, \"#46039f\"], [0.2222222222222222, \"#7201a8\"], [0.3333333333333333, \"#9c179e\"], [0.4444444444444444, \"#bd3786\"], [0.5555555555555556, \"#d8576b\"], [0.6666666666666666, \"#ed7953\"], [0.7777777777777778, \"#fb9f3a\"], [0.8888888888888888, \"#fdca26\"], [1.0, \"#f0f921\"]], \"type\": \"contour\"}], \"contourcarpet\": [{\"colorbar\": {\"outlinewidth\": 0, \"ticks\": \"\"}, \"type\": \"contourcarpet\"}], \"heatmap\": [{\"colorbar\": {\"outlinewidth\": 0, \"ticks\": \"\"}, \"colorscale\": [[0.0, \"#0d0887\"], [0.1111111111111111, \"#46039f\"], [0.2222222222222222, \"#7201a8\"], [0.3333333333333333, \"#9c179e\"], [0.4444444444444444, \"#bd3786\"], [0.5555555555555556, \"#d8576b\"], [0.6666666666666666, \"#ed7953\"], [0.7777777777777778, \"#fb9f3a\"], [0.8888888888888888, \"#fdca26\"], [1.0, \"#f0f921\"]], \"type\": \"heatmap\"}], \"heatmapgl\": [{\"colorbar\": {\"outlinewidth\": 0, \"ticks\": \"\"}, \"colorscale\": [[0.0, \"#0d0887\"], [0.1111111111111111, \"#46039f\"], [0.2222222222222222, \"#7201a8\"], [0.3333333333333333, \"#9c179e\"], [0.4444444444444444, \"#bd3786\"], [0.5555555555555556, \"#d8576b\"], [0.6666666666666666, \"#ed7953\"], [0.7777777777777778, \"#fb9f3a\"], [0.8888888888888888, \"#fdca26\"], [1.0, \"#f0f921\"]], \"type\": \"heatmapgl\"}], \"histogram\": [{\"marker\": {\"colorbar\": {\"outlinewidth\": 0, \"ticks\": \"\"}}, \"type\": \"histogram\"}], \"histogram2d\": [{\"colorbar\": {\"outlinewidth\": 0, \"ticks\": \"\"}, \"colorscale\": [[0.0, \"#0d0887\"], [0.1111111111111111, \"#46039f\"], [0.2222222222222222, \"#7201a8\"], [0.3333333333333333, \"#9c179e\"], [0.4444444444444444, \"#bd3786\"], [0.5555555555555556, \"#d8576b\"], [0.6666666666666666, \"#ed7953\"], [0.7777777777777778, \"#fb9f3a\"], [0.8888888888888888, \"#fdca26\"], [1.0, \"#f0f921\"]], \"type\": \"histogram2d\"}], \"histogram2dcontour\": [{\"colorbar\": {\"outlinewidth\": 0, \"ticks\": \"\"}, \"colorscale\": [[0.0, \"#0d0887\"], [0.1111111111111111, \"#46039f\"], [0.2222222222222222, \"#7201a8\"], [0.3333333333333333, \"#9c179e\"], [0.4444444444444444, \"#bd3786\"], [0.5555555555555556, \"#d8576b\"], [0.6666666666666666, \"#ed7953\"], [0.7777777777777778, \"#fb9f3a\"], [0.8888888888888888, \"#fdca26\"], [1.0, \"#f0f921\"]], \"type\": \"histogram2dcontour\"}], \"mesh3d\": [{\"colorbar\": {\"outlinewidth\": 0, \"ticks\": \"\"}, \"type\": \"mesh3d\"}], \"parcoords\": [{\"line\": {\"colorbar\": {\"outlinewidth\": 0, \"ticks\": \"\"}}, \"type\": \"parcoords\"}], \"pie\": [{\"automargin\": true, \"type\": \"pie\"}], \"scatter\": [{\"marker\": {\"colorbar\": {\"outlinewidth\": 0, \"ticks\": \"\"}}, \"type\": \"scatter\"}], \"scatter3d\": [{\"line\": {\"colorbar\": {\"outlinewidth\": 0, \"ticks\": \"\"}}, \"marker\": {\"colorbar\": {\"outlinewidth\": 0, \"ticks\": \"\"}}, \"type\": \"scatter3d\"}], \"scattercarpet\": [{\"marker\": {\"colorbar\": {\"outlinewidth\": 0, \"ticks\": \"\"}}, \"type\": \"scattercarpet\"}], \"scattergeo\": [{\"marker\": {\"colorbar\": {\"outlinewidth\": 0, \"ticks\": \"\"}}, \"type\": \"scattergeo\"}], \"scattergl\": [{\"marker\": {\"colorbar\": {\"outlinewidth\": 0, \"ticks\": \"\"}}, \"type\": \"scattergl\"}], \"scattermapbox\": [{\"marker\": {\"colorbar\": {\"outlinewidth\": 0, \"ticks\": \"\"}}, \"type\": \"scattermapbox\"}], \"scatterpolar\": [{\"marker\": {\"colorbar\": {\"outlinewidth\": 0, \"ticks\": \"\"}}, \"type\": \"scatterpolar\"}], \"scatterpolargl\": [{\"marker\": {\"colorbar\": {\"outlinewidth\": 0, \"ticks\": \"\"}}, \"type\": \"scatterpolargl\"}], \"scatterternary\": [{\"marker\": {\"colorbar\": {\"outlinewidth\": 0, \"ticks\": \"\"}}, \"type\": \"scatterternary\"}], \"surface\": [{\"colorbar\": {\"outlinewidth\": 0, \"ticks\": \"\"}, \"colorscale\": [[0.0, \"#0d0887\"], [0.1111111111111111, \"#46039f\"], [0.2222222222222222, \"#7201a8\"], [0.3333333333333333, \"#9c179e\"], [0.4444444444444444, \"#bd3786\"], [0.5555555555555556, \"#d8576b\"], [0.6666666666666666, \"#ed7953\"], [0.7777777777777778, \"#fb9f3a\"], [0.8888888888888888, \"#fdca26\"], [1.0, \"#f0f921\"]], \"type\": \"surface\"}], \"table\": [{\"cells\": {\"fill\": {\"color\": \"#EBF0F8\"}, \"line\": {\"color\": \"white\"}}, \"header\": {\"fill\": {\"color\": \"#C8D4E3\"}, \"line\": {\"color\": \"white\"}}, \"type\": \"table\"}]}, \"layout\": {\"annotationdefaults\": {\"arrowcolor\": \"#2a3f5f\", \"arrowhead\": 0, \"arrowwidth\": 1}, \"coloraxis\": {\"colorbar\": {\"outlinewidth\": 0, \"ticks\": \"\"}}, \"colorscale\": {\"diverging\": [[0, \"#8e0152\"], [0.1, \"#c51b7d\"], [0.2, \"#de77ae\"], [0.3, \"#f1b6da\"], [0.4, \"#fde0ef\"], [0.5, \"#f7f7f7\"], [0.6, \"#e6f5d0\"], [0.7, \"#b8e186\"], [0.8, \"#7fbc41\"], [0.9, \"#4d9221\"], [1, \"#276419\"]], \"sequential\": [[0.0, \"#0d0887\"], [0.1111111111111111, \"#46039f\"], [0.2222222222222222, \"#7201a8\"], [0.3333333333333333, \"#9c179e\"], [0.4444444444444444, \"#bd3786\"], [0.5555555555555556, \"#d8576b\"], [0.6666666666666666, \"#ed7953\"], [0.7777777777777778, \"#fb9f3a\"], [0.8888888888888888, \"#fdca26\"], [1.0, \"#f0f921\"]], \"sequentialminus\": [[0.0, \"#0d0887\"], [0.1111111111111111, \"#46039f\"], [0.2222222222222222, \"#7201a8\"], [0.3333333333333333, \"#9c179e\"], [0.4444444444444444, \"#bd3786\"], [0.5555555555555556, \"#d8576b\"], [0.6666666666666666, \"#ed7953\"], [0.7777777777777778, \"#fb9f3a\"], [0.8888888888888888, \"#fdca26\"], [1.0, \"#f0f921\"]]}, \"colorway\": [\"#636efa\", \"#EF553B\", \"#00cc96\", \"#ab63fa\", \"#FFA15A\", \"#19d3f3\", \"#FF6692\", \"#B6E880\", \"#FF97FF\", \"#FECB52\"], \"font\": {\"color\": \"#2a3f5f\"}, \"geo\": {\"bgcolor\": \"white\", \"lakecolor\": \"white\", \"landcolor\": \"#E5ECF6\", \"showlakes\": true, \"showland\": true, \"subunitcolor\": \"white\"}, \"hoverlabel\": {\"align\": \"left\"}, \"hovermode\": \"closest\", \"mapbox\": {\"style\": \"light\"}, \"paper_bgcolor\": \"white\", \"plot_bgcolor\": \"#E5ECF6\", \"polar\": {\"angularaxis\": {\"gridcolor\": \"white\", \"linecolor\": \"white\", \"ticks\": \"\"}, \"bgcolor\": \"#E5ECF6\", \"radialaxis\": {\"gridcolor\": \"white\", \"linecolor\": \"white\", \"ticks\": \"\"}}, \"scene\": {\"xaxis\": {\"backgroundcolor\": \"#E5ECF6\", \"gridcolor\": \"white\", \"gridwidth\": 2, \"linecolor\": \"white\", \"showbackground\": true, \"ticks\": \"\", \"zerolinecolor\": \"white\"}, \"yaxis\": {\"backgroundcolor\": \"#E5ECF6\", \"gridcolor\": \"white\", \"gridwidth\": 2, \"linecolor\": \"white\", \"showbackground\": true, \"ticks\": \"\", \"zerolinecolor\": \"white\"}, \"zaxis\": {\"backgroundcolor\": \"#E5ECF6\", \"gridcolor\": \"white\", \"gridwidth\": 2, \"linecolor\": \"white\", \"showbackground\": true, \"ticks\": \"\", \"zerolinecolor\": \"white\"}}, \"shapedefaults\": {\"line\": {\"color\": \"#2a3f5f\"}}, \"ternary\": {\"aaxis\": {\"gridcolor\": \"white\", \"linecolor\": \"white\", \"ticks\": \"\"}, \"baxis\": {\"gridcolor\": \"white\", \"linecolor\": \"white\", \"ticks\": \"\"}, \"bgcolor\": \"#E5ECF6\", \"caxis\": {\"gridcolor\": \"white\", \"linecolor\": \"white\", \"ticks\": \"\"}}, \"title\": {\"x\": 0.05}, \"xaxis\": {\"automargin\": true, \"gridcolor\": \"white\", \"linecolor\": \"white\", \"ticks\": \"\", \"title\": {\"standoff\": 15}, \"zerolinecolor\": \"white\", \"zerolinewidth\": 2}, \"yaxis\": {\"automargin\": true, \"gridcolor\": \"white\", \"linecolor\": \"white\", \"ticks\": \"\", \"title\": {\"standoff\": 15}, \"zerolinecolor\": \"white\", \"zerolinewidth\": 2}}}},                        {\"responsive\": true}                    ).then(function(){\n",
       "                            \n",
       "var gd = document.getElementById('29bea65c-cb14-414d-b21e-f98d469c811f');\n",
       "var x = new MutationObserver(function (mutations, observer) {{\n",
       "        var display = window.getComputedStyle(gd).display;\n",
       "        if (!display || display === 'none') {{\n",
       "            console.log([gd, 'removed!']);\n",
       "            Plotly.purge(gd);\n",
       "            observer.disconnect();\n",
       "        }}\n",
       "}});\n",
       "\n",
       "// Listen for the removal of the full notebook cells\n",
       "var notebookContainer = gd.closest('#notebook-container');\n",
       "if (notebookContainer) {{\n",
       "    x.observe(notebookContainer, {childList: true});\n",
       "}}\n",
       "\n",
       "// Listen for the clearing of the current output cell\n",
       "var outputEl = gd.closest('.output');\n",
       "if (outputEl) {{\n",
       "    x.observe(outputEl, {childList: true});\n",
       "}}\n",
       "\n",
       "                        })                };                });            </script>        </div>"
      ]
     },
     "metadata": {},
     "output_type": "display_data"
    }
   ],
   "source": [
    "# Create a 3D-Scatter with the PCA data and the clusters\n",
    "fig = px.scatter_3d(clustered_df, x=\"PC 1\", y=\"PC 2\", z=\"PC 3\", color=\"class\", hover_name=\"CoinName\", hover_data=[\"Algorithm\"])\n",
    "fig.show()"
   ]
  },
  {
   "cell_type": "markdown",
   "metadata": {},
   "source": [
    "#### Table of Tradable Cryptocurrencies"
   ]
  },
  {
   "cell_type": "code",
   "execution_count": 46,
   "metadata": {},
   "outputs": [
    {
     "data": {},
     "metadata": {},
     "output_type": "display_data"
    },
    {
     "data": {
      "application/vnd.holoviews_exec.v0+json": "",
      "text/html": [
       "<div id='1239'>\n",
       "\n",
       "\n",
       "\n",
       "\n",
       "\n",
       "  <div class=\"bk-root\" id=\"1bcfda26-d1ef-4f29-893b-d7fc9bcc6d5b\" data-root-id=\"1239\"></div>\n",
       "</div>\n",
       "<script type=\"application/javascript\">(function(root) {\n",
       "  function embed_document(root) {\n",
       "  var docs_json = {\"983c994a-ae28-4ff8-9a08-5f48a0e95e06\":{\"roots\":{\"references\":[{\"attributes\":{},\"id\":\"1249\",\"type\":\"StringEditor\"},{\"attributes\":{\"editor\":{\"id\":\"1264\"},\"field\":\"TotalCoinsMined\",\"formatter\":{\"id\":\"1263\"},\"title\":\"TotalCoinsMined\"},\"id\":\"1265\",\"type\":\"TableColumn\"},{\"attributes\":{\"format\":\"0,0.0[00000]\"},\"id\":\"1263\",\"type\":\"NumberFormatter\"},{\"attributes\":{\"source\":{\"id\":\"1241\"}},\"id\":\"1274\",\"type\":\"CDSView\"},{\"attributes\":{},\"id\":\"1269\",\"type\":\"IntEditor\"},{\"attributes\":{\"editor\":{\"id\":\"1254\"},\"field\":\"ProofType\",\"formatter\":{\"id\":\"1253\"},\"title\":\"ProofType\"},\"id\":\"1255\",\"type\":\"TableColumn\"},{\"attributes\":{\"editor\":{\"id\":\"1249\"},\"field\":\"Algorithm\",\"formatter\":{\"id\":\"1248\"},\"title\":\"Algorithm\"},\"id\":\"1250\",\"type\":\"TableColumn\"},{\"attributes\":{},\"id\":\"1275\",\"type\":\"UnionRenderers\"},{\"attributes\":{\"columns\":[{\"id\":\"1245\"},{\"id\":\"1250\"},{\"id\":\"1255\"},{\"id\":\"1260\"},{\"id\":\"1265\"},{\"id\":\"1270\"}],\"height\":300,\"reorderable\":false,\"source\":{\"id\":\"1241\"},\"view\":{\"id\":\"1274\"},\"width\":700},\"id\":\"1273\",\"type\":\"DataTable\"},{\"attributes\":{},\"id\":\"1253\",\"type\":\"StringFormatter\"},{\"attributes\":{\"margin\":[5,5,5,5],\"name\":\"HSpacer01980\",\"sizing_mode\":\"stretch_width\"},\"id\":\"1277\",\"type\":\"Spacer\"},{\"attributes\":{},\"id\":\"1258\",\"type\":\"StringFormatter\"},{\"attributes\":{\"editor\":{\"id\":\"1269\"},\"field\":\"class\",\"formatter\":{\"id\":\"1268\"},\"title\":\"class\"},\"id\":\"1270\",\"type\":\"TableColumn\"},{\"attributes\":{},\"id\":\"1268\",\"type\":\"NumberFormatter\"},{\"attributes\":{},\"id\":\"1264\",\"type\":\"NumberEditor\"},{\"attributes\":{},\"id\":\"1259\",\"type\":\"StringEditor\"},{\"attributes\":{},\"id\":\"1242\",\"type\":\"Selection\"},{\"attributes\":{\"editor\":{\"id\":\"1244\"},\"field\":\"CoinName\",\"formatter\":{\"id\":\"1243\"},\"title\":\"CoinName\"},\"id\":\"1245\",\"type\":\"TableColumn\"},{\"attributes\":{},\"id\":\"1243\",\"type\":\"StringFormatter\"},{\"attributes\":{\"children\":[{\"id\":\"1240\"},{\"id\":\"1273\"},{\"id\":\"1277\"}],\"margin\":[0,0,0,0],\"name\":\"Row01975\",\"tags\":[\"embedded\"]},\"id\":\"1239\",\"type\":\"Row\"},{\"attributes\":{},\"id\":\"1248\",\"type\":\"StringFormatter\"},{\"attributes\":{\"editor\":{\"id\":\"1259\"},\"field\":\"TotalCoinSupply\",\"formatter\":{\"id\":\"1258\"},\"title\":\"TotalCoinSupply\"},\"id\":\"1260\",\"type\":\"TableColumn\"},{\"attributes\":{\"margin\":[5,5,5,5],\"name\":\"HSpacer01979\",\"sizing_mode\":\"stretch_width\"},\"id\":\"1240\",\"type\":\"Spacer\"},{\"attributes\":{\"data\":{\"Algorithm\":[\"Scrypt\",\"Scrypt\",\"X13\",\"SHA-256\",\"Ethash\",\"Scrypt\",\"X11\",\"CryptoNight-V7\",\"Ethash\",\"Equihash\",\"SHA-512\",\"Multiple\",\"SHA-256\",\"SHA-256\",\"Scrypt\",\"X15\",\"X11\",\"Scrypt\",\"Scrypt\",\"Scrypt\",\"Multiple\",\"Scrypt\",\"SHA-256\",\"Scrypt\",\"Scrypt\",\"Scrypt\",\"Quark\",\"Groestl\",\"Scrypt\",\"Scrypt\",\"Scrypt\",\"Scrypt\",\"Scrypt\",\"X11\",\"Scrypt\",\"Groestl\",\"Multiple\",\"SHA-256\",\"Scrypt\",\"Scrypt\",\"Scrypt\",\"Scrypt\",\"PoS\",\"Scrypt\",\"Scrypt\",\"NeoScrypt\",\"Scrypt\",\"Scrypt\",\"Scrypt\",\"Scrypt\",\"X11\",\"Scrypt\",\"X11\",\"SHA-256\",\"Scrypt\",\"Scrypt\",\"Scrypt\",\"SHA3\",\"Scrypt\",\"HybridScryptHash256\",\"Scrypt\",\"Scrypt\",\"SHA-256\",\"Scrypt\",\"X13\",\"Scrypt\",\"SHA-256\",\"Scrypt\",\"X13\",\"NeoScrypt\",\"Scrypt\",\"Scrypt\",\"Scrypt\",\"Scrypt\",\"Scrypt\",\"Scrypt\",\"X11\",\"X11\",\"SHA-256\",\"Multiple\",\"SHA-256\",\"PHI1612\",\"X11\",\"SHA-256\",\"SHA-256\",\"SHA-256\",\"X11\",\"Scrypt\",\"Scrypt\",\"Scrypt\",\"Scrypt\",\"Lyra2REv2\",\"Scrypt\",\"X11\",\"Multiple\",\"SHA-256\",\"X13\",\"Scrypt\",\"CryptoNight\",\"CryptoNight\",\"Shabal256\",\"Counterparty\",\"Scrypt\",\"SHA-256\",\"Groestl\",\"Scrypt\",\"Scrypt\",\"Scrypt\",\"X13\",\"Scrypt\",\"Scrypt\",\"Scrypt\",\"Scrypt\",\"X13\",\"Scrypt\",\"Stanford Folding\",\"X11\",\"Multiple\",\"QuBit\",\"Scrypt\",\"Scrypt\",\"Scrypt\",\"M7 POW\",\"Scrypt\",\"SHA-256\",\"Scrypt\",\"X11\",\"SHA3\",\"X11\",\"Lyra2RE\",\"SHA-256\",\"QUAIT\",\"X11\",\"X11\",\"Scrypt\",\"Scrypt\",\"Scrypt\",\"Ethash\",\"X13\",\"Blake2b\",\"SHA-256\",\"X15\",\"X11\",\"SHA-256\",\"BLAKE256\",\"Scrypt\",\"1GB AES Pattern Search\",\"SHA-256\",\"X11\",\"Scrypt\",\"SHA-256\",\"SHA-256\",\"NIST5\",\"Scrypt\",\"Scrypt\",\"X11\",\"Dagger\",\"Scrypt\",\"X11GOST\",\"X11\",\"Scrypt\",\"SHA-256\",\"Scrypt\",\"PoS\",\"Scrypt\",\"X11\",\"X11\",\"SHA-256\",\"SHA-256\",\"NIST5\",\"X11\",\"Scrypt\",\"POS 3.0\",\"Scrypt\",\"Scrypt\",\"Scrypt\",\"X13\",\"X11\",\"X11\",\"Equihash\",\"X11\",\"Scrypt\",\"CryptoNight\",\"SHA-256\",\"SHA-256\",\"X11\",\"Scrypt\",\"Multiple\",\"Scrypt\",\"Scrypt\",\"Scrypt\",\"SHA-256\",\"Scrypt\",\"Scrypt\",\"SHA-256D\",\"PoS\",\"Scrypt\",\"X11\",\"Lyra2Z\",\"PoS\",\"X13\",\"X14\",\"PoS\",\"SHA-256D\",\"Ethash\",\"Equihash\",\"DPoS\",\"X11\",\"Scrypt\",\"X11\",\"X13\",\"X11\",\"PoS\",\"Scrypt\",\"Scrypt\",\"X11\",\"PoS\",\"X11\",\"SHA-256\",\"Scrypt\",\"X11\",\"Scrypt\",\"Scrypt\",\"X11\",\"CryptoNight\",\"Scrypt\",\"Scrypt\",\"Scrypt\",\"Scrypt\",\"Quark\",\"QuBit\",\"Scrypt\",\"CryptoNight\",\"Lyra2RE\",\"Scrypt\",\"SHA-256\",\"X11\",\"Scrypt\",\"X11\",\"Scrypt\",\"CryptoNight-V7\",\"Scrypt\",\"Scrypt\",\"Scrypt\",\"X13\",\"X11\",\"Equihash\",\"Scrypt\",\"Scrypt\",\"Lyra2RE\",\"Scrypt\",\"Dagger-Hashimoto\",\"X11\",\"Blake2S\",\"X11\",\"Scrypt\",\"PoS\",\"X11\",\"NIST5\",\"PoS\",\"X11\",\"Scrypt\",\"Scrypt\",\"Scrypt\",\"SHA-256\",\"X11\",\"Scrypt\",\"Scrypt\",\"SHA-256\",\"PoS\",\"Scrypt\",\"X15\",\"SHA-256\",\"Scrypt\",\"POS 3.0\",\"CryptoNight-V7\",\"536\",\"Argon2d\",\"Blake2b\",\"Cloverhash\",\"CryptoNight\",\"NIST5\",\"X11\",\"NIST5\",\"Skein\",\"Scrypt\",\"X13\",\"Scrypt\",\"X11\",\"X11\",\"Scrypt\",\"CryptoNight\",\"X13\",\"Time Travel\",\"Scrypt\",\"Keccak\",\"SkunkHash v2 Raptor\",\"X11\",\"Skein\",\"SHA-256\",\"X11\",\"Scrypt\",\"VeChainThor Authority\",\"Scrypt\",\"PoS\",\"Scrypt\",\"Scrypt\",\"Scrypt\",\"Scrypt\",\"Scrypt\",\"Scrypt\",\"Scrypt\",\"CryptoNight\",\"SHA-512\",\"Ouroboros\",\"X11\",\"Equihash\",\"NeoScrypt\",\"X11\",\"Scrypt\",\"NeoScrypt\",\"Lyra2REv2\",\"Equihash\",\"Scrypt\",\"SHA-256\",\"NIST5\",\"PHI1612\",\"Dagger\",\"Scrypt\",\"Quark\",\"Scrypt\",\"POS 2.0\",\"Scrypt\",\"SHA-256\",\"X11\",\"NeoScrypt\",\"Ethash\",\"NeoScrypt\",\"X11\",\"DPoS\",\"NIST5\",\"X13\",\"Multiple\",\"Scrypt\",\"CryptoNight\",\"CryptoNight\",\"Ethash\",\"NIST5\",\"Quark\",\"X11\",\"CryptoNight-V7\",\"Scrypt\",\"Scrypt\",\"Scrypt\",\"X11\",\"BLAKE256\",\"X11\",\"NeoScrypt\",\"Quark\",\"NeoScrypt\",\"Scrypt\",\"Scrypt\",\"Scrypt\",\"X11\",\"X11\",\"SHA-256\",\"C11\",\"POS 3.0\",\"Ethash\",\"Scrypt\",\"CryptoNight\",\"SkunkHash\",\"Scrypt\",\"CryptoNight\",\"Scrypt\",\"Dagger\",\"Lyra2REv2\",\"X13\",\"Proof-of-BibleHash\",\"SHA-256 + Hive\",\"Scrypt\",\"Scrypt\",\"X11\",\"C11\",\"Proof-of-Authority\",\"X11\",\"XEVAN\",\"Scrypt\",\"VBFT\",\"Ethash\",\"CryptoNight\",\"Scrypt\",\"IMesh\",\"NIST5\",\"Scrypt\",\"Scrypt\",\"Equihash\",\"Scrypt\",\"Lyra2Z\",\"Green Protocol\",\"PoS\",\"Scrypt\",\"Semux BFT consensus\",\"X11\",\"Quark\",\"PoS\",\"CryptoNight\",\"X16R\",\"Scrypt\",\"NIST5\",\"Lyra2RE\",\"XEVAN\",\"Tribus\",\"Scrypt\",\"Lyra2Z\",\"CryptoNight\",\"CryptoNight Heavy\",\"CryptoNight\",\"Scrypt\",\"Scrypt\",\"Jump Consistent Hash\",\"SHA-256D\",\"CryptoNight\",\"Scrypt\",\"X15\",\"Scrypt\",\"Quark\",\"SHA-256\",\"DPoS\",\"X16R\",\"HMQ1725\",\"X11\",\"X16R\",\"Quark\",\"Quark\",\"Scrypt\",\"Lyra2REv2\",\"Quark\",\"Scrypt\",\"Scrypt\",\"CryptoNight-V7\",\"Cryptonight-GPU\",\"XEVAN\",\"CryptoNight Heavy\",\"X11\",\"X11\",\"Scrypt\",\"PoS\",\"SHA-256\",\"Keccak\",\"X11\",\"X11\",\"Scrypt\",\"SHA-512\",\"X16R\",\"ECC 256K1\",\"Equihash\",\"XEVAN\",\"Lyra2Z\",\"SHA-256\",\"XEVAN\",\"X11\",\"CryptoNight\",\"Quark\",\"Blake\",\"Blake\",\"Equihash\",\"Exosis\",\"Scrypt\",\"Scrypt\",\"Equihash\",\"Quark\",\"Equihash\",\"Quark\",\"Scrypt\",\"QuBit\",\"X11\",\"Scrypt\",\"XEVAN\",\"SHA-256D\",\"X11\",\"SHA-256\",\"X13\",\"SHA-256\",\"X11\",\"DPoS\",\"Scrypt\",\"Scrypt\",\"X11\",\"NeoScrypt\",\"Scrypt\",\"Blake\",\"Scrypt\",\"SHA-256\",\"Scrypt\",\"X11\",\"Scrypt\",\"Scrypt\",\"SHA-256\",\"X11\",\"SHA-256\",\"Scrypt\",\"Scrypt\",\"Scrypt\",\"Groestl\",\"X11\",\"Scrypt\",\"PoS\",\"Scrypt\",\"Scrypt\",\"X11\",\"SHA-256\",\"DPoS\",\"Scrypt\",\"Scrypt\",\"NeoScrypt\",\"SHA3-256\",\"Multiple\",\"X13\",\"Equihash+Scrypt\",\"DPoS\",\"Ethash\",\"DPoS\",\"SHA-256\",\"Leased POS\",\"PoS\",\"TRC10\",\"PoS\",\"SHA-256\",\"Scrypt\",\"CryptoNight\",\"Equihash\",\"Scrypt\"],\"CoinName\":[\"42 Coin\",\"404Coin\",\"EliteCoin\",\"Bitcoin\",\"Ethereum\",\"Litecoin\",\"Dash\",\"Monero\",\"Ethereum Classic\",\"ZCash\",\"Bitshares\",\"DigiByte\",\"BitcoinDark\",\"PayCoin\",\"ProsperCoin\",\"KoboCoin\",\"Spreadcoin\",\"Argentum\",\"Aurora Coin\",\"BlueCoin\",\"MyriadCoin\",\"MoonCoin\",\"ZetaCoin\",\"SexCoin\",\"Quatloo\",\"EnergyCoin\",\"QuarkCoin\",\"Riecoin\",\"Digitalcoin \",\"BitBar\",\"Catcoin\",\"CryptoBullion\",\"CannaCoin\",\"CryptCoin\",\"CasinoCoin\",\"Diamond\",\"Verge\",\"DevCoin\",\"EarthCoin\",\"E-Gulden\",\"Einsteinium\",\"Emerald\",\"Exclusive Coin\",\"FlutterCoin\",\"Franko\",\"FeatherCoin\",\"GrandCoin\",\"GlobalCoin\",\"GoldCoin\",\"HoboNickels\",\"HyperStake\",\"Infinite Coin\",\"IOCoin\",\"IXcoin\",\"KrugerCoin\",\"LuckyCoin\",\"Litebar \",\"MaxCoin\",\"MegaCoin\",\"MediterraneanCoin\",\"MintCoin\",\"MinCoin\",\"MazaCoin\",\"Nautilus Coin\",\"NavCoin\",\"NobleCoin\",\"Namecoin\",\"NyanCoin\",\"OpalCoin\",\"Orbitcoin\",\"PotCoin\",\"PhoenixCoin\",\"Reddcoin\",\"RonPaulCoin\",\"StableCoin\",\"SmartCoin\",\"SuperCoin\",\"SyncCoin\",\"SysCoin\",\"TeslaCoin\",\"TigerCoin\",\"TittieCoin\",\"TorCoin\",\"TerraCoin\",\"UnbreakableCoin\",\"Unobtanium\",\"UroCoin\",\"UnitaryStatus Dollar\",\"UltraCoin\",\"ViaCoin\",\"VeriCoin\",\"Vertcoin\",\"WorldCoin\",\"X11 Coin\",\"Crypti\",\"JouleCoin\",\"StealthCoin\",\"ZCC Coin\",\"ByteCoin\",\"DigitalNote \",\"BurstCoin\",\"StorjCoin\",\"MonaCoin\",\"Neutron\",\"FairCoin\",\"Gulden\",\"RubyCoin\",\"PesetaCoin\",\"Kore\",\"Wild Beast Coin\",\"Dnotes\",\"Flo\",\"8BIT Coin\",\"Sativa Coin\",\"ArtByte\",\"Folding Coin\",\"Ucoin\",\"Unitus\",\"CypherPunkCoin\",\"OmniCron\",\"Vtorrent\",\"GreenCoin\",\"Cryptonite\",\"MasterCoin\",\"SoonCoin\",\"1Credit\",\"IslaCoin\",\"Nexus\",\"MarsCoin \",\"Crypto\",\"Anarchists Prime\",\"Droidz\",\"BowsCoin\",\"Squall Coin\",\"Song Coin\",\"BitZeny\",\"Diggits\",\"Expanse\",\"Paycon\",\"Siacoin\",\"Emercoin\",\"EverGreenCoin\",\"MindCoin\",\"I0coin\",\"Decred\",\"Revolution VR\",\"HOdlcoin\",\"EDRCoin\",\"Hitcoin\",\"Gamecredits\",\"DubaiCoin\",\"CarpeDiemCoin\",\"PWR Coin\",\"BillaryCoin\",\"GPU Coin\",\"Adzcoin\",\"SoilCoin\",\"YoCoin\",\"SibCoin\",\"EuropeCoin\",\"ZeitCoin\",\"SwingCoin\",\"SafeExchangeCoin\",\"Nebuchadnezzar\",\"Francs\",\"BolivarCoin\",\"Ratecoin\",\"Revenu\",\"Clockcoin\",\"VIP Tokens\",\"BitSend\",\"Omni\",\"Let it Ride\",\"PutinCoin\",\"iBankCoin\",\"Frankywillcoin\",\"MudraCoin\",\"PizzaCoin\",\"Lutetium Coin\",\"Komodo\",\"GoldBlocks\",\"CarterCoin\",\"Karbo\",\"BitTokens\",\"ZayedCoin\",\"MustangCoin\",\"ZoneCoin\",\"Circuits of Value\",\"RootCoin\",\"DopeCoin\",\"BitCurrency\",\"DollarCoin\",\"Swiscoin\",\"Shilling\",\"BuzzCoin\",\"Opair\",\"PesoBit\",\"Halloween Coin\",\"ZCoin\",\"CoffeeCoin\",\"RoyalCoin\",\"GanjaCoin V2\",\"TeamUP\",\"LanaCoin\",\"Elementrem\",\"ZClassic\",\"ARK\",\"InsaneCoin\",\"KiloCoin\",\"ArtexCoin\",\"EmberCoin\",\"XenixCoin\",\"FreeCoin\",\"PLNCoin\",\"AquariusCoin\",\"Kurrent\",\"Creatio\",\"Eternity\",\"Eurocoin\",\"BitcoinFast\",\"Stakenet\",\"BitConnect Coin\",\"MoneyCoin\",\"Enigma\",\"Cannabis Industry Coin\",\"Russiacoin\",\"PandaCoin\",\"GameUnits\",\"GAKHcoin\",\"Allsafe\",\"LiteCreed\",\"OsmiumCoin\",\"Bikercoins\",\"HexxCoin\",\"Klingon Empire Darsek\",\"Internet of People\",\"KushCoin\",\"Printerium\",\"PacCoin\",\"Impeach\",\"Citadel\",\"Zilbercoin\",\"FirstCoin\",\"BeaverCoin\",\"FindCoin\",\"VaultCoin\",\"Zero\",\"OpenChat\",\"Canada eCoin\",\"Zoin\",\"RenosCoin\",\"DubaiCoin\",\"VirtacoinPlus\",\"TajCoin\",\"Impact\",\"EB3coin\",\"Atmos\",\"HappyCoin\",\"Coinonat\",\"MacronCoin\",\"Condensate\",\"Independent Money System\",\"ArgusCoin\",\"LomoCoin\",\"ProCurrency\",\"GoldReserve\",\"BenjiRolls\",\"GrowthCoin\",\"ILCoin\",\"Phreak\",\"Degas Coin\",\"HTML5 Coin\",\"Ultimate Secure Cash\",\"EquiTrader\",\"QTUM\",\"Quantum Resistant Ledger\",\"Espers\",\"Dynamic\",\"Nano\",\"ChanCoin\",\"Dinastycoin\",\"Denarius\",\"DigitalPrice\",\"Virta Unique Coin\",\"Bitcoin Planet\",\"Unify\",\"BritCoin\",\"SocialCoin\",\"ArcticCoin\",\"DAS\",\"Linda\",\"LeviarCoin\",\"DeepOnion\",\"Bitcore\",\"gCn Coin\",\"SmartCash\",\"Signatum\",\"Onix\",\"Cream\",\"Bitcoin Cash\",\"Monoeci\",\"Draftcoin\",\"Vechain\",\"Sojourn Coin\",\"Stakecoin\",\"NewYorkCoin\",\"FrazCoin\",\"Kronecoin\",\"AdCoin\",\"Linx\",\"CoinonatX\",\"Ethereum Dark\",\"Sumokoin\",\"Obsidian\",\"Cardano\",\"Regalcoin\",\"BitcoinZ\",\"TrezarCoin\",\"Elements\",\"TerraNovaCoin\",\"VIVO Coin\",\"Rupee\",\"Bitcoin Gold\",\"WomenCoin\",\"Theresa May Coin\",\"NamoCoin\",\"LUXCoin\",\"Pirl\",\"Xios\",\"Bitcloud 2.0\",\"eBoost\",\"KekCoin\",\"BlackholeCoin\",\"Infinity Economics\",\"Pura\",\"Innova\",\"Ellaism\",\"GoByte\",\"Magnet\",\"Lamden Tau\",\"Electra\",\"Bitcoin Diamond\",\"SHIELD\",\"Cash & Back Coin\",\"UltraNote\",\"BitCoal\",\"DaxxCoin\",\"Bulwark\",\"Kalkulus\",\"AC3\",\"Lethean\",\"GermanCoin\",\"LiteCoin Ultra\",\"PopularCoin\",\"PhantomX\",\"Photon\",\"Sucre\",\"SparksPay\",\"Digiwage\",\"GunCoin\",\"IrishCoin\",\"Trollcoin\",\"Litecoin Plus\",\"Monkey Project\",\"Pioneer Coin\",\"UnitedBitcoin\",\"Interzone\",\"TokenPay\",\"1717 Masonic Commemorative Token\",\"My Big Coin\",\"TurtleCoin\",\"MUNcoin\",\"Unified Society USDEX\",\"Niobio Cash\",\"ShareChain\",\"Travelflex\",\"KREDS\",\"Tokyo Coin\",\"BiblePay\",\"LitecoinCash\",\"BitFlip\",\"LottoCoin\",\"Crypto Improvement Fund\",\"Stipend\",\"Poa Network\",\"Pushi\",\"Ellerium\",\"Velox\",\"Ontology\",\"Callisto Network\",\"BitTube\",\"Poseidon\",\"Aidos Kuneen\",\"Bitspace\",\"Briacoin\",\"Ignition\",\"Bitrolium\",\"MedicCoin\",\"Alpenschillling\",\"Bitcoin Green\",\"Deviant Coin\",\"Abjcoin\",\"Semux\",\"FuturoCoin\",\"Carebit\",\"Zealium\",\"Monero Classic\",\"Proton\",\"iDealCash\",\"Jumpcoin\",\"Infinex\",\"Bitcoin Incognito\",\"KEYCO\",\"HollyWoodCoin\",\"GINcoin\",\"PlatinCoin\",\"Loki\",\"Newton Coin\",\"Swisscoin\",\"Xt3ch\",\"MassGrid\",\"TheVig\",\"PluraCoin\",\"EmaratCoin\",\"Dekado\",\"Lynx\",\"Poseidon Quark\",\"BitcoinWSpectrum\",\"Muse\",\"Motion\",\"PlusOneCoin\",\"Axe\",\"Trivechain\",\"Dystem\",\"Giant\",\"Peony Coin\",\"Absolute Coin\",\"Vitae\",\"HexCoin\",\"TPCash\",\"Webchain\",\"Ryo\",\"Urals Coin\",\"Qwertycoin\",\"ARENON\",\"EUNO\",\"MMOCoin\",\"Ketan\",\"Project Pai\",\"XDNA\",\"PAXEX\",\"Azart\",\"ThunderStake\",\"Kcash\",\"Xchange\",\"Acute Angle Cloud\",\"CrypticCoin\",\"Bettex coin\",\"Actinium\",\"Bitcoin SV\",\"BitMoney\",\"Junson Ming Chan Coin\",\"FREDEnergy\",\"HerbCoin\",\"Universal Molecule\",\"Lithium\",\"PirateCash\",\"Exosis\",\"Block-Logic\",\"Oduwa\",\"Beam\",\"Galilel\",\"Bithereum\",\"Crypto Sports\",\"Credit\",\"SLICE\",\"Dash Platinum\",\"Nasdacoin\",\"Beetle Coin\",\"Titan Coin\",\"Award\",\"BLAST\",\"Bitcoin Rhodium\",\"GlobalToken\",\"Insane Coin\",\"ALAX\",\"LiteDoge\",\"SolarCoin\",\"TruckCoin\",\"UFO Coin\",\"OrangeCoin\",\"BlakeCoin\",\"BitstarCoin\",\"NeosCoin\",\"HyperCoin\",\"PinkCoin\",\"Crypto Escudo\",\"AudioCoin\",\"IncaKoin\",\"Piggy Coin\",\"Crown Coin\",\"Genstake\",\"SmileyCoin\",\"XiaoMiCoin\",\"Groestlcoin\",\"CapriCoin\",\" ClubCoin\",\"Radium\",\"Bata\",\"Pakcoin\",\"Creditbit \",\"OKCash\",\"Lisk\",\"HiCoin\",\"WhiteCoin\",\"FriendshipCoin\",\"Fiii\",\"JoinCoin\",\"Triangles Coin\",\"Vollar\",\"EOS\",\"Reality Clash\",\"Oxycoin\",\"TigerCash\",\"Waves\",\"Particl\",\"BitTorrent\",\"Nxt\",\"ZEPHYR\",\"Gapcoin\",\"Beldex\",\"Horizen\",\"BitcoinPlus\"],\"ProofType\":[\"PoW/PoS\",\"PoW/PoS\",\"PoW/PoS\",\"PoW\",\"PoW\",\"PoW\",\"PoW/PoS\",\"PoW\",\"PoW\",\"PoW\",\"PoS\",\"PoW\",\"PoW/PoS\",\"PoS\",\"PoW\",\"PoW/PoS\",\"PoW\",\"PoW\",\"PoW/PoS\",\"PoW/PoS\",\"PoW\",\"PoW\",\"PoW\",\"PoW\",\"PoW\",\"PoW/PoS\",\"PoW\",\"PoW\",\"PoW\",\"PoW/PoS\",\"PoW\",\"PoW/PoS\",\"PoW\",\"PoW\",\"PoC\",\"PoW/PoS\",\"PoW\",\"PoW\",\"PoW\",\"PoW\",\"PoW\",\"PoW\",\"PoS\",\"PoS/PoW/PoT\",\"PoW\",\"PoW\",\"PoW\",\"PoW\",\"PoW\",\"PoW/PoS\",\"PoS\",\"PoW\",\"PoW/PoS\",\"PoW\",\"PoW\",\"PoW\",\"PoW\",\"PoW/PoS\",\"PoW\",\"PoW\",\"PoS\",\"PoW\",\"PoW/PoS\",\"PoS\",\"PoW/PoS\",\"PoW\",\"PoW\",\"PoW\",\"PoW/PoS\",\"PoW/PoS\",\"PoW/PoS\",\"PoW/PoS\",\"PoW/PoS\",\"PoW\",\"PoW\",\"PoW\",\"PoS\",\"PoW/PoS\",\"PoW\",\"PoS\",\"PoW\",\"PoS\",\"PoW/PoS\",\"PoW\",\"PoW\",\"PoW\",\"PoW\",\"PoW/PoS\",\"PoW/PoS\",\"PoW\",\"PoST\",\"PoW\",\"PoW\",\"PoW/PoS\",\"PoS\",\"PoW\",\"PoW/PoS\",\"PoW/PoS\",\"PoW\",\"PoW\",\"PoC\",\"PoS\",\"PoW\",\"PoW/PoS\",\"PoW/PoS\",\"PoW\",\"PoS\",\"PoW\",\"PoW/PoS\",\"PoW\",\"PoS\",\"PoW\",\"PoW/PoS\",\"PoW/PoS\",\"PoW\",\"PoW\",\"PoS\",\"PoW\",\"PoW\",\"PoW\",\"PoW/PoS\",\"PoW\",\"PoW\",\"PoW\",\"PoW\",\"PoW\",\"PoW/PoS\",\"PoW/nPoS\",\"PoW\",\"PoW\",\"PoW\",\"PoW/PoS\",\"PoW\",\"PoS/PoW\",\"PoW\",\"PoW\",\"PoS\",\"PoW\",\"PoW/PoS\",\"PoW\",\"PoW/PoS\",\"PoW/PoS\",\"PoW\",\"PoW\",\"PoW/PoS\",\"PoW\",\"PoW\",\"PoW/PoS\",\"PoW/PoS\",\"PoW\",\"PoW/PoS\",\"PoW\",\"PoW/PoS\",\"PoW/PoS\",\"PoS\",\"PoW\",\"PoW\",\"PoW\",\"PoW\",\"PoW/PoS\",\"PoS\",\"PoW/PoS\",\"PoC\",\"PoS\",\"PoW\",\"PoW\",\"PoW/PoS\",\"PoW/PoS\",\"PoW/PoS\",\"PoW/PoS\",\"PoW/PoS\",\"PoW\",\"PoS\",\"PoW/PoS\",\"PoW/PoS\",\"PoW/PoS\",\"PoS\",\"PoW\",\"PoS\",\"dPoW/PoW\",\"PoW/PoS\",\"PoW/PoS\",\"PoW\",\"PoW/PoS\",\"PoW\",\"PoW/PoS\",\"PoW/PoS\",\"PoW\",\"PoW/PoS\",\"PoW\",\"PoS\",\"PoW\",\"PoW/PoW\",\"PoW\",\"PoW/PoS\",\"PoS\",\"PoW/PoS\",\"PoW/PoS\",\"PoW\",\"PoS\",\"PoS\",\"PoW/PoS\",\"PoS\",\"PoW/PoS\",\"PoW\",\"PoW\",\"DPoS\",\"PoW/PoS\",\"PoW\",\"PoW\",\"PoW/PoS\",\"PoW/PoS\",\"PoS\",\"PoW/PoS\",\"PoW/PoS\",\"PoW\",\"PoS\",\"PoW/PoS\",\"PoW/PoS\",\"PoW/PoS\",\"TPoS\",\"PoW/PoS\",\"PoW/PoS\",\"PoW/PoS\",\"PoW\",\"PoW/PoS\",\"PoS\",\"PoW/PoS\",\"PoW/PoS\",\"PoS\",\"PoW/PoS\",\"PoW\",\"PoW\",\"PoW\",\"PoW/PoS\",\"PoW/PoS\",\"PoW/PoS\",\"PoW/PoS\",\"PoW\",\"PoW/PoS\",\"PoW\",\"PoS\",\"PoW/PoS \",\"PoW\",\"PoS\",\"PoW\",\"PoW\",\"PoW/PoS\",\"PoW\",\"PoW\",\"PoS\",\"PoW\",\"PoW/PoS\",\"PoW/PoS\",\"PoW/PoS\",\"PoW\",\"PoS\",\"PoW/PoS\",\"PoW\",\"PoS\",\"PoW/PoS\",\"PoW/PoS\",\"PoW/PoS\",\"PoW/PoS\",\"PoS\",\"PoW/PoS\",\"PoW\",\"PoS\",\"PoW\",\"PoS\",\"PoW/PoS\",\"PoW/PoS\",\"PoS\",\"PoW\",\"PoS\",\"PoW\",\"PoW/PoS\",\"PoW\",\"PoW\",\"PoW\",\"PoW\",\"PoW/PoS\",\"PoW\",\"PoW/PoS\",\"PoW/PoS\",\"PoW\",\"PoW/PoS\",\"PoW\",\"PoW\",\"PoW\",\"PoW/PoS\",\"PoW\",\"PoW/PoS\",\"PoW\",\"PoW\",\"PoW\",\"PoS\",\"PoW\",\"PoW/PoS\",\"PoW\",\"PoW/PoS\",\"PoS\",\"Proof of Authority\",\"PoW\",\"PoS\",\"PoW\",\"PoW\",\"PoW\",\"PoW\",\"PoW\",\"PoW/PoS\",\"PoW/PoS\",\"PoW\",\"PoS\",\"PoS\",\"PoW/PoS\",\"PoW\",\"PoW/PoS\",\"PoW\",\"PoW/PoS\",\"PoW\",\"PoS\",\"PoW\",\"PoW/PoS\",\"PoW/PoS\",\"PoW/PoS\",\"PoW/PoS\",\"PoW\",\"PoW/PoS\",\"PoW/PoS\",\"PoW\",\"PoS\",\"PoW/PoS\",\"PoS\",\"PoW\",\"PoW\",\"PoW\",\"PoW\",\"PoW/PoS\",\"DPoS\",\"PoW/PoS\",\"PoW/PoS\",\"PoW\",\"PoW/PoS\",\"PoW\",\"PoW\",\"PoW\",\"PoS\",\"PoS\",\"PoW\",\"PoW\",\"PoW/PoS\",\"PoW/PoS\",\"PoW\",\"PoW/PoS\",\"PoW\",\"PoW\",\"PoW\",\"PoS\",\"PoW\",\"PoW\",\"PoW/PoS\",\"PoW/PoS\",\"PoS\",\"PoW\",\"PoW\",\"PoW\",\"PoS\",\"PoS\",\"PoW and PoS\",\"PoW\",\"PoW\",\"PoW/PoS\",\"PoW\",\"PoW\",\"PoW\",\"PoW\",\"PoS\",\"POBh\",\"PoW + Hive\",\"PoW\",\"PoW\",\"PoW\",\"PoW/PoS\",\"PoA\",\"PoW/PoS\",\"PoW/PoS\",\"PoS\",\"PoS\",\"PoW\",\"PoW\",\"PoW\",\"PoW\",\"PoW/PoS\",\"PoW/PoS\",\"PoW/PoS\",\"PoW\",\"PoS\",\"PoW\",\"PoS\",\"PoS\",\"PoW/PoS\",\"DPoS\",\"PoW\",\"PoW/PoS\",\"PoS\",\"PoW\",\"PoS\",\"PoW/PoS\",\"PoW\",\"PoW\",\"PoS/PoW\",\"PoW\",\"PoS\",\"PoW\",\"PoW\",\"PoW\",\"PoW\",\"PoW/PoS\",\"PoS\",\"PoW\",\"PoW/PoS\",\"PoW\",\"PoW/PoS\",\"PoS\",\"HPoW\",\"PoS\",\"PoS\",\"PoS\",\"PoW\",\"PoW\",\"PoW\",\"PoW/PoS\",\"PoS\",\"PoW/PoS\",\"PoS\",\"PoW/PoS\",\"PoS\",\"PoW\",\"PoW/PoS\",\"PoW\",\"PoW\",\"PoW\",\"PoW\",\"PoS\",\"PoW/PoS\",\"PoS\",\"PoS\",\"PoW\",\"PoW/PoS\",\"PoS\",\"PoW\",\"PoW/PoS\",\"Zero-Knowledge Proof\",\"PoW\",\"DPOS\",\"PoW\",\"PoS\",\"PoW\",\"PoW\",\"Pos\",\"PoS\",\"PoW\",\"PoW/PoS\",\"PoW\",\"PoW\",\"PoS\",\"PoW\",\"PoW\",\"PoW/PoS\",\"PoW\",\"PoW/PoS\",\"PoW\",\"PoS\",\"PoW/PoS\",\"PoW\",\"PoS\",\"PoW/PoS\",\"PoW/PoS\",\"PoW/PoS\",\"PoW/PoS\",\"PoW\",\"PoW\",\"PoW\",\"PoW/PoS\",\"DPoS\",\"PoW/PoS\",\"PoW\",\"PoW/PoS\",\"PoW\",\"PoW/PoS\",\"PoW\",\"PoW/PoS\",\"PoS\",\"PoW/PoS\",\"PoW/PoS\",\"PoW\",\"PoW/PoS\",\"PoW/PoS\",\"PoW/PoS\",\"PoW\",\"PoW/PoS\",\"PoW\",\"PoW/PoS\",\"PoW\",\"PoW/PoS\",\"PoW/PoS\",\"PoS\",\"PoW\",\"PoW\",\"Proof of Trust\",\"PoW/PoS\",\"DPoS\",\"PoS\",\"PoW/PoS\",\"PoW/PoS\",\"DPoC\",\"PoW\",\"PoW/PoS\",\"PoW\",\"DPoS\",\"PoW\",\"DPoS\",\"PoS\",\"LPoS\",\"PoS\",\"DPoS\",\"PoS/LPoS\",\"DPoS\",\"PoW/PoS\",\"PoW\",\"PoW\",\"PoS\"],\"TotalCoinSupply\":[\"42\",\"532000000\",\"314159265359\",\"21000000\",\"0\",\"84000000\",\"22000000\",\"0\",\"210000000\",\"21000000\",\"3600570502\",\"21000000000\",\"22000000\",\"12500000\",\"21000000\",\"350000000\",\"20000000\",\"64000000\",\"16768584\",\"0\",\"2000000000\",\"384000000000\",\"169795588\",\"250000000\",\"100000000\",\"0\",\"247000000\",\"84000000\",\"48166000\",\"500000\",\"21000000 \",\"1000000\",\"13140000\",\"18000000\",\"40000000000\",\"4380000\",\"16555000000\",\"21000000000\",\"13500000000\",\"21000000 \",\"299792458\",\"32000000\",\"0\",\"0\",\"11235813\",\"336000000\",\"1420609614\",\"70000000\",\"72245700\",\"120000000\",\"0\",\"90600000000\",\"22000000\",\"21000000\",\"265420800\",\"20000000\",\"1350000\",\"100000000\",\"42000000\",\"200000000\",\"0\",\"10000000\",\"2419200000\",\"16180000\",\"0\",\"15000000000\",\"21000000\",\"337000000\",\"0\",\"3770000\",\"420000000\",\"98000000\",\"0\",\"21000000\",\"250000000\",\"51200000\",\"0\",\"1000\",\"888000000\",\"100000000\",\"47011968\",\"2300000000\",\"10000000\",\"42000000\",\"80000000\",\"250000\",\"0\",\"1600000000\",\"100000000\",\"23000000\",\"0\",\"84000000\",\"265420800\",\"5500000\",\"0\",\"45000000\",\"0\",\"1000000000\",\"184467440735\",\"10000000000\",\"2158812800\",\"500000000\",\"105120000\",\"68000000\",\"0\",\"1680000000\",\"0\",\"166386000\",\"12000000\",\"2628000\",\"500000000\",\"160000000\",\"0\",\"10000000\",\"1000000000\",\"1000000000\",\"20000000\",\"0\",\"0\",\"3371337\",\"20000000\",\"10000000000\",\"1840000000\",\"619478\",\"21000000\",\"92000000000\",\"0\",\"78000000\",\"33000000\",\"65789100\",\"53760000\",\"5060000\",\"21000000\",\"0\",\"210240000\",\"250000000\",\"100000000\",\"16906397\",\"50000000\",\"0\",\"1000000000\",\"26298000\",\"16000000\",\"21000000\",\"21000000\",\"210000000\",\"81962100\",\"22000000\",\"26550000000\",\"84000000\",\"10500000\",\"21626280000 \",\"0\",\"42000000\",\"221052632\",\"84000000\",\"30000000\",\"168351300\",\"24000000\",\"384000000\",\" 99000000000\",\"40000000\",\"2147483647\",\"20000000\",\"20000000\",\"25000000\",\"75000000\",\"222725000\",\"525000000\",\"90000000\",\"139000000\",\"616448\",\"33500000\",\"2000000000\",\"44333333\",\"100000000\",\"200000000\",\"25000000\",\"657000000\",\"200000000\",\"50000000\",\"90000000\",\"10000000\",\"21000000\",\"9736000\",\"3000000\",\"21000000\",\"1200000000\",\"0\",\"200000000\",\"0\",\"10638298\",\"3100000000\",\"30000000\",\"20000000000\",\"74000000\",\"0\",\"1500000000\",\"21400000\",\"39999898\",\"2500124\",\"100000000\",\"301000000\",\"7506000000\",\"26205539\",\"21000000\",\"125000000\",\"30000000\",\"10000000000\",\"500000000\",\"850000000\",\"3853326.77707314\",\"50000000\",\"38540000 \",\"42000000\",\"228000000\",\"20000000\",\"60000000\",\"20000000\",\"33000000\",\"76500000\",\"28000000\",\"650659833\",\"5000000\",\"21000000\",\"144000000\",\"32514916898\",\"13000000\",\"3315789\",\"15000000\",\"78835200\",\"2714286\",\"25000000\",\"9999999\",\"500000000\",\"21000000\",\"9354000\",\"20000000\",\"100000000000\",\"21933333\",\"185000000\",\"55000000\",\"110000000\",\"3360000\",\"14524851.4827\",\"1000000000\",\"17000000\",\"1000000000\",\"100000000 \",\"21000000\",\"34426423\",\"2232901\",\"100000000\",\"36900000\",\"110000000\",\"4000000000\",\"110290030\",\"100000000\",\"48252000\",\"400000000\",\"500000000\",\"21212121\",\"28600000\",\"1000000000\",\"75000000000\",\"40000000\",\"35520400\",\"2000000000\",\"2500000000\",\"30000000\",\"105000000\",\"90000000000\",\"200084200\",\"72000000\",\"100000000\",\"105000000\",\"50000000000\",\"0\",\"340282367\",\"30000000\",\"2000000000\",\"10000000\",\"100000000\",\"120000000\",\"100000000\",\"19276800\",\"30000000\",\" 75000000\",\"60000000\",\"18900000\",\"50000000000\",\"54000000\",\"18898187.6216583\",\"21000000\",\"200000000000\",\"5000000000\",\"137500000\",\"1100000000\",\"100000000\",\"21000000\",\"9507271\",\"17405891.19707116\",\"86712634466\",\"10500000000\",\"61599965\",\"0\",\"20000000\",\"84000000\",\"100000000\",\"100000000\",\"48252000\",\"4200000\",\"88888888\",\"91388946\",\"45000000000\",\"27000000\",\"21000000000\",\"400000000\",\"1800000000\",\"15733333\",\"27000000\",\"24000000\",\"21000000\",\"25000000000\",\"100000000\",\"1200000000\",\"60000000\",\"156306732.71\",\"21000000\",\"200000000\",\"100000000\",\"21000000\",\"14788275.991\",\"9000000000\",\"350000000\",\"45000000\",\"280000000\",\"31800000\",\"144000000\",\"500000000\",\"30000000000\",\"210000000\",\"660000000\",\"210000000\",\"85000000000\",\"12500000\",\"10000000000\",\"27716121\",\"20000000\",\"550000000\",\"999481516\",\"50000000000\",\"150000000\",\"4999999999\",\"50000000\",\" 90000000000\",\"19800000\",\"21000000\",\"120000000\",\"500000000\",\"64000000\",\"900000000\",\"4000000\",\"21000000\",\"23000000\",\"20166000\",\"23000000\",\"25000000\",\"1618033\",\"30000000\",\"1000000000000\",\"16600000\",\"232000000\",\"336000000\",\"10000000000\",\"100000000\",\"1100000000\",\"800000000\",\"5200000000\",\"840000000\",\"40000000\",\"18406979840\",\"500000000\",\"19340594\",\"252460800\",\"25000000\",\"60000000\",\"124000000\",\"1000000000\",\"6500000000\",\"1000000000\",\"21000000\",\"25000000\",\"50000000\",\"3000000\",\"5000000\",\"70000000\",\"500000000\",\"300000000\",\"21000000\",\"88000000\",\"30000000\",\"100000000\",\"100000000\",\"200000000\",\"80000000\",\"18400000\",\"45000000\",\"5121951220\",\"21000000\",\"26280000\",\"21000000\",\"18000000\",\"26000000\",\"10500000\",\"600000518\",\"150000000\",\"184000000000\",\"10200000000\",\"44000000\",\"168000000\",\"100000000\",\"1000000000\",\"84000000\",\"90000000\",\"92000000000\",\"650000000 \",\"100262205\",\"18081806 \",\"22075700\",\"21000000\",\"21000000\",\"82546564\",\"21000000\",\"5151000\",\"16880000000\",\"52500000\",\"100000000\",\"22105263\",\"1000000000\",\"1750000000\",\"88188888\",\"210000000\",\"184470000000\",\"55000000\",\"50000000\",\"260000000\",\"210000000\",\"2100000000\",\"366000000\",\"100000000\",\"25000000\",\"18000000000\",\"1000000000\",\"100000000\",\"1000000000\",\"7600000000\",\"50000000\",\"84000000\",\"21000000\",\"70000000000\",\"0\",\"8080000000\",\"54000000\",\"105120001.44\",\"25228800\",\"105000000\",\"21000000\",\"120000000\",\"21000000\",\"262800000\",\"19035999\",\"30886000\",\"13370000\",\"74800000000\",\"100000000\",\"19700000\",\"84000000\",\"500000000\",\"5000000000\",\"420000000\",\"64000000\",\"2100000\",\"168000000\",\"30000000\",\"1000000000\",\"35000000000\",\"98100000000\",\"0\",\"4000000000\",\"200000000\",\"7000000000\",\"54256119\",\"21000000\",\"0\",\"500000000\",\"1000000000\",\"10500000000\",\"190000000\",\"1000000000\",\"42000000\",\"15000000\",\"50000000000\",\"400000000\",\"105000000\",\"208000000\",\"160000000\",\"9000000\",\"5000000\",\"182000000\",\"16504333\",\"105000000\",\"159918400\",\"10008835635\",\"300000000\",\"60168145\",\"5000000000\",\"2800000\",\"120000\",\"2100000000\",\"0\",\"24487944\",\"0\",\"1000000000\",\"100000000\",\"8634140\",\"990000000000\",\"1000000000\",\"2000000000\",\"250000000\",\"1400222610\",\"21000000\",\"1000000\"],\"TotalCoinsMined\":{\"__ndarray__\":\"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\",\"dtype\":\"float64\",\"shape\":[533]},\"class\":{\"__ndarray__\":\"AAAAAAAAAAABAAAABQAAAAUAAAAFAAAAAAAAAAUAAAAFAAAABQAAAAAAAAAFAAAAAAAAAAAAAAAFAAAAAAAAAAUAAAAFAAAAAAAAAAAAAAAFAAAAAQAAAAUAAAAFAAAABQAAAAAAAAAFAAAABQAAAAUAAAAAAAAABQAAAAAAAAAFAAAABQAAAAAAAAAAAAAABQAAAAUAAAAFAAAABQAAAAUAAAAFAAAAAAAAAAAAAAAFAAAABQAAAAUAAAAFAAAABQAAAAAAAAAAAAAABQAAAAAAAAAFAAAABQAAAAUAAAAFAAAAAAAAAAUAAAAFAAAAAAAAAAUAAAAAAAAAAAAAAAAAAAAFAAAABQAAAAUAAAAAAAAAAAAAAAAAAAAAAAAAAAAAAAUAAAAFAAAABQAAAAAAAAAAAAAABQAAAAAAAAAFAAAAAAAAAAAAAAAFAAAABQAAAAUAAAAFAAAAAAAAAAAAAAAFAAAAAAAAAAUAAAAFAAAAAAAAAAAAAAAFAAAAAAAAAAAAAAABAAAABQAAAAUAAAAAAAAABQAAAAAAAAAAAAAABQAAAAAAAAAFAAAAAAAAAAUAAAAAAAAABQAAAAAAAAAAAAAABQAAAAUAAAAAAAAABQAAAAUAAAAFAAAAAAAAAAUAAAAFAAAABQAAAAUAAAAFAAAAAAAAAAAAAAAFAAAABQAAAAUAAAAAAAAABQAAAAAAAAAFAAAABQAAAAAAAAAFAAAAAAAAAAUAAAAAAAAAAAAAAAUAAAAFAAAAAAAAAAUAAAAFAAAAAAAAAAAAAAAFAAAAAAAAAAUAAAAAAAAAAAAAAAAAAAAFAAAABQAAAAUAAAAFAAAAAAAAAAAAAAAAAAAAAAAAAAAAAAAFAAAABQAAAAAAAAAAAAAAAAAAAAAAAAAAAAAABQAAAAAAAAAAAAAAAAAAAAAAAAAAAAAABQAAAAAAAAAFAAAAAAAAAAAAAAAFAAAAAAAAAAUAAAAAAAAAAAAAAAUAAAAAAAAABQAAAAAAAAAFAAAAAAAAAAUAAAAAAAAAAAAAAAAAAAAAAAAABQAAAAAAAAAAAAAAAAAAAAAAAAAAAAAABQAAAAUAAAABAAAAAAAAAAUAAAAFAAAAAAAAAAAAAAAAAAAAAAAAAAAAAAAFAAAAAAAAAAAAAAAAAAAAAAAAAAAAAAAAAAAAAAAAAAAAAAAFAAAAAAAAAAAAAAAAAAAAAAAAAAAAAAAAAAAABQAAAAUAAAAFAAAAAAAAAAAAAAAAAAAAAAAAAAUAAAAAAAAABQAAAAAAAAAAAAAABQAAAAAAAAAFAAAABQAAAAAAAAAFAAAABQAAAAAAAAAFAAAAAAAAAAAAAAAAAAAABQAAAAAAAAAAAAAABQAAAAAAAAAAAAAAAAAAAAAAAAAAAAAAAAAAAAAAAAAFAAAAAAAAAAUAAAAAAAAAAAAAAAAAAAAAAAAABQAAAAAAAAAFAAAAAAAAAAUAAAAFAAAABQAAAAUAAAAAAAAABQAAAAAAAAAAAAAABQAAAAAAAAAFAAAABQAAAAUAAAAAAAAABQAAAAAAAAAFAAAAAQAAAAUAAAAAAAAABQAAAAAAAAAFAAAAAAAAAAAAAAAEAAAABQAAAAAAAAAFAAAABQAAAAUAAAAFAAAABQAAAAAAAAAAAAAABQAAAAAAAAAAAAAAAAAAAAUAAAAAAAAABQAAAAAAAAAFAAAAAAAAAAUAAAAAAAAAAAAAAAAAAAAAAAAABQAAAAAAAAAAAAAABQAAAAAAAAAAAAAAAAAAAAUAAAAFAAAABQAAAAUAAAAAAAAAAQAAAAAAAAAAAAAABQAAAAAAAAAFAAAABQAAAAUAAAAAAAAAAAAAAAUAAAAFAAAAAAAAAAAAAAAFAAAAAAAAAAUAAAAFAAAABQAAAAAAAAAFAAAABQAAAAAAAAAAAAAAAAAAAAUAAAAFAAAABQAAAAAAAAAFAAAAAAAAAAEAAAAFAAAAAAAAAAUAAAAFAAAABQAAAAUAAAAAAAAAAwAAAAMAAAAFAAAABQAAAAUAAAAAAAAAAwAAAAAAAAAAAAAAAAAAAAAAAAAFAAAABQAAAAUAAAAFAAAAAAAAAAAAAAAAAAAABQAAAAAAAAAFAAAAAAAAAAAAAAAAAAAAAQAAAAUAAAAAAAAAAAAAAAUAAAAAAAAAAAAAAAUAAAAFAAAAAAAAAAUAAAAAAAAABQAAAAUAAAAFAAAABQAAAAAAAAAAAAAABQAAAAAAAAAFAAAAAAAAAAAAAAABAAAAAAAAAAAAAAAAAAAABQAAAAUAAAAFAAAAAAAAAAAAAAAAAAAAAAAAAAAAAAAAAAAABQAAAAAAAAAFAAAABQAAAAUAAAABAAAAAAAAAAAAAAAAAAAAAAAAAAUAAAAAAAAAAAAAAAUAAAAAAAAAAAAAAAUAAAADAAAABQAAAAAAAAAFAAAABQAAAAAAAAAAAAAABQAAAAAAAAAFAAAABQAAAAUAAAAFAAAABQAAAAAAAAAFAAAAAAAAAAUAAAAAAAAAAAAAAAUAAAAAAAAAAAAAAAAAAAAAAAAAAAAAAAUAAAAFAAAABQAAAAAAAAABAAAAAAAAAAUAAAAAAAAABQAAAAAAAAAFAAAAAAAAAAAAAAAAAAAAAAAAAAUAAAAAAAAAAAAAAAAAAAAFAAAAAAAAAAUAAAAAAAAABQAAAAAAAAAAAAAAAAAAAAUAAAAFAAAAAAAAAAAAAAABAAAAAAAAAAAAAAAAAAAAAwAAAAUAAAAAAAAABQAAAAEAAAAFAAAAAQAAAAAAAAADAAAAAAAAAAIAAAAAAAAAAQAAAAAAAAAFAAAABQAAAAAAAAA=\",\"dtype\":\"int32\",\"shape\":[533]}},\"selected\":{\"id\":\"1242\"},\"selection_policy\":{\"id\":\"1275\"}},\"id\":\"1241\",\"type\":\"ColumnDataSource\"},{\"attributes\":{},\"id\":\"1244\",\"type\":\"StringEditor\"},{\"attributes\":{},\"id\":\"1254\",\"type\":\"StringEditor\"}],\"root_ids\":[\"1239\"]},\"title\":\"Bokeh Application\",\"version\":\"2.0.2\"}};\n",
       "  var render_items = [{\"docid\":\"983c994a-ae28-4ff8-9a08-5f48a0e95e06\",\"root_ids\":[\"1239\"],\"roots\":{\"1239\":\"1bcfda26-d1ef-4f29-893b-d7fc9bcc6d5b\"}}];\n",
       "  root.Bokeh.embed.embed_items_notebook(docs_json, render_items);\n",
       "  }\n",
       "if (root.Bokeh !== undefined) {\n",
       "    embed_document(root);\n",
       "  } else {\n",
       "    var attempts = 0;\n",
       "    var timer = setInterval(function(root) {\n",
       "      if (root.Bokeh !== undefined) {\n",
       "        clearInterval(timer);\n",
       "        embed_document(root);\n",
       "      } else if (document.readyState == \"complete\") {\n",
       "        attempts++;\n",
       "        if (attempts > 100) {\n",
       "          clearInterval(timer);\n",
       "          console.log(\"Bokeh: ERROR: Unable to run BokehJS code because BokehJS library is missing\");\n",
       "        }\n",
       "      }\n",
       "    }, 10, root)\n",
       "  }\n",
       "})(window);</script>"
      ],
      "text/plain": [
       ":Table   [CoinName,Algorithm,ProofType,TotalCoinSupply,TotalCoinsMined,class]"
      ]
     },
     "execution_count": 46,
     "metadata": {
      "application/vnd.holoviews_exec.v0+json": {
       "id": "1239"
      }
     },
     "output_type": "execute_result"
    }
   ],
   "source": [
    "# Table with tradable cryptos\n",
    "clustered_df.hvplot.table(columns=['CoinName', \"Algorithm\", \"ProofType\", \"TotalCoinSupply\", \"TotalCoinsMined\", \"class\"])"
   ]
  },
  {
   "cell_type": "code",
   "execution_count": 47,
   "metadata": {},
   "outputs": [
    {
     "name": "stdout",
     "output_type": "stream",
     "text": [
      "There are 533 tradable cryptocurrencies.\n"
     ]
    }
   ],
   "source": [
    "# Print the total number of tradable cryptocurrencies\n",
    "total_num_tradable = clustered_df[\"CoinName\"].count()\n",
    "\n",
    "print(f\"There are {total_num_tradable} tradable cryptocurrencies.\")"
   ]
  },
  {
   "cell_type": "markdown",
   "metadata": {},
   "source": [
    "#### Scatter Plot with Tradable Cryptocurrencies"
   ]
  },
  {
   "cell_type": "code",
   "execution_count": 48,
   "metadata": {},
   "outputs": [],
   "source": [
    "# Scale data to create the scatter plot\n",
    "clustered_df['TotalCoinSupply'] = clustered_df['TotalCoinSupply'].astype(\"float\")\n",
    "scaled_two = clustered_df[['TotalCoinSupply', 'TotalCoinsMined']]\n",
    "scaled_two = StandardScaler().fit_transform(scaled_two)\n",
    "scaled_two = pd.DataFrame(scaled_two, columns=['TotalCoinSupply', 'TotalCoinsMined'])"
   ]
  },
  {
   "cell_type": "code",
   "execution_count": 49,
   "metadata": {},
   "outputs": [
    {
     "data": {},
     "metadata": {},
     "output_type": "display_data"
    },
    {
     "data": {
      "application/vnd.holoviews_exec.v0+json": "",
      "text/html": [
       "<div id='1289'>\n",
       "\n",
       "\n",
       "\n",
       "\n",
       "\n",
       "  <div class=\"bk-root\" id=\"1320fcf8-f55c-4741-886d-537cfda3825d\" data-root-id=\"1289\"></div>\n",
       "</div>\n",
       "<script type=\"application/javascript\">(function(root) {\n",
       "  function embed_document(root) {\n",
       "  var docs_json = {\"2058a060-dfcd-4c2c-b3df-a7ffaf834245\":{\"roots\":{\"references\":[{\"attributes\":{\"active_drag\":\"auto\",\"active_inspect\":\"auto\",\"active_multi\":null,\"active_scroll\":\"auto\",\"active_tap\":\"auto\",\"tools\":[{\"id\":\"1293\"},{\"id\":\"1311\"},{\"id\":\"1312\"},{\"id\":\"1313\"},{\"id\":\"1314\"},{\"id\":\"1315\"}]},\"id\":\"1317\",\"type\":\"Toolbar\"},{\"attributes\":{\"fill_alpha\":{\"value\":0.1},\"fill_color\":{\"value\":\"#1f77b3\"},\"line_alpha\":{\"value\":0.1},\"line_color\":{\"value\":\"#1f77b3\"},\"size\":{\"units\":\"screen\",\"value\":5.477225575051661},\"x\":{\"field\":\"TotalCoinsMined\"},\"y\":{\"field\":\"TotalCoinSupply\"}},\"id\":\"1328\",\"type\":\"Scatter\"},{\"attributes\":{\"overlay\":{\"id\":\"1316\"}},\"id\":\"1314\",\"type\":\"BoxZoomTool\"},{\"attributes\":{\"end\":16.11688021506038,\"reset_end\":16.11688021506038,\"reset_start\":-1.6319323987755279,\"start\":-1.6319323987755279,\"tags\":[[[\"TotalCoinSupply\",\"TotalCoinSupply\",null]]]},\"id\":\"1292\",\"type\":\"Range1d\"},{\"attributes\":{},\"id\":\"1311\",\"type\":\"SaveTool\"},{\"attributes\":{},\"id\":\"1313\",\"type\":\"WheelZoomTool\"},{\"attributes\":{},\"id\":\"1312\",\"type\":\"PanTool\"},{\"attributes\":{\"axis\":{\"id\":\"1307\"},\"dimension\":1,\"grid_line_color\":null,\"ticker\":null},\"id\":\"1310\",\"type\":\"Grid\"},{\"attributes\":{},\"id\":\"1308\",\"type\":\"BasicTicker\"},{\"attributes\":{},\"id\":\"1341\",\"type\":\"UnionRenderers\"},{\"attributes\":{\"margin\":[5,5,5,5],\"name\":\"HSpacer02097\",\"sizing_mode\":\"stretch_width\"},\"id\":\"1290\",\"type\":\"Spacer\"},{\"attributes\":{},\"id\":\"1304\",\"type\":\"BasicTicker\"},{\"attributes\":{\"margin\":[5,5,5,5],\"name\":\"HSpacer02098\",\"sizing_mode\":\"stretch_width\"},\"id\":\"1344\",\"type\":\"Spacer\"},{\"attributes\":{\"axis_label\":\"TotalCoinsMined\",\"bounds\":\"auto\",\"formatter\":{\"id\":\"1333\"},\"major_label_orientation\":\"horizontal\",\"ticker\":{\"id\":\"1304\"}},\"id\":\"1303\",\"type\":\"LinearAxis\"},{\"attributes\":{\"source\":{\"id\":\"1324\"}},\"id\":\"1331\",\"type\":\"CDSView\"},{\"attributes\":{},\"id\":\"1333\",\"type\":\"BasicTickFormatter\"},{\"attributes\":{},\"id\":\"1325\",\"type\":\"Selection\"},{\"attributes\":{},\"id\":\"1301\",\"type\":\"LinearScale\"},{\"attributes\":{\"data_source\":{\"id\":\"1324\"},\"glyph\":{\"id\":\"1327\"},\"hover_glyph\":null,\"muted_glyph\":{\"id\":\"1329\"},\"nonselection_glyph\":{\"id\":\"1328\"},\"selection_glyph\":null,\"view\":{\"id\":\"1331\"}},\"id\":\"1330\",\"type\":\"GlyphRenderer\"},{\"attributes\":{\"children\":[{\"id\":\"1290\"},{\"id\":\"1294\"},{\"id\":\"1344\"}],\"margin\":[0,0,0,0],\"name\":\"Row02093\",\"tags\":[\"embedded\"]},\"id\":\"1289\",\"type\":\"Row\"},{\"attributes\":{\"axis\":{\"id\":\"1303\"},\"grid_line_color\":null,\"ticker\":null},\"id\":\"1306\",\"type\":\"Grid\"},{\"attributes\":{\"fill_color\":{\"value\":\"#1f77b3\"},\"line_color\":{\"value\":\"#1f77b3\"},\"size\":{\"units\":\"screen\",\"value\":5.477225575051661},\"x\":{\"field\":\"TotalCoinsMined\"},\"y\":{\"field\":\"TotalCoinSupply\"}},\"id\":\"1327\",\"type\":\"Scatter\"},{\"attributes\":{\"bottom_units\":\"screen\",\"fill_alpha\":0.5,\"fill_color\":\"lightgrey\",\"left_units\":\"screen\",\"level\":\"overlay\",\"line_alpha\":1.0,\"line_color\":\"black\",\"line_dash\":[4,4],\"line_width\":2,\"render_mode\":\"css\",\"right_units\":\"screen\",\"top_units\":\"screen\"},\"id\":\"1316\",\"type\":\"BoxAnnotation\"},{\"attributes\":{\"fill_alpha\":{\"value\":0.2},\"fill_color\":{\"value\":\"#1f77b3\"},\"line_alpha\":{\"value\":0.2},\"line_color\":{\"value\":\"#1f77b3\"},\"size\":{\"units\":\"screen\",\"value\":5.477225575051661},\"x\":{\"field\":\"TotalCoinsMined\"},\"y\":{\"field\":\"TotalCoinSupply\"}},\"id\":\"1329\",\"type\":\"Scatter\"},{\"attributes\":{\"end\":22.54813966188014,\"reset_end\":22.54813966188014,\"reset_start\":-1.183406270009727,\"start\":-1.183406270009727,\"tags\":[[[\"TotalCoinsMined\",\"TotalCoinsMined\",null]]]},\"id\":\"1291\",\"type\":\"Range1d\"},{\"attributes\":{\"callback\":null,\"renderers\":[{\"id\":\"1330\"}],\"tags\":[\"hv_created\"],\"tooltips\":[[\"TotalCoinsMined\",\"@{TotalCoinsMined}\"],[\"TotalCoinSupply\",\"@{TotalCoinSupply}\"]]},\"id\":\"1293\",\"type\":\"HoverTool\"},{\"attributes\":{\"data\":{\"TotalCoinSupply\":{\"__ndarray__\":\"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\",\"dtype\":\"float64\",\"shape\":[533]},\"TotalCoinsMined\":{\"__ndarray__\":\"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\",\"dtype\":\"float64\",\"shape\":[533]}},\"selected\":{\"id\":\"1325\"},\"selection_policy\":{\"id\":\"1341\"}},\"id\":\"1324\",\"type\":\"ColumnDataSource\"},{\"attributes\":{\"align\":null,\"below\":[{\"id\":\"1303\"}],\"center\":[{\"id\":\"1306\"},{\"id\":\"1310\"}],\"left\":[{\"id\":\"1307\"}],\"margin\":null,\"min_border_bottom\":10,\"min_border_left\":10,\"min_border_right\":10,\"min_border_top\":10,\"plot_height\":300,\"plot_width\":700,\"renderers\":[{\"id\":\"1330\"}],\"sizing_mode\":\"fixed\",\"title\":{\"id\":\"1295\"},\"toolbar\":{\"id\":\"1317\"},\"x_range\":{\"id\":\"1291\"},\"x_scale\":{\"id\":\"1299\"},\"y_range\":{\"id\":\"1292\"},\"y_scale\":{\"id\":\"1301\"}},\"id\":\"1294\",\"subtype\":\"Figure\",\"type\":\"Plot\"},{\"attributes\":{\"axis_label\":\"TotalCoinSupply\",\"bounds\":\"auto\",\"formatter\":{\"id\":\"1335\"},\"major_label_orientation\":\"horizontal\",\"ticker\":{\"id\":\"1308\"}},\"id\":\"1307\",\"type\":\"LinearAxis\"},{\"attributes\":{},\"id\":\"1299\",\"type\":\"LinearScale\"},{\"attributes\":{\"text\":\"\",\"text_color\":{\"value\":\"black\"},\"text_font_size\":{\"value\":\"12pt\"}},\"id\":\"1295\",\"type\":\"Title\"},{\"attributes\":{},\"id\":\"1335\",\"type\":\"BasicTickFormatter\"},{\"attributes\":{},\"id\":\"1315\",\"type\":\"ResetTool\"}],\"root_ids\":[\"1289\"]},\"title\":\"Bokeh Application\",\"version\":\"2.0.2\"}};\n",
       "  var render_items = [{\"docid\":\"2058a060-dfcd-4c2c-b3df-a7ffaf834245\",\"root_ids\":[\"1289\"],\"roots\":{\"1289\":\"1320fcf8-f55c-4741-886d-537cfda3825d\"}}];\n",
       "  root.Bokeh.embed.embed_items_notebook(docs_json, render_items);\n",
       "  }\n",
       "if (root.Bokeh !== undefined) {\n",
       "    embed_document(root);\n",
       "  } else {\n",
       "    var attempts = 0;\n",
       "    var timer = setInterval(function(root) {\n",
       "      if (root.Bokeh !== undefined) {\n",
       "        clearInterval(timer);\n",
       "        embed_document(root);\n",
       "      } else if (document.readyState == \"complete\") {\n",
       "        attempts++;\n",
       "        if (attempts > 100) {\n",
       "          clearInterval(timer);\n",
       "          console.log(\"Bokeh: ERROR: Unable to run BokehJS code because BokehJS library is missing\");\n",
       "        }\n",
       "      }\n",
       "    }, 10, root)\n",
       "  }\n",
       "})(window);</script>"
      ],
      "text/plain": [
       ":Scatter   [TotalCoinsMined]   (TotalCoinSupply)"
      ]
     },
     "execution_count": 49,
     "metadata": {
      "application/vnd.holoviews_exec.v0+json": {
       "id": "1289"
      }
     },
     "output_type": "execute_result"
    }
   ],
   "source": [
    "# Plot the scatter with x=\"TotalCoinsMined\" and y=\"TotalCoinSupply\"\n",
    "scaled_two.hvplot.scatter(x=\"TotalCoinsMined\", y=\"TotalCoinSupply\")"
   ]
  },
  {
   "cell_type": "code",
   "execution_count": null,
   "metadata": {},
   "outputs": [],
   "source": []
  }
 ],
 "metadata": {
  "file_extension": ".py",
  "kernelspec": {
   "display_name": "Python 3",
   "language": "python",
   "name": "python3"
  },
  "language_info": {
   "codemirror_mode": {
    "name": "ipython",
    "version": 3
   },
   "file_extension": ".py",
   "mimetype": "text/x-python",
   "name": "python",
   "nbconvert_exporter": "python",
   "pygments_lexer": "ipython3",
   "version": "3.8.3"
  },
  "mimetype": "text/x-python",
  "name": "python",
  "npconvert_exporter": "python",
  "pygments_lexer": "ipython3",
  "version": 3
 },
 "nbformat": 4,
 "nbformat_minor": 4
}
